{
 "cells": [
  {
   "cell_type": "code",
   "id": "initial_id",
   "metadata": {
    "collapsed": true,
    "ExecuteTime": {
     "end_time": "2024-05-22T12:39:47.988746Z",
     "start_time": "2024-05-22T12:39:43.666744Z"
    }
   },
   "source": [
    "from basicsr.archs.rrdbnet_arch import RRDBNet\n",
    "from realesrgan import RealESRGANer\n",
    "from realesrgan.archs.srvgg_arch import SRVGGNetCompact"
   ],
   "outputs": [],
   "execution_count": 1
  },
  {
   "metadata": {
    "ExecuteTime": {
     "end_time": "2024-05-22T12:47:39.044746Z",
     "start_time": "2024-05-22T12:47:38.536750Z"
    }
   },
   "cell_type": "code",
   "source": [
    "model_name = 'RealESRGAN_x2plus'  # siglip api shows x2 is best, x4 is too big\n",
    "if model_name == 'RealESRGAN_x4plus':  # x4 RRDBNet model\n",
    "    model = RRDBNet(num_in_ch=3, num_out_ch=3, num_feat=64, num_block=23, num_grow_ch=32, scale=4)\n",
    "    netscale = 4\n",
    "elif model_name == 'RealESRGAN_x2plus':  # x2 RRDBNet model\n",
    "    model = RRDBNet(num_in_ch=3, num_out_ch=3, num_feat=64, num_block=23, num_grow_ch=32, scale=2)\n",
    "    netscale = 2\n",
    "elif model_name == 'realesr-general-x4v3':  # x4 VGG-style model (S size)\n",
    "    model = SRVGGNetCompact(num_in_ch=3, num_out_ch=3, num_feat=64, num_conv=32, upscale=4, act_type='prelu')\n",
    "    netscale = 4\n",
    "\n",
    "upsampler = RealESRGANer(\n",
    "    scale=netscale,\n",
    "    model_path=model_name+ '.pth',\n",
    "    model=model,\n",
    "    half=True)"
   ],
   "id": "35f2f74dd6313a86",
   "outputs": [],
   "execution_count": 20
  },
  {
   "metadata": {
    "ExecuteTime": {
     "end_time": "2024-05-22T12:47:42.816748Z",
     "start_time": "2024-05-22T12:47:42.719751Z"
    }
   },
   "cell_type": "code",
   "source": [
    "from PIL import Image\n",
    "import numpy as np\n",
    "img = Image.open('../green rocket.jpg')\n",
    "img = np.asarray(img)\n",
    "scale = 2\n",
    "output, _ = upsampler.enhance(img, outscale=scale)"
   ],
   "id": "c1e1fda2945e1464",
   "outputs": [],
   "execution_count": 21
  },
  {
   "metadata": {
    "ExecuteTime": {
     "end_time": "2024-05-22T12:47:43.757747Z",
     "start_time": "2024-05-22T12:47:43.743748Z"
    }
   },
   "cell_type": "code",
   "source": "output = Image.fromarray(output)",
   "id": "94f99d9a6828245f",
   "outputs": [],
   "execution_count": 22
  },
  {
   "metadata": {
    "ExecuteTime": {
     "end_time": "2024-05-22T12:47:46.886747Z",
     "start_time": "2024-05-22T12:47:46.868751Z"
    }
   },
   "cell_type": "code",
   "source": "output.save('green_rocket_x2.jpg')",
   "id": "472fced8e80853f4",
   "outputs": [],
   "execution_count": 23
  }
 ],
 "metadata": {
  "kernelspec": {
   "display_name": "Python 3",
   "language": "python",
   "name": "python3"
  },
  "language_info": {
   "codemirror_mode": {
    "name": "ipython",
    "version": 2
   },
   "file_extension": ".py",
   "mimetype": "text/x-python",
   "name": "python",
   "nbconvert_exporter": "python",
   "pygments_lexer": "ipython2",
   "version": "2.7.6"
  }
 },
 "nbformat": 4,
 "nbformat_minor": 5
}
