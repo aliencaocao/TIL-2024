{
 "cells": [
  {
   "cell_type": "code",
   "id": "initial_id",
   "metadata": {
    "collapsed": true,
    "ExecuteTime": {
     "end_time": "2024-05-21T14:56:48.957508Z",
     "start_time": "2024-05-21T14:56:46.282745Z"
    }
   },
   "source": "from ultralytics import YOLO",
   "outputs": [],
   "execution_count": 2
  },
  {
   "metadata": {
    "ExecuteTime": {
     "end_time": "2024-05-21T14:56:49.052204Z",
     "start_time": "2024-05-21T14:56:48.959507Z"
    }
   },
   "cell_type": "code",
   "source": "pt_model = YOLO(\"runs/detect/yolov9c 0.99 0.769/weights/best.pt\")  # load a pretrained model (recommended for training)",
   "id": "3ee1c22ed716d8",
   "outputs": [],
   "execution_count": 3
  },
  {
   "metadata": {
    "ExecuteTime": {
     "end_time": "2024-05-21T15:29:30.281878Z",
     "start_time": "2024-05-21T15:29:30.261292Z"
    }
   },
   "cell_type": "code",
   "source": [
    "from PIL import Image, ImageDraw\n",
    "im1 = Image.open('../../data/images/image_5104.jpg')\n",
    "im2 = Image.open('../../data/images/image_5103.jpg')"
   ],
   "id": "519edd47a61897b0",
   "outputs": [],
   "execution_count": 66
  },
  {
   "metadata": {
    "ExecuteTime": {
     "end_time": "2024-05-21T15:29:31.252871Z",
     "start_time": "2024-05-21T15:29:31.065953Z"
    }
   },
   "cell_type": "code",
   "source": [
    "result = pt_model.predict([im1, im2], imgsz=1600, conf=0.365, iou=0.1, max_det=10)  # max F1, try augment=True and iou\n",
    "result = [(r.boxes.xyxy.tolist(), r.boxes.conf.tolist()) for r in result]\n",
    "result = [tuple(zip(*r)) for r in result]  # list of tuple[box, conf] in each image in xyxy format"
   ],
   "id": "9f96f9e359db4a92",
   "outputs": [
    {
     "name": "stdout",
     "output_type": "stream",
     "text": [
      "\n",
      "0: 928x1600 5 targets, 65.5ms\n",
      "1: 928x1600 7 targets, 65.5ms\n",
      "Speed: 7.0ms preprocess, 65.5ms inference, 1.5ms postprocess per image at shape (1, 3, 928, 1600)\n"
     ]
    }
   ],
   "execution_count": 67
  },
  {
   "metadata": {
    "ExecuteTime": {
     "end_time": "2024-05-21T15:29:32.811899Z",
     "start_time": "2024-05-21T15:29:32.060250Z"
    }
   },
   "cell_type": "code",
   "source": [
    "# plot\n",
    "for im, boxes in zip([im1, im2], result):\n",
    "    im = im.copy()\n",
    "    draw = ImageDraw.Draw(im)\n",
    "    for (x1, y1, x2, y2), conf in boxes:\n",
    "        draw.rectangle(xy=((x1, y1), (x2, y2)), outline='red')\n",
    "        draw.text((x1, y1), text=f'{conf:.2f}', fill='red')\n",
    "    im.show()"
   ],
   "id": "7597d8bcbd40d45a",
   "outputs": [],
   "execution_count": 68
  }
 ],
 "metadata": {
  "kernelspec": {
   "display_name": "Python 3",
   "language": "python",
   "name": "python3"
  },
  "language_info": {
   "codemirror_mode": {
    "name": "ipython",
    "version": 2
   },
   "file_extension": ".py",
   "mimetype": "text/x-python",
   "name": "python",
   "nbconvert_exporter": "python",
   "pygments_lexer": "ipython2",
   "version": "2.7.6"
  }
 },
 "nbformat": 4,
 "nbformat_minor": 5
}
