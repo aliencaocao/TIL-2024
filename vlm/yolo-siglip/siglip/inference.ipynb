{
 "cells": [
  {
   "cell_type": "code",
   "id": "initial_id",
   "metadata": {
    "collapsed": true,
    "ExecuteTime": {
     "end_time": "2024-05-21T16:06:17.943465Z",
     "start_time": "2024-05-21T16:06:13.882821Z"
    }
   },
   "source": [
    "import torch\n",
    "import torch.nn.functional as F\n",
    "from PIL import Image\n",
    "from open_clip import create_model_from_pretrained, get_tokenizer # works on open-clip-torch>=2.23.0, timm>=0.9.8\n",
    "import os"
   ],
   "outputs": [],
   "execution_count": 1
  },
  {
   "metadata": {
    "ExecuteTime": {
     "end_time": "2024-05-21T16:06:27.485538Z",
     "start_time": "2024-05-21T16:06:17.944466Z"
    }
   },
   "cell_type": "code",
   "source": [
    "model, preprocess = create_model_from_pretrained(model_name='ViT-SO400M-14-SigLIP-384', pretrained='ViT-SO400M-14-SigLIP-384/open_clip_pytorch_model.bin', cache_dir='ViT-SO400M-14-SigLIP-384', precision='fp16')  # precision='fp16' can slightly impact accuracy but halves vram (5.7G to 2.8G)\n",
    "model.to('cuda')\n",
    "model.eval()\n",
    "if os.name != 'nt':\n",
    "    model = torch.compile(model, backend=\"inductor\")\n",
    "tokenizer = get_tokenizer('ViT-SO400M-14-SigLIP-384')"
   ],
   "id": "98686eef52d7d550",
   "outputs": [],
   "execution_count": 2
  },
  {
   "metadata": {
    "ExecuteTime": {
     "end_time": "2024-05-21T16:06:27.501384Z",
     "start_time": "2024-05-21T16:06:27.486541Z"
    }
   },
   "cell_type": "code",
   "source": [
    "def load_img(path):\n",
    "    image = Image.open(path)\n",
    "    image = preprocess(image).unsqueeze(0)\n",
    "    image.type(torch.float16)\n",
    "    image = image.to('cuda')\n",
    "    return image"
   ],
   "id": "ff202aed47ed047d",
   "outputs": [],
   "execution_count": 3
  },
  {
   "metadata": {
    "ExecuteTime": {
     "end_time": "2024-05-21T16:06:28.045305Z",
     "start_time": "2024-05-21T16:06:27.502384Z"
    }
   },
   "cell_type": "code",
   "source": [
    "image1 = load_img('../grey rocket.jpg')\n",
    "image2 = load_img('../green rocket.jpg')\n",
    "image3 = load_img('../red blue and white light plane.jpg')\n",
    "image_batched = torch.cat([image1, image2, image3], dim=0)\n",
    "\n",
    "labels_list = [\"grey missile\"]\n",
    "text = tokenizer(labels_list, context_length=model.context_length).to('cuda')\n",
    "\n",
    "with torch.no_grad(), torch.cuda.amp.autocast():\n",
    "    image_features = model.encode_image(image_batched)\n",
    "    text_features = model.encode_text(text)\n",
    "    image_features = F.normalize(image_features, dim=-1)\n",
    "    text_features = F.normalize(text_features, dim=-1)\n",
    "    text_similarity = torch.sigmoid(image_features @ text_features.T * model.logit_scale.exp() + model.logit_bias)\n",
    "    best_match_bbox_idx = text_similarity.argmax(dim=0)"
   ],
   "id": "de594bd65bc1b865",
   "outputs": [
    {
     "name": "stderr",
     "output_type": "stream",
     "text": [
      "C:\\Program Files\\Python39\\lib\\site-packages\\timm\\models\\vision_transformer.py:92: UserWarning: 1Torch was not compiled with flash attention. (Triggered internally at C:\\actions-runner\\_work\\pytorch\\pytorch\\builder\\windows\\pytorch\\aten\\src\\ATen\\native\\transformers\\cuda\\sdp_utils.cpp:455.)\n",
      "  x = F.scaled_dot_product_attention(\n"
     ]
    }
   ],
   "execution_count": 4
  }
 ],
 "metadata": {
  "kernelspec": {
   "display_name": "Python 3",
   "language": "python",
   "name": "python3"
  },
  "language_info": {
   "codemirror_mode": {
    "name": "ipython",
    "version": 2
   },
   "file_extension": ".py",
   "mimetype": "text/x-python",
   "name": "python",
   "nbconvert_exporter": "python",
   "pygments_lexer": "ipython2",
   "version": "2.7.6"
  }
 },
 "nbformat": 4,
 "nbformat_minor": 5
}
