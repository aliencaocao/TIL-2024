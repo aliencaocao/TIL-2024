{
 "cells": [
  {
   "metadata": {
    "ExecuteTime": {
     "end_time": "2024-05-22T05:35:50.359737Z",
     "start_time": "2024-05-22T05:35:48.434911Z"
    }
   },
   "cell_type": "code",
   "source": [
    "from transformers import pipeline\n",
    "from PIL import Image\n",
    "import torch\n",
    "image_classifier = pipeline(task=\"zero-shot-image-classification\", model=\"../siglip-so400m-patch14-384\", batch_size=4, device='cuda')"
   ],
   "id": "bf905eddfd53135e",
   "outputs": [],
   "execution_count": 2
  },
  {
   "metadata": {
    "ExecuteTime": {
     "end_time": "2024-05-22T05:39:55.768011Z",
     "start_time": "2024-05-22T05:39:55.593010Z"
    }
   },
   "cell_type": "code",
   "source": [
    "image = Image.open('../crop.jpg')\n",
    "\n",
    "labels_list = ['white and black drone']\n",
    "outputs = image_classifier([image, image], candidate_labels=labels_list)"
   ],
   "id": "de594bd65bc1b865",
   "outputs": [],
   "execution_count": 8
  },
  {
   "metadata": {
    "ExecuteTime": {
     "end_time": "2024-05-22T05:39:56.286670Z",
     "start_time": "2024-05-22T05:39:56.268082Z"
    }
   },
   "cell_type": "code",
   "source": "outputs",
   "id": "2104f665010afea3",
   "outputs": [
    {
     "data": {
      "text/plain": [
       "[[{'score': 0.44690629839897156, 'label': 'white and black drone'}],\n",
       " [{'score': 0.44690629839897156, 'label': 'white and black drone'}]]"
      ]
     },
     "execution_count": 9,
     "metadata": {},
     "output_type": "execute_result"
    }
   ],
   "execution_count": 9
  }
 ],
 "metadata": {
  "kernelspec": {
   "display_name": "Python 3",
   "language": "python",
   "name": "python3"
  },
  "language_info": {
   "codemirror_mode": {
    "name": "ipython",
    "version": 2
   },
   "file_extension": ".py",
   "mimetype": "text/x-python",
   "name": "python",
   "nbconvert_exporter": "python",
   "pygments_lexer": "ipython2",
   "version": "2.7.6"
  }
 },
 "nbformat": 4,
 "nbformat_minor": 5
}
