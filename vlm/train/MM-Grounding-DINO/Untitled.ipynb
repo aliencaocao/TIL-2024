{
 "cells": [
  {
   "cell_type": "markdown",
   "id": "fb05ffac-6218-43a1-8d9c-2a2c9a13fa75",
   "metadata": {},
   "source": [
    "# MM Grounding DINO"
   ]
  },
  {
   "cell_type": "markdown",
   "id": "8e926546-14f0-4f14-8b58-87c2c7357bd8",
   "metadata": {},
   "source": [
    "## Download & install dependencies"
   ]
  },
  {
   "cell_type": "code",
   "execution_count": null,
   "id": "4d73476b-eb42-4f60-8662-d912bb307b3e",
   "metadata": {},
   "outputs": [],
   "source": [
    "%cd mmdetection\n",
    "!pip install -r requirements/multimodal.txt\n",
    "!pip install emoji ddd-dataset\n",
    "!pip install git+https://github.com/lvis-dataset/lvis-api.git\n",
    "!pip install importlib-metadata"
   ]
  },
  {
   "cell_type": "markdown",
   "id": "4bf3775d-b1e5-40b4-b2e1-d99b1e5521b3",
   "metadata": {},
   "source": [
    "### Download BERT & NLTK weights for offline use (only use if no network access)"
   ]
  },
  {
   "cell_type": "code",
   "execution_count": null,
   "id": "96c4d5c0-e47a-494b-bf7d-917f9fff4814",
   "metadata": {},
   "outputs": [],
   "source": [
    "from transformers import BertConfig, BertModel\n",
    "from transformers import AutoTokenizer\n",
    "\n",
    "config = BertConfig.from_pretrained(\"bert-base-uncased\")\n",
    "model = BertModel.from_pretrained(\"bert-base-uncased\", add_pooling_layer=False, config=config)\n",
    "tokenizer = AutoTokenizer.from_pretrained(\"bert-base-uncased\")\n",
    "\n",
    "# modify path below\n",
    "# then modify `lang_model_path` in configs/mm_grounding_dino/grounding_dino_swin-t_pretrain_obj365.py\n",
    "config.save_pretrained(\"your path/bert-base-uncased\")\n",
    "model.save_pretrained(\"your path/bert-base-uncased\")\n",
    "tokenizer.save_pretrained(\"your path/bert-base-uncased\")"
   ]
  },
  {
   "cell_type": "code",
   "execution_count": null,
   "id": "fa66291b-bad1-463c-8e15-7456e29aa639",
   "metadata": {},
   "outputs": [],
   "source": [
    "import nltk\n",
    "nltk.download('punkt', download_dir='~/nltk_data')\n",
    "nltk.download('averaged_perceptron_tagger', download_dir='~/nltk_data')"
   ]
  },
  {
   "cell_type": "markdown",
   "id": "e7bdc249-2881-4798-a2ce-eecfc5c4b4f9",
   "metadata": {},
   "source": [
    "### Download MM Grounding DINO weights"
   ]
  },
  {
   "cell_type": "code",
   "execution_count": 2,
   "id": "9a1a3f2c-d5f8-47fa-b721-e063a501c050",
   "metadata": {
    "tags": []
   },
   "outputs": [
    {
     "name": "stdout",
     "output_type": "stream",
     "text": [
      "mkdir: cannot create directory ‘weights’: File exists\n"
     ]
    }
   ],
   "source": [
    "!mkdir weights\n",
    "!wget \\\n",
    "    https://download.openmmlab.com/mmdetection/v3.0/mm_grounding_dino/grounding_dino_swin-l_pretrain_all/grounding_dino_swin-l_pretrain_all-56d69e78.pth \\\n",
    "    -o weights/grounding_dino_swin-l_pretrain_all-56d69e78.pth"
   ]
  },
  {
   "cell_type": "markdown",
   "id": "2dddc30b-3e0b-4181-83b7-55de5e2cc8c2",
   "metadata": {},
   "source": [
    "## Organise data"
   ]
  },
  {
   "cell_type": "code",
   "execution_count": 3,
   "id": "ba186728-bc2f-4fb1-8b23-98c22ceaed1d",
   "metadata": {
    "tags": []
   },
   "outputs": [
    {
     "name": "stdout",
     "output_type": "stream",
     "text": [
      "/home/jupyter/TIL-2024/vlm/train/MM-Grounding-DINO/mmdetection\n",
      "Traceback (most recent call last):\n",
      "  File \"/home/jupyter/TIL-2024/vlm/train/MM-Grounding-DINO/mmdetection/demo/image_demo.py\", line 63, in <module>\n",
      "    from mmdet.apis import DetInferencer\n",
      "  File \"/home/jupyter/TIL-2024/vlm/train/MM-Grounding-DINO/mmdetection/mmdet/__init__.py\", line 16, in <module>\n",
      "    assert (mmcv_version >= digit_version(mmcv_minimum_version)\n",
      "            ^^^^^^^^^^^^^^^^^^^^^^^^^^^^^^^^^^^^^^^^^^^^^^^^^^^\n",
      "AssertionError: MMCV==2.2.0 is used but incompatible. Please install mmcv>=2.0.0rc4, <2.2.0.\n"
     ]
    }
   ],
   "source": [
    "%cd ~/TIL-2024/vlm/train/MM-Grounding-DINO/mmdetection\n",
    "!python demo/image_demo.py"
   ]
  },
  {
   "cell_type": "code",
   "execution_count": null,
   "id": "e6d65c62-4cee-4981-91d0-d3ba5dcaac4a",
   "metadata": {},
   "outputs": [],
   "source": []
  }
 ],
 "metadata": {
  "environment": {
   "kernel": "conda-env-mm-grounding-dino-train-mm-grounding-dino-train",
   "name": "workbench-notebooks.m120",
   "type": "gcloud",
   "uri": "us-docker.pkg.dev/deeplearning-platform-release/gcr.io/workbench-notebooks:m120"
  },
  "kernelspec": {
   "display_name": "mm-grounding-dino-train",
   "language": "python",
   "name": "conda-env-mm-grounding-dino-train-mm-grounding-dino-train"
  },
  "language_info": {
   "codemirror_mode": {
    "name": "ipython",
    "version": 3
   },
   "file_extension": ".py",
   "mimetype": "text/x-python",
   "name": "python",
   "nbconvert_exporter": "python",
   "pygments_lexer": "ipython3",
   "version": "3.12.3"
  }
 },
 "nbformat": 4,
 "nbformat_minor": 5
}
