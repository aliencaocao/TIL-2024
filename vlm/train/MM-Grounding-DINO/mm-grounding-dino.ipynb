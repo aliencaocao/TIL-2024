{
 "cells": [
  {
   "cell_type": "markdown",
   "id": "a9e318ad-5ae7-4a79-8326-26affdfb68cb",
   "metadata": {},
   "source": [
    "# MM Grounding DINO"
   ]
  },
  {
   "cell_type": "markdown",
   "id": "14f806b8-e755-476b-94a9-2fe948c546d1",
   "metadata": {},
   "source": [
    "## Download & install dependencies"
   ]
  },
  {
   "cell_type": "code",
   "execution_count": null,
   "id": "6f715f52-06dc-4da1-9373-7bf640f1eb1b",
   "metadata": {},
   "outputs": [],
   "source": [
    "%cd mmdetection\n",
    "!pip install -r requirements/multimodal.txt\n",
    "!pip install emoji ddd-dataset\n",
    "!pip install git+https://github.com/lvis-dataset/lvis-api.git\n",
    "!pip install importlib-metadata"
   ]
  },
  {
   "cell_type": "markdown",
   "id": "5db10009-f9d1-498e-b27a-317a17c5f81b",
   "metadata": {},
   "source": [
    "### Download BERT & NLTK weights for offline use (only use if no network access)"
   ]
  },
  {
   "cell_type": "code",
   "execution_count": null,
   "id": "5d1e4e70-7957-4214-ab40-62584b5ad1b0",
   "metadata": {},
   "outputs": [],
   "source": [
    "from transformers import BertConfig, BertModel\n",
    "from transformers import AutoTokenizer\n",
    "\n",
    "config = BertConfig.from_pretrained(\"bert-base-uncased\")\n",
    "model = BertModel.from_pretrained(\"bert-base-uncased\", add_pooling_layer=False, config=config)\n",
    "tokenizer = AutoTokenizer.from_pretrained(\"bert-base-uncased\")\n",
    "\n",
    "# modify path below\n",
    "# then modify `lang_model_path` in configs/mm_grounding_dino/grounding_dino_swin-t_pretrain_obj365.py\n",
    "config.save_pretrained(\"your path/bert-base-uncased\")\n",
    "model.save_pretrained(\"your path/bert-base-uncased\")\n",
    "tokenizer.save_pretrained(\"your path/bert-base-uncased\")"
   ]
  },
  {
   "cell_type": "code",
   "execution_count": null,
   "id": "86d9ca4e-4963-4d2c-bdac-d772f0162519",
   "metadata": {},
   "outputs": [],
   "source": [
    "import nltk\n",
    "nltk.download('punkt', download_dir='~/nltk_data')\n",
    "nltk.download('averaged_perceptron_tagger', download_dir='~/nltk_data')"
   ]
  },
  {
   "cell_type": "markdown",
   "id": "b10ef883-3639-4ec5-9ee4-caf8d0f22688",
   "metadata": {},
   "source": [
    "### Download MM Grounding DINO weights"
   ]
  },
  {
   "cell_type": "code",
   "execution_count": 2,
   "id": "b054d506-e1a8-4e67-977c-b04970f1ffc6",
   "metadata": {
    "tags": []
   },
   "outputs": [
    {
     "name": "stdout",
     "output_type": "stream",
     "text": [
      "mkdir: cannot create directory ‘weights’: File exists\n"
     ]
    }
   ],
   "source": [
    "!mkdir weights\n",
    "!wget \\\n",
    "    https://download.openmmlab.com/mmdetection/v3.0/mm_grounding_dino/grounding_dino_swin-l_pretrain_all/grounding_dino_swin-l_pretrain_all-56d69e78.pth \\\n",
    "    -o weights/grounding_dino_swin-l_pretrain_all-56d69e78.pth"
   ]
  },
  {
   "cell_type": "markdown",
   "id": "01b48a07-60d4-4e6c-aeae-005103ca6e72",
   "metadata": {},
   "source": [
    "## Organise data"
   ]
  },
  {
   "cell_type": "code",
   "execution_count": 1,
   "id": "1d79e3d3-b051-4910-809f-54616830ca05",
   "metadata": {
    "tags": []
   },
   "outputs": [
    {
     "name": "stdout",
     "output_type": "stream",
     "text": [
      "/home/jupyter/TIL-2024/vlm/train/MM-Grounding-DINO/mmdetection\n",
      "Traceback (most recent call last):\n",
      "  File \"/home/jupyter/TIL-2024/vlm/train/MM-Grounding-DINO/mmdetection/demo/image_demo.py\", line 61, in <module>\n",
      "    from mmengine.logging import print_log\n",
      "ModuleNotFoundError: No module named 'mmengine'\n"
     ]
    }
   ],
   "source": [
    "%cd ~/TIL-2024/vlm/train/MM-Grounding-DINO/mmdetection\n",
    "!python demo/image_demo.py"
   ]
  },
  {
   "cell_type": "code",
   "execution_count": null,
   "id": "c8bb86da-66b8-4760-b8e6-120d552d72bd",
   "metadata": {},
   "outputs": [],
   "source": []
  }
 ],
 "metadata": {
  "environment": {
   "kernel": "conda-base-py",
   "name": "workbench-notebooks.m120",
   "type": "gcloud",
   "uri": "us-docker.pkg.dev/deeplearning-platform-release/gcr.io/workbench-notebooks:m120"
  },
  "kernelspec": {
   "display_name": "Python 3 (ipykernel)",
   "language": "python",
   "name": "conda-base-py"
  },
  "language_info": {
   "codemirror_mode": {
    "name": "ipython",
    "version": 3
   },
   "file_extension": ".py",
   "mimetype": "text/x-python",
   "name": "python",
   "nbconvert_exporter": "python",
   "pygments_lexer": "ipython3",
   "version": "3.10.14"
  }
 },
 "nbformat": 4,
 "nbformat_minor": 5
}
