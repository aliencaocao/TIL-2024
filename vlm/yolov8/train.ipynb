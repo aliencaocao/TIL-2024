{
 "cells": [
  {
   "cell_type": "code",
   "id": "initial_id",
   "metadata": {
    "collapsed": true,
    "ExecuteTime": {
     "end_time": "2024-05-21T06:09:56.788688Z",
     "start_time": "2024-05-21T06:09:46.754732Z"
    }
   },
   "source": [
    "from ultralytics import YOLO\n",
    "model = YOLO(\"yolov8s.pt\")  # load a pretrained model (recommended for training)"
   ],
   "outputs": [
    {
     "name": "stdout",
     "output_type": "stream",
     "text": [
      "Downloading https://github.com/ultralytics/assets/releases/download/v8.2.0/yolov8s.pt to 'yolov8s.pt'...\n"
     ]
    },
    {
     "name": "stderr",
     "output_type": "stream",
     "text": [
      "100%|██████████| 21.5M/21.5M [00:01<00:00, 18.7MB/s]\n"
     ]
    }
   ],
   "execution_count": 1
  },
  {
   "metadata": {
    "ExecuteTime": {
     "end_time": "2024-05-21T07:21:35.175376Z",
     "start_time": "2024-05-21T06:09:56.790599Z"
    }
   },
   "cell_type": "code",
   "source": [
    "# Train the model\n",
    "results = model.train(data=\"til.yaml\", epochs=100, imgsz=640, single_cls=True, save=True, batch=6, patience=3, save_period=1, cos_lr=True, box=7.5, cls=0.75, plots=True, amp=False)"
   ],
   "id": "6eda62af638e6c5b",
   "outputs": [
    {
     "name": "stdout",
     "output_type": "stream",
     "text": [
      "Ultralytics YOLOv8.2.18  Python-3.9.13 torch-2.3.0+cu121 CUDA:0 (NVIDIA GeForce GTX 1650, 4096MiB)\n",
      "\u001B[34m\u001B[1mengine\\trainer: \u001B[0mtask=detect, mode=train, model=yolov8s.pt, data=til.yaml, epochs=100, time=None, patience=3, batch=6, imgsz=640, save=True, save_period=1, cache=False, device=None, workers=8, project=None, name=train, exist_ok=False, pretrained=True, optimizer=auto, verbose=True, seed=0, deterministic=True, single_cls=True, rect=False, cos_lr=True, close_mosaic=10, resume=False, amp=False, fraction=1.0, profile=False, freeze=None, multi_scale=False, overlap_mask=True, mask_ratio=4, dropout=0.0, val=True, split=val, save_json=False, save_hybrid=False, conf=None, iou=0.7, max_det=300, half=False, dnn=False, plots=True, source=None, vid_stride=1, stream_buffer=False, visualize=False, augment=False, agnostic_nms=False, classes=None, retina_masks=False, embed=None, show=False, save_frames=False, save_txt=False, save_conf=False, save_crop=False, show_labels=True, show_conf=True, show_boxes=True, line_width=None, format=torchscript, keras=False, optimize=False, int8=False, dynamic=False, simplify=False, opset=None, workspace=4, nms=False, lr0=0.01, lrf=0.01, momentum=0.937, weight_decay=0.0005, warmup_epochs=3.0, warmup_momentum=0.8, warmup_bias_lr=0.1, box=7.5, cls=0.75, dfl=1.5, pose=12.0, kobj=1.0, label_smoothing=0.0, nbs=64, hsv_h=0.015, hsv_s=0.7, hsv_v=0.4, degrees=0.0, translate=0.1, scale=0.5, shear=0.0, perspective=0.0, flipud=0.0, fliplr=0.5, bgr=0.0, mosaic=1.0, mixup=0.0, copy_paste=0.0, auto_augment=randaugment, erasing=0.4, crop_fraction=1.0, cfg=None, tracker=botsort.yaml, save_dir=runs\\detect\\train\n",
      "Overriding model.yaml nc=80 with nc=1\n",
      "\n",
      "                   from  n    params  module                                       arguments                     \n",
      "  0                  -1  1       928  ultralytics.nn.modules.conv.Conv             [3, 32, 3, 2]                 \n",
      "  1                  -1  1     18560  ultralytics.nn.modules.conv.Conv             [32, 64, 3, 2]                \n",
      "  2                  -1  1     29056  ultralytics.nn.modules.block.C2f             [64, 64, 1, True]             \n",
      "  3                  -1  1     73984  ultralytics.nn.modules.conv.Conv             [64, 128, 3, 2]               \n",
      "  4                  -1  2    197632  ultralytics.nn.modules.block.C2f             [128, 128, 2, True]           \n",
      "  5                  -1  1    295424  ultralytics.nn.modules.conv.Conv             [128, 256, 3, 2]              \n",
      "  6                  -1  2    788480  ultralytics.nn.modules.block.C2f             [256, 256, 2, True]           \n",
      "  7                  -1  1   1180672  ultralytics.nn.modules.conv.Conv             [256, 512, 3, 2]              \n",
      "  8                  -1  1   1838080  ultralytics.nn.modules.block.C2f             [512, 512, 1, True]           \n",
      "  9                  -1  1    656896  ultralytics.nn.modules.block.SPPF            [512, 512, 5]                 \n",
      " 10                  -1  1         0  torch.nn.modules.upsampling.Upsample         [None, 2, 'nearest']          \n",
      " 11             [-1, 6]  1         0  ultralytics.nn.modules.conv.Concat           [1]                           \n",
      " 12                  -1  1    591360  ultralytics.nn.modules.block.C2f             [768, 256, 1]                 \n",
      " 13                  -1  1         0  torch.nn.modules.upsampling.Upsample         [None, 2, 'nearest']          \n",
      " 14             [-1, 4]  1         0  ultralytics.nn.modules.conv.Concat           [1]                           \n",
      " 15                  -1  1    148224  ultralytics.nn.modules.block.C2f             [384, 128, 1]                 \n",
      " 16                  -1  1    147712  ultralytics.nn.modules.conv.Conv             [128, 128, 3, 2]              \n",
      " 17            [-1, 12]  1         0  ultralytics.nn.modules.conv.Concat           [1]                           \n",
      " 18                  -1  1    493056  ultralytics.nn.modules.block.C2f             [384, 256, 1]                 \n",
      " 19                  -1  1    590336  ultralytics.nn.modules.conv.Conv             [256, 256, 3, 2]              \n",
      " 20             [-1, 9]  1         0  ultralytics.nn.modules.conv.Concat           [1]                           \n",
      " 21                  -1  1   1969152  ultralytics.nn.modules.block.C2f             [768, 512, 1]                 \n",
      " 22        [15, 18, 21]  1   2116435  ultralytics.nn.modules.head.Detect           [1, [128, 256, 512]]          \n",
      "Model summary: 225 layers, 11135987 parameters, 11135971 gradients, 28.6 GFLOPs\n",
      "\n",
      "Transferred 349/355 items from pretrained weights\n",
      "\u001B[34m\u001B[1mTensorBoard: \u001B[0mStart with 'tensorboard --logdir runs\\detect\\train', view at http://localhost:6006/\n",
      "Freezing layer 'model.22.dfl.conv.weight'\n"
     ]
    },
    {
     "name": "stderr",
     "output_type": "stream",
     "text": [
      "\u001B[34m\u001B[1mtrain: \u001B[0mScanning D:\\PycharmProjects\\TIL-2024\\data\\train\\labels.cache... 4086 images, 0 backgrounds, 0 corrupt: 100%|██████████| 4086/4086 [00:00<?, ?it/s]\n",
      "\u001B[34m\u001B[1mval: \u001B[0mScanning D:\\PycharmProjects\\TIL-2024\\data\\val\\labels.cache... 1021 images, 0 backgrounds, 0 corrupt: 100%|██████████| 1021/1021 [00:00<?, ?it/s]\n"
     ]
    },
    {
     "name": "stdout",
     "output_type": "stream",
     "text": [
      "Plotting labels to runs\\detect\\train\\labels.jpg... \n",
      "\u001B[34m\u001B[1moptimizer:\u001B[0m 'optimizer=auto' found, ignoring 'lr0=0.01' and 'momentum=0.937' and determining best 'optimizer', 'lr0' and 'momentum' automatically... \n",
      "\u001B[34m\u001B[1moptimizer:\u001B[0m AdamW(lr=0.002, momentum=0.9) with parameter groups 57 weight(decay=0.0), 64 weight(decay=0.000515625), 63 bias(decay=0.0)\n",
      "\u001B[34m\u001B[1mTensorBoard: \u001B[0mmodel graph visualization added \n",
      "Image sizes 640 train, 640 val\n",
      "Using 8 dataloader workers\n",
      "Logging results to \u001B[1mruns\\detect\\train\u001B[0m\n",
      "Starting training for 100 epochs...\n",
      "\n",
      "      Epoch    GPU_mem   box_loss   cls_loss   dfl_loss  Instances       Size\n"
     ]
    },
    {
     "name": "stderr",
     "output_type": "stream",
     "text": [
      "  0%|          | 0/681 [00:00<?, ?it/s]D:\\Program Files\\Python39\\lib\\site-packages\\torch\\autograd\\graph.py:744: UserWarning: Plan failed with a cudnnException: CUDNN_BACKEND_EXECUTION_PLAN_DESCRIPTOR: cudnnFinalize Descriptor Failed cudnn_status: CUDNN_STATUS_NOT_SUPPORTED (Triggered internally at C:\\actions-runner\\_work\\pytorch\\pytorch\\builder\\windows\\pytorch\\aten\\src\\ATen\\native\\cudnn\\Conv_v8.cpp:919.)\n",
      "  return Variable._execution_engine.run_backward(  # Calls into the C++ engine to run the backward pass\n",
      "      1/100      3.06G      1.276      1.197     0.9107         93        640: 100%|██████████| 681/681 [04:58<00:00,  2.28it/s]\n",
      "                 Class     Images  Instances      Box(P          R      mAP50  mAP50-95): 100%|██████████| 86/86 [00:41<00:00,  2.07it/s]"
     ]
    },
    {
     "name": "stdout",
     "output_type": "stream",
     "text": [
      "                   all       1021       5694      0.967      0.932       0.97      0.653\n"
     ]
    },
    {
     "name": "stderr",
     "output_type": "stream",
     "text": [
      "\n"
     ]
    },
    {
     "name": "stdout",
     "output_type": "stream",
     "text": [
      "\n",
      "      Epoch    GPU_mem   box_loss   cls_loss   dfl_loss  Instances       Size\n"
     ]
    },
    {
     "name": "stderr",
     "output_type": "stream",
     "text": [
      "      2/100         3G      1.247     0.9882     0.9027         72        640: 100%|██████████| 681/681 [04:51<00:00,  2.33it/s]\n",
      "                 Class     Images  Instances      Box(P          R      mAP50  mAP50-95): 100%|██████████| 86/86 [00:39<00:00,  2.17it/s]"
     ]
    },
    {
     "name": "stdout",
     "output_type": "stream",
     "text": [
      "                   all       1021       5694      0.959      0.926      0.967      0.652\n"
     ]
    },
    {
     "name": "stderr",
     "output_type": "stream",
     "text": [
      "\n"
     ]
    },
    {
     "name": "stdout",
     "output_type": "stream",
     "text": [
      "\n",
      "      Epoch    GPU_mem   box_loss   cls_loss   dfl_loss  Instances       Size\n"
     ]
    },
    {
     "name": "stderr",
     "output_type": "stream",
     "text": [
      "      3/100         3G      1.231     0.9654     0.9014         49        640: 100%|██████████| 681/681 [05:01<00:00,  2.26it/s]\n",
      "                 Class     Images  Instances      Box(P          R      mAP50  mAP50-95): 100%|██████████| 86/86 [00:43<00:00,  1.99it/s]"
     ]
    },
    {
     "name": "stdout",
     "output_type": "stream",
     "text": [
      "                   all       1021       5694      0.972      0.932      0.974      0.684\n"
     ]
    },
    {
     "name": "stderr",
     "output_type": "stream",
     "text": [
      "\n"
     ]
    },
    {
     "name": "stdout",
     "output_type": "stream",
     "text": [
      "\n",
      "      Epoch    GPU_mem   box_loss   cls_loss   dfl_loss  Instances       Size\n"
     ]
    },
    {
     "name": "stderr",
     "output_type": "stream",
     "text": [
      "      4/100         3G      1.196     0.9211      0.892         57        640: 100%|██████████| 681/681 [05:05<00:00,  2.23it/s]\n",
      "                 Class     Images  Instances      Box(P          R      mAP50  mAP50-95): 100%|██████████| 86/86 [00:43<00:00,  1.99it/s]"
     ]
    },
    {
     "name": "stdout",
     "output_type": "stream",
     "text": [
      "                   all       1021       5694      0.978      0.941      0.975      0.669\n"
     ]
    },
    {
     "name": "stderr",
     "output_type": "stream",
     "text": [
      "\n"
     ]
    },
    {
     "name": "stdout",
     "output_type": "stream",
     "text": [
      "\n",
      "      Epoch    GPU_mem   box_loss   cls_loss   dfl_loss  Instances       Size\n"
     ]
    },
    {
     "name": "stderr",
     "output_type": "stream",
     "text": [
      "      5/100         3G      1.158     0.8857     0.8854         49        640: 100%|██████████| 681/681 [05:08<00:00,  2.20it/s]\n",
      "                 Class     Images  Instances      Box(P          R      mAP50  mAP50-95): 100%|██████████| 86/86 [00:43<00:00,  1.97it/s]"
     ]
    },
    {
     "name": "stdout",
     "output_type": "stream",
     "text": [
      "                   all       1021       5694      0.972      0.947      0.977      0.687\n"
     ]
    },
    {
     "name": "stderr",
     "output_type": "stream",
     "text": [
      "\n"
     ]
    },
    {
     "name": "stdout",
     "output_type": "stream",
     "text": [
      "\n",
      "      Epoch    GPU_mem   box_loss   cls_loss   dfl_loss  Instances       Size\n"
     ]
    },
    {
     "name": "stderr",
     "output_type": "stream",
     "text": [
      "      6/100         3G      1.146       0.86     0.8839         67        640: 100%|██████████| 681/681 [05:05<00:00,  2.23it/s]\n",
      "                 Class     Images  Instances      Box(P          R      mAP50  mAP50-95): 100%|██████████| 86/86 [00:44<00:00,  1.91it/s]"
     ]
    },
    {
     "name": "stdout",
     "output_type": "stream",
     "text": [
      "                   all       1021       5694      0.975      0.943      0.978      0.675\n"
     ]
    },
    {
     "name": "stderr",
     "output_type": "stream",
     "text": [
      "\n"
     ]
    },
    {
     "name": "stdout",
     "output_type": "stream",
     "text": [
      "\n",
      "      Epoch    GPU_mem   box_loss   cls_loss   dfl_loss  Instances       Size\n"
     ]
    },
    {
     "name": "stderr",
     "output_type": "stream",
     "text": [
      "      7/100         3G      1.139     0.8579     0.8849         38        640: 100%|██████████| 681/681 [04:57<00:00,  2.29it/s]\n",
      "                 Class     Images  Instances      Box(P          R      mAP50  mAP50-95): 100%|██████████| 86/86 [00:46<00:00,  1.84it/s]"
     ]
    },
    {
     "name": "stdout",
     "output_type": "stream",
     "text": [
      "                   all       1021       5694      0.978      0.943      0.977      0.689\n"
     ]
    },
    {
     "name": "stderr",
     "output_type": "stream",
     "text": [
      "\n"
     ]
    },
    {
     "name": "stdout",
     "output_type": "stream",
     "text": [
      "\n",
      "      Epoch    GPU_mem   box_loss   cls_loss   dfl_loss  Instances       Size\n"
     ]
    },
    {
     "name": "stderr",
     "output_type": "stream",
     "text": [
      "      8/100      2.99G      1.119     0.8337     0.8782         68        640: 100%|██████████| 681/681 [04:56<00:00,  2.30it/s]\n",
      "                 Class     Images  Instances      Box(P          R      mAP50  mAP50-95): 100%|██████████| 86/86 [00:40<00:00,  2.15it/s]"
     ]
    },
    {
     "name": "stdout",
     "output_type": "stream",
     "text": [
      "                   all       1021       5694      0.977      0.951      0.979      0.689\n"
     ]
    },
    {
     "name": "stderr",
     "output_type": "stream",
     "text": [
      "\n"
     ]
    },
    {
     "name": "stdout",
     "output_type": "stream",
     "text": [
      "\n",
      "      Epoch    GPU_mem   box_loss   cls_loss   dfl_loss  Instances       Size\n"
     ]
    },
    {
     "name": "stderr",
     "output_type": "stream",
     "text": [
      "      9/100         3G      1.115     0.8222     0.8774         48        640: 100%|██████████| 681/681 [04:56<00:00,  2.29it/s]\n",
      "                 Class     Images  Instances      Box(P          R      mAP50  mAP50-95): 100%|██████████| 86/86 [00:40<00:00,  2.14it/s]"
     ]
    },
    {
     "name": "stdout",
     "output_type": "stream",
     "text": [
      "                   all       1021       5694      0.978       0.95       0.98      0.706\n"
     ]
    },
    {
     "name": "stderr",
     "output_type": "stream",
     "text": [
      "\n"
     ]
    },
    {
     "name": "stdout",
     "output_type": "stream",
     "text": [
      "\n",
      "      Epoch    GPU_mem   box_loss   cls_loss   dfl_loss  Instances       Size\n"
     ]
    },
    {
     "name": "stderr",
     "output_type": "stream",
     "text": [
      "     10/100      2.98G      1.089     0.8022     0.8706         44        640: 100%|██████████| 681/681 [04:56<00:00,  2.29it/s]\n",
      "                 Class     Images  Instances      Box(P          R      mAP50  mAP50-95): 100%|██████████| 86/86 [00:39<00:00,  2.16it/s]"
     ]
    },
    {
     "name": "stdout",
     "output_type": "stream",
     "text": [
      "                   all       1021       5694      0.972      0.949      0.977      0.672\n"
     ]
    },
    {
     "name": "stderr",
     "output_type": "stream",
     "text": [
      "\n"
     ]
    },
    {
     "name": "stdout",
     "output_type": "stream",
     "text": [
      "\n",
      "      Epoch    GPU_mem   box_loss   cls_loss   dfl_loss  Instances       Size\n"
     ]
    },
    {
     "name": "stderr",
     "output_type": "stream",
     "text": [
      "     11/100      2.98G      1.092     0.7955     0.8726         44        640: 100%|██████████| 681/681 [04:57<00:00,  2.29it/s]\n",
      "                 Class     Images  Instances      Box(P          R      mAP50  mAP50-95): 100%|██████████| 86/86 [00:39<00:00,  2.15it/s]"
     ]
    },
    {
     "name": "stdout",
     "output_type": "stream",
     "text": [
      "                   all       1021       5694      0.975      0.946      0.976      0.683\n"
     ]
    },
    {
     "name": "stderr",
     "output_type": "stream",
     "text": [
      "\n"
     ]
    },
    {
     "name": "stdout",
     "output_type": "stream",
     "text": [
      "\n",
      "      Epoch    GPU_mem   box_loss   cls_loss   dfl_loss  Instances       Size\n"
     ]
    },
    {
     "name": "stderr",
     "output_type": "stream",
     "text": [
      "     12/100      3.01G       1.09     0.8001     0.8714         63        640: 100%|██████████| 681/681 [04:53<00:00,  2.32it/s]\n",
      "                 Class     Images  Instances      Box(P          R      mAP50  mAP50-95): 100%|██████████| 86/86 [00:40<00:00,  2.13it/s]"
     ]
    },
    {
     "name": "stdout",
     "output_type": "stream",
     "text": [
      "                   all       1021       5694      0.968      0.943      0.976      0.688\n",
      "\u001B[34m\u001B[1mEarlyStopping: \u001B[0mTraining stopped early as no improvement observed in last 3 epochs. Best results observed at epoch 9, best model saved as best.pt.\n",
      "To update EarlyStopping(patience=3) pass a new patience value, i.e. `patience=300` or use `patience=0` to disable EarlyStopping.\n"
     ]
    },
    {
     "name": "stderr",
     "output_type": "stream",
     "text": [
      "\n"
     ]
    },
    {
     "name": "stdout",
     "output_type": "stream",
     "text": [
      "\n",
      "12 epochs completed in 1.143 hours.\n",
      "Optimizer stripped from runs\\detect\\train\\weights\\last.pt, 22.5MB\n",
      "Optimizer stripped from runs\\detect\\train\\weights\\best.pt, 22.5MB\n",
      "\n",
      "Validating runs\\detect\\train\\weights\\best.pt...\n",
      "Ultralytics YOLOv8.2.18  Python-3.9.13 torch-2.3.0+cu121 CUDA:0 (NVIDIA GeForce GTX 1650, 4096MiB)\n",
      "Model summary (fused): 168 layers, 11125971 parameters, 0 gradients, 28.4 GFLOPs\n"
     ]
    },
    {
     "name": "stderr",
     "output_type": "stream",
     "text": [
      "                 Class     Images  Instances      Box(P          R      mAP50  mAP50-95): 100%|██████████| 86/86 [00:42<00:00,  2.03it/s]\n"
     ]
    },
    {
     "name": "stdout",
     "output_type": "stream",
     "text": [
      "                   all       1021       5694      0.978       0.95       0.98      0.706\n",
      "Speed: 0.2ms preprocess, 32.4ms inference, 0.0ms loss, 1.6ms postprocess per image\n",
      "Results saved to \u001B[1mruns\\detect\\train\u001B[0m\n"
     ]
    }
   ],
   "execution_count": 2
  },
  {
   "metadata": {
    "ExecuteTime": {
     "end_time": "2024-05-21T07:25:49.176426Z",
     "start_time": "2024-05-21T07:24:36.301882Z"
    }
   },
   "cell_type": "code",
   "source": [
    "metrics = model.val()\n",
    "metrics"
   ],
   "id": "3afbfef0479b2a6e",
   "outputs": [
    {
     "name": "stdout",
     "output_type": "stream",
     "text": [
      "Ultralytics YOLOv8.2.18  Python-3.9.13 torch-2.3.0+cu121 CUDA:0 (NVIDIA GeForce GTX 1650, 4096MiB)\n",
      "Model summary (fused): 168 layers, 11125971 parameters, 0 gradients, 28.4 GFLOPs\n"
     ]
    },
    {
     "name": "stderr",
     "output_type": "stream",
     "text": [
      "\u001B[34m\u001B[1mval: \u001B[0mScanning D:\\PycharmProjects\\TIL-2024\\data\\val\\labels.cache... 1021 images, 0 backgrounds, 0 corrupt: 100%|██████████| 1021/1021 [00:00<?, ?it/s]\n",
      "                 Class     Images  Instances      Box(P          R      mAP50  mAP50-95): 100%|██████████| 171/171 [00:23<00:00,  7.42it/s]\n"
     ]
    },
    {
     "name": "stdout",
     "output_type": "stream",
     "text": [
      "                   all       1021       5694      0.979       0.95       0.98      0.708\n",
      "Speed: 0.3ms preprocess, 9.9ms inference, 0.0ms loss, 1.4ms postprocess per image\n",
      "Results saved to \u001B[1mruns\\detect\\train2\u001B[0m\n"
     ]
    },
    {
     "data": {
      "text/plain": [
       "ultralytics.utils.metrics.DetMetrics object with attributes:\n",
       "\n",
       "ap_class_index: array([0])\n",
       "box: ultralytics.utils.metrics.Metric object\n",
       "confusion_matrix: <ultralytics.utils.metrics.ConfusionMatrix object at 0x000001CB7B775820>\n",
       "curves: ['Precision-Recall(B)', 'F1-Confidence(B)', 'Precision-Confidence(B)', 'Recall-Confidence(B)']\n",
       "curves_results: [[array([          0,    0.001001,    0.002002,    0.003003,    0.004004,    0.005005,    0.006006,    0.007007,    0.008008,    0.009009,     0.01001,    0.011011,    0.012012,    0.013013,    0.014014,    0.015015,    0.016016,    0.017017,    0.018018,    0.019019,     0.02002,    0.021021,    0.022022,    0.023023,\n",
       "          0.024024,    0.025025,    0.026026,    0.027027,    0.028028,    0.029029,     0.03003,    0.031031,    0.032032,    0.033033,    0.034034,    0.035035,    0.036036,    0.037037,    0.038038,    0.039039,     0.04004,    0.041041,    0.042042,    0.043043,    0.044044,    0.045045,    0.046046,    0.047047,\n",
       "          0.048048,    0.049049,     0.05005,    0.051051,    0.052052,    0.053053,    0.054054,    0.055055,    0.056056,    0.057057,    0.058058,    0.059059,     0.06006,    0.061061,    0.062062,    0.063063,    0.064064,    0.065065,    0.066066,    0.067067,    0.068068,    0.069069,     0.07007,    0.071071,\n",
       "          0.072072,    0.073073,    0.074074,    0.075075,    0.076076,    0.077077,    0.078078,    0.079079,     0.08008,    0.081081,    0.082082,    0.083083,    0.084084,    0.085085,    0.086086,    0.087087,    0.088088,    0.089089,     0.09009,    0.091091,    0.092092,    0.093093,    0.094094,    0.095095,\n",
       "          0.096096,    0.097097,    0.098098,    0.099099,      0.1001,      0.1011,      0.1021,      0.1031,      0.1041,     0.10511,     0.10611,     0.10711,     0.10811,     0.10911,     0.11011,     0.11111,     0.11211,     0.11311,     0.11411,     0.11512,     0.11612,     0.11712,     0.11812,     0.11912,\n",
       "           0.12012,     0.12112,     0.12212,     0.12312,     0.12412,     0.12513,     0.12613,     0.12713,     0.12813,     0.12913,     0.13013,     0.13113,     0.13213,     0.13313,     0.13413,     0.13514,     0.13614,     0.13714,     0.13814,     0.13914,     0.14014,     0.14114,     0.14214,     0.14314,\n",
       "           0.14414,     0.14515,     0.14615,     0.14715,     0.14815,     0.14915,     0.15015,     0.15115,     0.15215,     0.15315,     0.15415,     0.15516,     0.15616,     0.15716,     0.15816,     0.15916,     0.16016,     0.16116,     0.16216,     0.16316,     0.16416,     0.16517,     0.16617,     0.16717,\n",
       "           0.16817,     0.16917,     0.17017,     0.17117,     0.17217,     0.17317,     0.17417,     0.17518,     0.17618,     0.17718,     0.17818,     0.17918,     0.18018,     0.18118,     0.18218,     0.18318,     0.18418,     0.18519,     0.18619,     0.18719,     0.18819,     0.18919,     0.19019,     0.19119,\n",
       "           0.19219,     0.19319,     0.19419,      0.1952,      0.1962,      0.1972,      0.1982,      0.1992,      0.2002,      0.2012,      0.2022,      0.2032,      0.2042,     0.20521,     0.20621,     0.20721,     0.20821,     0.20921,     0.21021,     0.21121,     0.21221,     0.21321,     0.21421,     0.21522,\n",
       "           0.21622,     0.21722,     0.21822,     0.21922,     0.22022,     0.22122,     0.22222,     0.22322,     0.22422,     0.22523,     0.22623,     0.22723,     0.22823,     0.22923,     0.23023,     0.23123,     0.23223,     0.23323,     0.23423,     0.23524,     0.23624,     0.23724,     0.23824,     0.23924,\n",
       "           0.24024,     0.24124,     0.24224,     0.24324,     0.24424,     0.24525,     0.24625,     0.24725,     0.24825,     0.24925,     0.25025,     0.25125,     0.25225,     0.25325,     0.25425,     0.25526,     0.25626,     0.25726,     0.25826,     0.25926,     0.26026,     0.26126,     0.26226,     0.26326,\n",
       "           0.26426,     0.26527,     0.26627,     0.26727,     0.26827,     0.26927,     0.27027,     0.27127,     0.27227,     0.27327,     0.27427,     0.27528,     0.27628,     0.27728,     0.27828,     0.27928,     0.28028,     0.28128,     0.28228,     0.28328,     0.28428,     0.28529,     0.28629,     0.28729,\n",
       "           0.28829,     0.28929,     0.29029,     0.29129,     0.29229,     0.29329,     0.29429,      0.2953,      0.2963,      0.2973,      0.2983,      0.2993,      0.3003,      0.3013,      0.3023,      0.3033,      0.3043,     0.30531,     0.30631,     0.30731,     0.30831,     0.30931,     0.31031,     0.31131,\n",
       "           0.31231,     0.31331,     0.31431,     0.31532,     0.31632,     0.31732,     0.31832,     0.31932,     0.32032,     0.32132,     0.32232,     0.32332,     0.32432,     0.32533,     0.32633,     0.32733,     0.32833,     0.32933,     0.33033,     0.33133,     0.33233,     0.33333,     0.33433,     0.33534,\n",
       "           0.33634,     0.33734,     0.33834,     0.33934,     0.34034,     0.34134,     0.34234,     0.34334,     0.34434,     0.34535,     0.34635,     0.34735,     0.34835,     0.34935,     0.35035,     0.35135,     0.35235,     0.35335,     0.35435,     0.35536,     0.35636,     0.35736,     0.35836,     0.35936,\n",
       "           0.36036,     0.36136,     0.36236,     0.36336,     0.36436,     0.36537,     0.36637,     0.36737,     0.36837,     0.36937,     0.37037,     0.37137,     0.37237,     0.37337,     0.37437,     0.37538,     0.37638,     0.37738,     0.37838,     0.37938,     0.38038,     0.38138,     0.38238,     0.38338,\n",
       "           0.38438,     0.38539,     0.38639,     0.38739,     0.38839,     0.38939,     0.39039,     0.39139,     0.39239,     0.39339,     0.39439,      0.3954,      0.3964,      0.3974,      0.3984,      0.3994,      0.4004,      0.4014,      0.4024,      0.4034,      0.4044,     0.40541,     0.40641,     0.40741,\n",
       "           0.40841,     0.40941,     0.41041,     0.41141,     0.41241,     0.41341,     0.41441,     0.41542,     0.41642,     0.41742,     0.41842,     0.41942,     0.42042,     0.42142,     0.42242,     0.42342,     0.42442,     0.42543,     0.42643,     0.42743,     0.42843,     0.42943,     0.43043,     0.43143,\n",
       "           0.43243,     0.43343,     0.43443,     0.43544,     0.43644,     0.43744,     0.43844,     0.43944,     0.44044,     0.44144,     0.44244,     0.44344,     0.44444,     0.44545,     0.44645,     0.44745,     0.44845,     0.44945,     0.45045,     0.45145,     0.45245,     0.45345,     0.45445,     0.45546,\n",
       "           0.45646,     0.45746,     0.45846,     0.45946,     0.46046,     0.46146,     0.46246,     0.46346,     0.46446,     0.46547,     0.46647,     0.46747,     0.46847,     0.46947,     0.47047,     0.47147,     0.47247,     0.47347,     0.47447,     0.47548,     0.47648,     0.47748,     0.47848,     0.47948,\n",
       "           0.48048,     0.48148,     0.48248,     0.48348,     0.48448,     0.48549,     0.48649,     0.48749,     0.48849,     0.48949,     0.49049,     0.49149,     0.49249,     0.49349,     0.49449,      0.4955,      0.4965,      0.4975,      0.4985,      0.4995,      0.5005,      0.5015,      0.5025,      0.5035,\n",
       "            0.5045,     0.50551,     0.50651,     0.50751,     0.50851,     0.50951,     0.51051,     0.51151,     0.51251,     0.51351,     0.51451,     0.51552,     0.51652,     0.51752,     0.51852,     0.51952,     0.52052,     0.52152,     0.52252,     0.52352,     0.52452,     0.52553,     0.52653,     0.52753,\n",
       "           0.52853,     0.52953,     0.53053,     0.53153,     0.53253,     0.53353,     0.53453,     0.53554,     0.53654,     0.53754,     0.53854,     0.53954,     0.54054,     0.54154,     0.54254,     0.54354,     0.54454,     0.54555,     0.54655,     0.54755,     0.54855,     0.54955,     0.55055,     0.55155,\n",
       "           0.55255,     0.55355,     0.55455,     0.55556,     0.55656,     0.55756,     0.55856,     0.55956,     0.56056,     0.56156,     0.56256,     0.56356,     0.56456,     0.56557,     0.56657,     0.56757,     0.56857,     0.56957,     0.57057,     0.57157,     0.57257,     0.57357,     0.57457,     0.57558,\n",
       "           0.57658,     0.57758,     0.57858,     0.57958,     0.58058,     0.58158,     0.58258,     0.58358,     0.58458,     0.58559,     0.58659,     0.58759,     0.58859,     0.58959,     0.59059,     0.59159,     0.59259,     0.59359,     0.59459,      0.5956,      0.5966,      0.5976,      0.5986,      0.5996,\n",
       "            0.6006,      0.6016,      0.6026,      0.6036,      0.6046,     0.60561,     0.60661,     0.60761,     0.60861,     0.60961,     0.61061,     0.61161,     0.61261,     0.61361,     0.61461,     0.61562,     0.61662,     0.61762,     0.61862,     0.61962,     0.62062,     0.62162,     0.62262,     0.62362,\n",
       "           0.62462,     0.62563,     0.62663,     0.62763,     0.62863,     0.62963,     0.63063,     0.63163,     0.63263,     0.63363,     0.63463,     0.63564,     0.63664,     0.63764,     0.63864,     0.63964,     0.64064,     0.64164,     0.64264,     0.64364,     0.64464,     0.64565,     0.64665,     0.64765,\n",
       "           0.64865,     0.64965,     0.65065,     0.65165,     0.65265,     0.65365,     0.65465,     0.65566,     0.65666,     0.65766,     0.65866,     0.65966,     0.66066,     0.66166,     0.66266,     0.66366,     0.66466,     0.66567,     0.66667,     0.66767,     0.66867,     0.66967,     0.67067,     0.67167,\n",
       "           0.67267,     0.67367,     0.67467,     0.67568,     0.67668,     0.67768,     0.67868,     0.67968,     0.68068,     0.68168,     0.68268,     0.68368,     0.68468,     0.68569,     0.68669,     0.68769,     0.68869,     0.68969,     0.69069,     0.69169,     0.69269,     0.69369,     0.69469,      0.6957,\n",
       "            0.6967,      0.6977,      0.6987,      0.6997,      0.7007,      0.7017,      0.7027,      0.7037,      0.7047,     0.70571,     0.70671,     0.70771,     0.70871,     0.70971,     0.71071,     0.71171,     0.71271,     0.71371,     0.71471,     0.71572,     0.71672,     0.71772,     0.71872,     0.71972,\n",
       "           0.72072,     0.72172,     0.72272,     0.72372,     0.72472,     0.72573,     0.72673,     0.72773,     0.72873,     0.72973,     0.73073,     0.73173,     0.73273,     0.73373,     0.73473,     0.73574,     0.73674,     0.73774,     0.73874,     0.73974,     0.74074,     0.74174,     0.74274,     0.74374,\n",
       "           0.74474,     0.74575,     0.74675,     0.74775,     0.74875,     0.74975,     0.75075,     0.75175,     0.75275,     0.75375,     0.75475,     0.75576,     0.75676,     0.75776,     0.75876,     0.75976,     0.76076,     0.76176,     0.76276,     0.76376,     0.76476,     0.76577,     0.76677,     0.76777,\n",
       "           0.76877,     0.76977,     0.77077,     0.77177,     0.77277,     0.77377,     0.77477,     0.77578,     0.77678,     0.77778,     0.77878,     0.77978,     0.78078,     0.78178,     0.78278,     0.78378,     0.78478,     0.78579,     0.78679,     0.78779,     0.78879,     0.78979,     0.79079,     0.79179,\n",
       "           0.79279,     0.79379,     0.79479,      0.7958,      0.7968,      0.7978,      0.7988,      0.7998,      0.8008,      0.8018,      0.8028,      0.8038,      0.8048,     0.80581,     0.80681,     0.80781,     0.80881,     0.80981,     0.81081,     0.81181,     0.81281,     0.81381,     0.81481,     0.81582,\n",
       "           0.81682,     0.81782,     0.81882,     0.81982,     0.82082,     0.82182,     0.82282,     0.82382,     0.82482,     0.82583,     0.82683,     0.82783,     0.82883,     0.82983,     0.83083,     0.83183,     0.83283,     0.83383,     0.83483,     0.83584,     0.83684,     0.83784,     0.83884,     0.83984,\n",
       "           0.84084,     0.84184,     0.84284,     0.84384,     0.84484,     0.84585,     0.84685,     0.84785,     0.84885,     0.84985,     0.85085,     0.85185,     0.85285,     0.85385,     0.85485,     0.85586,     0.85686,     0.85786,     0.85886,     0.85986,     0.86086,     0.86186,     0.86286,     0.86386,\n",
       "           0.86486,     0.86587,     0.86687,     0.86787,     0.86887,     0.86987,     0.87087,     0.87187,     0.87287,     0.87387,     0.87487,     0.87588,     0.87688,     0.87788,     0.87888,     0.87988,     0.88088,     0.88188,     0.88288,     0.88388,     0.88488,     0.88589,     0.88689,     0.88789,\n",
       "           0.88889,     0.88989,     0.89089,     0.89189,     0.89289,     0.89389,     0.89489,      0.8959,      0.8969,      0.8979,      0.8989,      0.8999,      0.9009,      0.9019,      0.9029,      0.9039,      0.9049,     0.90591,     0.90691,     0.90791,     0.90891,     0.90991,     0.91091,     0.91191,\n",
       "           0.91291,     0.91391,     0.91491,     0.91592,     0.91692,     0.91792,     0.91892,     0.91992,     0.92092,     0.92192,     0.92292,     0.92392,     0.92492,     0.92593,     0.92693,     0.92793,     0.92893,     0.92993,     0.93093,     0.93193,     0.93293,     0.93393,     0.93493,     0.93594,\n",
       "           0.93694,     0.93794,     0.93894,     0.93994,     0.94094,     0.94194,     0.94294,     0.94394,     0.94494,     0.94595,     0.94695,     0.94795,     0.94895,     0.94995,     0.95095,     0.95195,     0.95295,     0.95395,     0.95495,     0.95596,     0.95696,     0.95796,     0.95896,     0.95996,\n",
       "           0.96096,     0.96196,     0.96296,     0.96396,     0.96496,     0.96597,     0.96697,     0.96797,     0.96897,     0.96997,     0.97097,     0.97197,     0.97297,     0.97397,     0.97497,     0.97598,     0.97698,     0.97798,     0.97898,     0.97998,     0.98098,     0.98198,     0.98298,     0.98398,\n",
       "           0.98498,     0.98599,     0.98699,     0.98799,     0.98899,     0.98999,     0.99099,     0.99199,     0.99299,     0.99399,     0.99499,       0.996,       0.997,       0.998,       0.999,           1]), array([[          1,           1,           1,           1,           1,           1,           1,           1,           1,           1,           1,           1,           1,           1,           1,           1,           1,           1,           1,           1,           1,           1,           1,\n",
       "                  1,           1,           1,           1,           1,           1,           1,           1,           1,           1,           1,           1,           1,           1,           1,           1,           1,           1,           1,           1,           1,           1,           1,\n",
       "                  1,           1,           1,           1,           1,           1,           1,           1,           1,           1,           1,           1,           1,           1,           1,           1,           1,           1,           1,           1,           1,           1,           1,\n",
       "                  1,           1,           1,           1,           1,           1,           1,           1,           1,           1,           1,           1,           1,           1,           1,           1,           1,           1,           1,           1,           1,           1,           1,\n",
       "                  1,           1,           1,           1,           1,           1,           1,           1,           1,           1,           1,           1,           1,           1,           1,           1,           1,           1,           1,           1,           1,           1,           1,\n",
       "                  1,           1,           1,           1,           1,           1,           1,           1,           1,           1,           1,           1,           1,           1,           1,           1,           1,           1,           1,           1,           1,           1,           1,\n",
       "                  1,           1,           1,           1,           1,           1,           1,           1,           1,           1,           1,           1,           1,           1,           1,           1,           1,           1,           1,           1,           1,           1,           1,\n",
       "                  1,           1,           1,           1,           1,           1,           1,           1,           1,           1,           1,           1,           1,           1,           1,           1,           1,           1,           1,           1,           1,           1,           1,\n",
       "                  1,           1,           1,           1,           1,           1,           1,           1,           1,           1,           1,           1,           1,           1,           1,           1,           1,           1,           1,           1,           1,           1,           1,\n",
       "                  1,           1,           1,           1,           1,           1,           1,           1,           1,           1,           1,           1,      0.9997,      0.9997,      0.9997,      0.9997,      0.9997,      0.9997,      0.9997,      0.9997,      0.9997,      0.9997,      0.9997,\n",
       "             0.9997,      0.9997,      0.9997,      0.9997,      0.9997,      0.9997,      0.9997,      0.9997,      0.9997,      0.9997,      0.9997,      0.9997,      0.9997,      0.9997,      0.9997,      0.9997,      0.9997,      0.9997,      0.9997,      0.9997,      0.9997,      0.9997,      0.9997,\n",
       "             0.9997,      0.9997,      0.9997,      0.9997,      0.9997,      0.9997,      0.9997,      0.9997,      0.9997,      0.9997,      0.9997,      0.9997,      0.9997,      0.9997,      0.9997,      0.9997,      0.9997,      0.9997,      0.9997,      0.9997,      0.9997,      0.9997,      0.9997,\n",
       "             0.9997,      0.9997,      0.9997,      0.9997,      0.9997,      0.9997,      0.9997,      0.9997,      0.9997,      0.9997,      0.9997,      0.9997,      0.9997,      0.9997,      0.9997,      0.9997,      0.9997,      0.9997,      0.9997,      0.9997,      0.9997,      0.9997,      0.9997,\n",
       "             0.9997,      0.9997,      0.9997,      0.9997,      0.9997,      0.9997,      0.9997,      0.9997,      0.9997,      0.9997,      0.9997,      0.9997,      0.9997,      0.9997,      0.9997,      0.9997,      0.9997,      0.9997,      0.9997,      0.9997,      0.9997,      0.9997,      0.9997,\n",
       "             0.9997,      0.9997,      0.9997,      0.9997,      0.9997,      0.9997,      0.9997,      0.9997,      0.9997,      0.9997,      0.9997,      0.9997,      0.9997,      0.9997,      0.9997,      0.9997,      0.9997,      0.9997,      0.9997,      0.9997,      0.9997,      0.9997,      0.9997,\n",
       "             0.9997,      0.9997,      0.9997,      0.9997,      0.9997,      0.9997,      0.9997,      0.9997,      0.9997,      0.9997,      0.9997,      0.9997,      0.9997,      0.9997,      0.9997,      0.9997,      0.9997,      0.9997,      0.9997,      0.9997,      0.9997,      0.9997,      0.9997,\n",
       "             0.9997,      0.9997,      0.9997,      0.9997,      0.9997,      0.9997,      0.9997,      0.9997,      0.9997,      0.9997,      0.9997,      0.9997,      0.9997,      0.9997,      0.9997,      0.9997,      0.9997,      0.9997,      0.9997,      0.9997,      0.9997,      0.9997,      0.9997,\n",
       "             0.9997,      0.9997,      0.9997,      0.9997,      0.9997,      0.9997,      0.9997,      0.9997,      0.9997,      0.9997,      0.9997,      0.9997,      0.9997,      0.9997,      0.9997,      0.9997,      0.9997,      0.9997,      0.9997,      0.9997,      0.9997,      0.9997,      0.9997,\n",
       "             0.9997,      0.9997,      0.9997,      0.9997,      0.9997,      0.9997,      0.9997,      0.9997,      0.9997,      0.9997,      0.9997,      0.9997,      0.9997,      0.9997,      0.9997,      0.9997,      0.9997,      0.9997,      0.9997,      0.9997,      0.9997,      0.9997,      0.9997,\n",
       "             0.9997,      0.9997,      0.9997,      0.9997,      0.9997,      0.9997,      0.9997,      0.9997,      0.9997,      0.9997,      0.9997,      0.9997,      0.9997,      0.9997,      0.9997,      0.9997,      0.9997,      0.9997,      0.9997,      0.9997,      0.9997,      0.9997,      0.9997,\n",
       "             0.9997,      0.9997,      0.9997,      0.9997,      0.9997,      0.9997,      0.9997,      0.9997,      0.9997,      0.9997,      0.9997,      0.9997,      0.9997,      0.9997,      0.9997,      0.9997,      0.9997,      0.9997,      0.9997,      0.9997,      0.9997,      0.9997,      0.9997,\n",
       "             0.9997,      0.9997,      0.9997,      0.9997,      0.9997,      0.9997,      0.9997,      0.9997,      0.9997,      0.9997,      0.9997,      0.9997,      0.9997,      0.9997,      0.9997,      0.9997,      0.9997,      0.9997,      0.9997,      0.9997,      0.9997,      0.9997,      0.9997,\n",
       "             0.9997,      0.9997,      0.9997,      0.9997,      0.9997,      0.9997,      0.9997,      0.9997,      0.9997,      0.9997,      0.9997,      0.9997,      0.9997,      0.9997,      0.9997,      0.9997,      0.9997,      0.9997,      0.9997,      0.9997,      0.9997,      0.9997,      0.9997,\n",
       "             0.9997,      0.9997,      0.9997,      0.9997,      0.9997,      0.9997,      0.9997,      0.9997,      0.9997,      0.9997,      0.9997,      0.9997,      0.9997,      0.9997,      0.9997,      0.9997,      0.9997,      0.9997,      0.9997,      0.9997,      0.9997,      0.9997,      0.9997,\n",
       "             0.9997,      0.9997,      0.9997,      0.9997,      0.9997,      0.9997,      0.9997,      0.9997,      0.9997,      0.9997,      0.9997,      0.9997,      0.9997,      0.9997,      0.9997,      0.9997,      0.9997,      0.9997,      0.9997,      0.9997,      0.9997,      0.9997,      0.9997,\n",
       "             0.9997,      0.9997,      0.9997,      0.9997,      0.9997,      0.9997,      0.9997,      0.9997,      0.9997,      0.9997,      0.9997,      0.9997,     0.99941,     0.99941,     0.99941,     0.99941,     0.99941,     0.99941,     0.99941,     0.99915,     0.99915,     0.99915,     0.99915,\n",
       "            0.99915,     0.99915,     0.99915,     0.99915,     0.99915,     0.99915,     0.99915,     0.99915,     0.99915,     0.99915,     0.99915,     0.99915,     0.99915,     0.99915,     0.99915,     0.99915,     0.99915,     0.99915,     0.99915,     0.99915,     0.99915,     0.99895,     0.99895,\n",
       "            0.99895,     0.99895,     0.99895,     0.99895,     0.99895,     0.99895,     0.99895,     0.99895,     0.99895,     0.99895,     0.99895,     0.99895,     0.99895,     0.99895,     0.99895,     0.99895,     0.99895,     0.99895,     0.99895,     0.99895,     0.99895,     0.99895,     0.99895,\n",
       "            0.99895,     0.99895,     0.99895,     0.99895,     0.99895,     0.99895,     0.99895,     0.99895,     0.99895,     0.99895,     0.99895,     0.99895,     0.99895,     0.99895,     0.99895,     0.99895,     0.99895,     0.99895,     0.99895,     0.99895,     0.99895,     0.99895,     0.99895,\n",
       "            0.99895,     0.99895,     0.99895,      0.9987,      0.9987,     0.99844,     0.99844,     0.99824,     0.99824,     0.99824,     0.99824,     0.99824,     0.99824,     0.99824,     0.99824,     0.99824,     0.99824,     0.99824,     0.99824,     0.99824,     0.99824,     0.99824,     0.99824,\n",
       "            0.99824,     0.99824,     0.99824,     0.99824,     0.99824,     0.99824,     0.99824,     0.99824,     0.99824,     0.99813,     0.99813,     0.99813,     0.99813,     0.99813,     0.99813,     0.99813,     0.99813,     0.99813,     0.99813,     0.99813,     0.99813,     0.99813,     0.99813,\n",
       "            0.99813,     0.99813,     0.99813,     0.99813,     0.99813,     0.99813,     0.99813,     0.99813,     0.99813,     0.99813,     0.99813,     0.99813,     0.99813,     0.99813,     0.99813,     0.99813,     0.99813,     0.99813,     0.99813,     0.99813,     0.99813,     0.99813,     0.99813,\n",
       "            0.99813,     0.99813,     0.99813,     0.99813,     0.99813,     0.99813,     0.99813,     0.99813,     0.99813,     0.99813,     0.99813,     0.99813,     0.99813,     0.99813,     0.99792,     0.99792,     0.99792,     0.99792,     0.99792,     0.99792,     0.99792,     0.99772,     0.99772,\n",
       "            0.99772,     0.99772,     0.99772,     0.99772,     0.99772,     0.99772,     0.99772,     0.99772,     0.99772,     0.99772,     0.99755,     0.99755,     0.99755,     0.99755,     0.99755,     0.99755,     0.99755,     0.99755,     0.99755,     0.99755,     0.99755,     0.99755,     0.99755,\n",
       "            0.99755,     0.99755,     0.99755,     0.99734,     0.99734,     0.99734,     0.99734,     0.99734,     0.99734,     0.99717,     0.99717,     0.99717,     0.99717,     0.99717,     0.99717,     0.99717,     0.99717,     0.99717,     0.99717,     0.99717,     0.99717,     0.99717,     0.99717,\n",
       "            0.99702,     0.99702,     0.99702,     0.99702,     0.99702,     0.99702,     0.99702,     0.99702,     0.99702,     0.99702,     0.99702,     0.99702,     0.99702,     0.99702,     0.99702,     0.99702,     0.99702,     0.99702,     0.99683,     0.99683,     0.99683,     0.99683,     0.99683,\n",
       "            0.99664,     0.99664,     0.99664,     0.99664,     0.99652,     0.99652,     0.99652,     0.99652,     0.99652,     0.99652,     0.99652,     0.99652,     0.99652,     0.99652,     0.99652,     0.99652,     0.99652,     0.99652,     0.99652,     0.99652,     0.99652,     0.99652,     0.99652,\n",
       "            0.99652,     0.99652,     0.99652,     0.99633,     0.99633,     0.99633,     0.99633,     0.99614,     0.99614,     0.99596,     0.99596,     0.99596,     0.99596,     0.99596,     0.99596,     0.99596,     0.99577,      0.9952,      0.9952,      0.9952,      0.9952,      0.9952,      0.9952,\n",
       "            0.99504,     0.99504,     0.99504,     0.99504,     0.99504,     0.99504,     0.99466,     0.99466,     0.99466,     0.99447,     0.99428,      0.9941,      0.9941,     0.99393,     0.99393,     0.99393,     0.99393,     0.99357,     0.99357,     0.99357,     0.99357,     0.99284,     0.99284,\n",
       "            0.99284,     0.99284,     0.99284,     0.99265,     0.99249,     0.99249,     0.99249,     0.99233,     0.99233,     0.99233,     0.99233,     0.99233,       0.992,       0.992,       0.992,       0.992,       0.992,     0.99182,     0.99164,     0.99146,      0.9909,     0.99035,     0.99017,\n",
       "            0.98983,     0.98983,      0.9897,      0.9897,      0.9897,      0.9897,      0.9897,      0.9897,     0.98934,     0.98917,     0.98845,     0.98828,     0.98828,     0.98794,     0.98794,     0.98759,     0.98742,     0.98725,      0.9869,     0.98655,     0.98548,     0.98531,     0.98443,\n",
       "            0.98443,     0.98392,     0.98304,     0.98215,     0.98075,     0.97988,     0.97866,     0.97761,     0.97658,     0.97503,       0.974,     0.97264,     0.97233,     0.97044,      0.9672,     0.96417,     0.96182,      0.9595,     0.95536,     0.95292,     0.94638,     0.93932,     0.92799,\n",
       "            0.91997,     0.90942,     0.90193,     0.89894,     0.88905,     0.87551,     0.86161,     0.83637,      0.7953,     0.77985,      0.7652,     0.73664,     0.70011,     0.67257,     0.64474,     0.61606,     0.57498,     0.50816,     0.42768,     0.38506,     0.35005,     0.30904,     0.18645,\n",
       "            0.14351,     0.12916,     0.11481,     0.10046,    0.086107,    0.071756,    0.057405,    0.043053,    0.028702,    0.014351,           0]]), 'Recall', 'Precision'], [array([          0,    0.001001,    0.002002,    0.003003,    0.004004,    0.005005,    0.006006,    0.007007,    0.008008,    0.009009,     0.01001,    0.011011,    0.012012,    0.013013,    0.014014,    0.015015,    0.016016,    0.017017,    0.018018,    0.019019,     0.02002,    0.021021,    0.022022,    0.023023,\n",
       "          0.024024,    0.025025,    0.026026,    0.027027,    0.028028,    0.029029,     0.03003,    0.031031,    0.032032,    0.033033,    0.034034,    0.035035,    0.036036,    0.037037,    0.038038,    0.039039,     0.04004,    0.041041,    0.042042,    0.043043,    0.044044,    0.045045,    0.046046,    0.047047,\n",
       "          0.048048,    0.049049,     0.05005,    0.051051,    0.052052,    0.053053,    0.054054,    0.055055,    0.056056,    0.057057,    0.058058,    0.059059,     0.06006,    0.061061,    0.062062,    0.063063,    0.064064,    0.065065,    0.066066,    0.067067,    0.068068,    0.069069,     0.07007,    0.071071,\n",
       "          0.072072,    0.073073,    0.074074,    0.075075,    0.076076,    0.077077,    0.078078,    0.079079,     0.08008,    0.081081,    0.082082,    0.083083,    0.084084,    0.085085,    0.086086,    0.087087,    0.088088,    0.089089,     0.09009,    0.091091,    0.092092,    0.093093,    0.094094,    0.095095,\n",
       "          0.096096,    0.097097,    0.098098,    0.099099,      0.1001,      0.1011,      0.1021,      0.1031,      0.1041,     0.10511,     0.10611,     0.10711,     0.10811,     0.10911,     0.11011,     0.11111,     0.11211,     0.11311,     0.11411,     0.11512,     0.11612,     0.11712,     0.11812,     0.11912,\n",
       "           0.12012,     0.12112,     0.12212,     0.12312,     0.12412,     0.12513,     0.12613,     0.12713,     0.12813,     0.12913,     0.13013,     0.13113,     0.13213,     0.13313,     0.13413,     0.13514,     0.13614,     0.13714,     0.13814,     0.13914,     0.14014,     0.14114,     0.14214,     0.14314,\n",
       "           0.14414,     0.14515,     0.14615,     0.14715,     0.14815,     0.14915,     0.15015,     0.15115,     0.15215,     0.15315,     0.15415,     0.15516,     0.15616,     0.15716,     0.15816,     0.15916,     0.16016,     0.16116,     0.16216,     0.16316,     0.16416,     0.16517,     0.16617,     0.16717,\n",
       "           0.16817,     0.16917,     0.17017,     0.17117,     0.17217,     0.17317,     0.17417,     0.17518,     0.17618,     0.17718,     0.17818,     0.17918,     0.18018,     0.18118,     0.18218,     0.18318,     0.18418,     0.18519,     0.18619,     0.18719,     0.18819,     0.18919,     0.19019,     0.19119,\n",
       "           0.19219,     0.19319,     0.19419,      0.1952,      0.1962,      0.1972,      0.1982,      0.1992,      0.2002,      0.2012,      0.2022,      0.2032,      0.2042,     0.20521,     0.20621,     0.20721,     0.20821,     0.20921,     0.21021,     0.21121,     0.21221,     0.21321,     0.21421,     0.21522,\n",
       "           0.21622,     0.21722,     0.21822,     0.21922,     0.22022,     0.22122,     0.22222,     0.22322,     0.22422,     0.22523,     0.22623,     0.22723,     0.22823,     0.22923,     0.23023,     0.23123,     0.23223,     0.23323,     0.23423,     0.23524,     0.23624,     0.23724,     0.23824,     0.23924,\n",
       "           0.24024,     0.24124,     0.24224,     0.24324,     0.24424,     0.24525,     0.24625,     0.24725,     0.24825,     0.24925,     0.25025,     0.25125,     0.25225,     0.25325,     0.25425,     0.25526,     0.25626,     0.25726,     0.25826,     0.25926,     0.26026,     0.26126,     0.26226,     0.26326,\n",
       "           0.26426,     0.26527,     0.26627,     0.26727,     0.26827,     0.26927,     0.27027,     0.27127,     0.27227,     0.27327,     0.27427,     0.27528,     0.27628,     0.27728,     0.27828,     0.27928,     0.28028,     0.28128,     0.28228,     0.28328,     0.28428,     0.28529,     0.28629,     0.28729,\n",
       "           0.28829,     0.28929,     0.29029,     0.29129,     0.29229,     0.29329,     0.29429,      0.2953,      0.2963,      0.2973,      0.2983,      0.2993,      0.3003,      0.3013,      0.3023,      0.3033,      0.3043,     0.30531,     0.30631,     0.30731,     0.30831,     0.30931,     0.31031,     0.31131,\n",
       "           0.31231,     0.31331,     0.31431,     0.31532,     0.31632,     0.31732,     0.31832,     0.31932,     0.32032,     0.32132,     0.32232,     0.32332,     0.32432,     0.32533,     0.32633,     0.32733,     0.32833,     0.32933,     0.33033,     0.33133,     0.33233,     0.33333,     0.33433,     0.33534,\n",
       "           0.33634,     0.33734,     0.33834,     0.33934,     0.34034,     0.34134,     0.34234,     0.34334,     0.34434,     0.34535,     0.34635,     0.34735,     0.34835,     0.34935,     0.35035,     0.35135,     0.35235,     0.35335,     0.35435,     0.35536,     0.35636,     0.35736,     0.35836,     0.35936,\n",
       "           0.36036,     0.36136,     0.36236,     0.36336,     0.36436,     0.36537,     0.36637,     0.36737,     0.36837,     0.36937,     0.37037,     0.37137,     0.37237,     0.37337,     0.37437,     0.37538,     0.37638,     0.37738,     0.37838,     0.37938,     0.38038,     0.38138,     0.38238,     0.38338,\n",
       "           0.38438,     0.38539,     0.38639,     0.38739,     0.38839,     0.38939,     0.39039,     0.39139,     0.39239,     0.39339,     0.39439,      0.3954,      0.3964,      0.3974,      0.3984,      0.3994,      0.4004,      0.4014,      0.4024,      0.4034,      0.4044,     0.40541,     0.40641,     0.40741,\n",
       "           0.40841,     0.40941,     0.41041,     0.41141,     0.41241,     0.41341,     0.41441,     0.41542,     0.41642,     0.41742,     0.41842,     0.41942,     0.42042,     0.42142,     0.42242,     0.42342,     0.42442,     0.42543,     0.42643,     0.42743,     0.42843,     0.42943,     0.43043,     0.43143,\n",
       "           0.43243,     0.43343,     0.43443,     0.43544,     0.43644,     0.43744,     0.43844,     0.43944,     0.44044,     0.44144,     0.44244,     0.44344,     0.44444,     0.44545,     0.44645,     0.44745,     0.44845,     0.44945,     0.45045,     0.45145,     0.45245,     0.45345,     0.45445,     0.45546,\n",
       "           0.45646,     0.45746,     0.45846,     0.45946,     0.46046,     0.46146,     0.46246,     0.46346,     0.46446,     0.46547,     0.46647,     0.46747,     0.46847,     0.46947,     0.47047,     0.47147,     0.47247,     0.47347,     0.47447,     0.47548,     0.47648,     0.47748,     0.47848,     0.47948,\n",
       "           0.48048,     0.48148,     0.48248,     0.48348,     0.48448,     0.48549,     0.48649,     0.48749,     0.48849,     0.48949,     0.49049,     0.49149,     0.49249,     0.49349,     0.49449,      0.4955,      0.4965,      0.4975,      0.4985,      0.4995,      0.5005,      0.5015,      0.5025,      0.5035,\n",
       "            0.5045,     0.50551,     0.50651,     0.50751,     0.50851,     0.50951,     0.51051,     0.51151,     0.51251,     0.51351,     0.51451,     0.51552,     0.51652,     0.51752,     0.51852,     0.51952,     0.52052,     0.52152,     0.52252,     0.52352,     0.52452,     0.52553,     0.52653,     0.52753,\n",
       "           0.52853,     0.52953,     0.53053,     0.53153,     0.53253,     0.53353,     0.53453,     0.53554,     0.53654,     0.53754,     0.53854,     0.53954,     0.54054,     0.54154,     0.54254,     0.54354,     0.54454,     0.54555,     0.54655,     0.54755,     0.54855,     0.54955,     0.55055,     0.55155,\n",
       "           0.55255,     0.55355,     0.55455,     0.55556,     0.55656,     0.55756,     0.55856,     0.55956,     0.56056,     0.56156,     0.56256,     0.56356,     0.56456,     0.56557,     0.56657,     0.56757,     0.56857,     0.56957,     0.57057,     0.57157,     0.57257,     0.57357,     0.57457,     0.57558,\n",
       "           0.57658,     0.57758,     0.57858,     0.57958,     0.58058,     0.58158,     0.58258,     0.58358,     0.58458,     0.58559,     0.58659,     0.58759,     0.58859,     0.58959,     0.59059,     0.59159,     0.59259,     0.59359,     0.59459,      0.5956,      0.5966,      0.5976,      0.5986,      0.5996,\n",
       "            0.6006,      0.6016,      0.6026,      0.6036,      0.6046,     0.60561,     0.60661,     0.60761,     0.60861,     0.60961,     0.61061,     0.61161,     0.61261,     0.61361,     0.61461,     0.61562,     0.61662,     0.61762,     0.61862,     0.61962,     0.62062,     0.62162,     0.62262,     0.62362,\n",
       "           0.62462,     0.62563,     0.62663,     0.62763,     0.62863,     0.62963,     0.63063,     0.63163,     0.63263,     0.63363,     0.63463,     0.63564,     0.63664,     0.63764,     0.63864,     0.63964,     0.64064,     0.64164,     0.64264,     0.64364,     0.64464,     0.64565,     0.64665,     0.64765,\n",
       "           0.64865,     0.64965,     0.65065,     0.65165,     0.65265,     0.65365,     0.65465,     0.65566,     0.65666,     0.65766,     0.65866,     0.65966,     0.66066,     0.66166,     0.66266,     0.66366,     0.66466,     0.66567,     0.66667,     0.66767,     0.66867,     0.66967,     0.67067,     0.67167,\n",
       "           0.67267,     0.67367,     0.67467,     0.67568,     0.67668,     0.67768,     0.67868,     0.67968,     0.68068,     0.68168,     0.68268,     0.68368,     0.68468,     0.68569,     0.68669,     0.68769,     0.68869,     0.68969,     0.69069,     0.69169,     0.69269,     0.69369,     0.69469,      0.6957,\n",
       "            0.6967,      0.6977,      0.6987,      0.6997,      0.7007,      0.7017,      0.7027,      0.7037,      0.7047,     0.70571,     0.70671,     0.70771,     0.70871,     0.70971,     0.71071,     0.71171,     0.71271,     0.71371,     0.71471,     0.71572,     0.71672,     0.71772,     0.71872,     0.71972,\n",
       "           0.72072,     0.72172,     0.72272,     0.72372,     0.72472,     0.72573,     0.72673,     0.72773,     0.72873,     0.72973,     0.73073,     0.73173,     0.73273,     0.73373,     0.73473,     0.73574,     0.73674,     0.73774,     0.73874,     0.73974,     0.74074,     0.74174,     0.74274,     0.74374,\n",
       "           0.74474,     0.74575,     0.74675,     0.74775,     0.74875,     0.74975,     0.75075,     0.75175,     0.75275,     0.75375,     0.75475,     0.75576,     0.75676,     0.75776,     0.75876,     0.75976,     0.76076,     0.76176,     0.76276,     0.76376,     0.76476,     0.76577,     0.76677,     0.76777,\n",
       "           0.76877,     0.76977,     0.77077,     0.77177,     0.77277,     0.77377,     0.77477,     0.77578,     0.77678,     0.77778,     0.77878,     0.77978,     0.78078,     0.78178,     0.78278,     0.78378,     0.78478,     0.78579,     0.78679,     0.78779,     0.78879,     0.78979,     0.79079,     0.79179,\n",
       "           0.79279,     0.79379,     0.79479,      0.7958,      0.7968,      0.7978,      0.7988,      0.7998,      0.8008,      0.8018,      0.8028,      0.8038,      0.8048,     0.80581,     0.80681,     0.80781,     0.80881,     0.80981,     0.81081,     0.81181,     0.81281,     0.81381,     0.81481,     0.81582,\n",
       "           0.81682,     0.81782,     0.81882,     0.81982,     0.82082,     0.82182,     0.82282,     0.82382,     0.82482,     0.82583,     0.82683,     0.82783,     0.82883,     0.82983,     0.83083,     0.83183,     0.83283,     0.83383,     0.83483,     0.83584,     0.83684,     0.83784,     0.83884,     0.83984,\n",
       "           0.84084,     0.84184,     0.84284,     0.84384,     0.84484,     0.84585,     0.84685,     0.84785,     0.84885,     0.84985,     0.85085,     0.85185,     0.85285,     0.85385,     0.85485,     0.85586,     0.85686,     0.85786,     0.85886,     0.85986,     0.86086,     0.86186,     0.86286,     0.86386,\n",
       "           0.86486,     0.86587,     0.86687,     0.86787,     0.86887,     0.86987,     0.87087,     0.87187,     0.87287,     0.87387,     0.87487,     0.87588,     0.87688,     0.87788,     0.87888,     0.87988,     0.88088,     0.88188,     0.88288,     0.88388,     0.88488,     0.88589,     0.88689,     0.88789,\n",
       "           0.88889,     0.88989,     0.89089,     0.89189,     0.89289,     0.89389,     0.89489,      0.8959,      0.8969,      0.8979,      0.8989,      0.8999,      0.9009,      0.9019,      0.9029,      0.9039,      0.9049,     0.90591,     0.90691,     0.90791,     0.90891,     0.90991,     0.91091,     0.91191,\n",
       "           0.91291,     0.91391,     0.91491,     0.91592,     0.91692,     0.91792,     0.91892,     0.91992,     0.92092,     0.92192,     0.92292,     0.92392,     0.92492,     0.92593,     0.92693,     0.92793,     0.92893,     0.92993,     0.93093,     0.93193,     0.93293,     0.93393,     0.93493,     0.93594,\n",
       "           0.93694,     0.93794,     0.93894,     0.93994,     0.94094,     0.94194,     0.94294,     0.94394,     0.94494,     0.94595,     0.94695,     0.94795,     0.94895,     0.94995,     0.95095,     0.95195,     0.95295,     0.95395,     0.95495,     0.95596,     0.95696,     0.95796,     0.95896,     0.95996,\n",
       "           0.96096,     0.96196,     0.96296,     0.96396,     0.96496,     0.96597,     0.96697,     0.96797,     0.96897,     0.96997,     0.97097,     0.97197,     0.97297,     0.97397,     0.97497,     0.97598,     0.97698,     0.97798,     0.97898,     0.97998,     0.98098,     0.98198,     0.98298,     0.98398,\n",
       "           0.98498,     0.98599,     0.98699,     0.98799,     0.98899,     0.98999,     0.99099,     0.99199,     0.99299,     0.99399,     0.99499,       0.996,       0.997,       0.998,       0.999,           1]), array([[    0.25452,     0.25463,     0.35036,     0.41376,     0.46148,      0.4997,        0.53,     0.55606,     0.57725,     0.59661,     0.61401,     0.62941,     0.64195,     0.65456,     0.66583,     0.67581,     0.68506,     0.69344,     0.70107,     0.70808,     0.71483,      0.7212,     0.72754,\n",
       "            0.73362,     0.73878,     0.74388,     0.74927,     0.75427,     0.75909,      0.7638,     0.76816,      0.7725,     0.77631,     0.78013,     0.78458,     0.78804,     0.79011,     0.79379,      0.7965,     0.79985,     0.80368,     0.80641,      0.8094,      0.8117,     0.81447,      0.8167,\n",
       "            0.81924,     0.82104,     0.82414,     0.82669,     0.82875,     0.83054,     0.83208,      0.8334,     0.83558,      0.8375,     0.83904,     0.84069,     0.84237,     0.84348,     0.84483,     0.84679,     0.84868,     0.84995,     0.85184,      0.8537,     0.85473,     0.85631,     0.85789,\n",
       "            0.85908,     0.86015,     0.86146,      0.8625,     0.86354,     0.86514,     0.86619,     0.86771,      0.8688,     0.87025,     0.87113,     0.87275,     0.87387,     0.87512,     0.87645,     0.87717,     0.87809,     0.87932,     0.88033,     0.88158,     0.88256,     0.88334,     0.88436,\n",
       "            0.88563,     0.88711,     0.88816,       0.889,     0.89055,     0.89175,     0.89275,     0.89328,     0.89408,     0.89486,     0.89577,     0.89657,     0.89787,     0.89849,     0.89924,     0.89998,     0.90063,     0.90165,     0.90274,     0.90359,     0.90453,     0.90542,     0.90628,\n",
       "            0.90716,      0.9076,      0.9084,     0.90878,     0.90954,     0.91026,     0.91114,     0.91164,     0.91232,     0.91284,     0.91326,     0.91396,     0.91475,     0.91542,     0.91615,     0.91679,     0.91713,     0.91737,     0.91799,     0.91842,     0.91897,     0.91983,     0.92037,\n",
       "            0.92061,     0.92115,     0.92143,     0.92191,     0.92211,     0.92288,     0.92328,     0.92354,     0.92393,     0.92404,     0.92453,     0.92481,     0.92532,     0.92553,     0.92589,     0.92611,     0.92655,     0.92666,     0.92694,     0.92709,     0.92723,     0.92752,     0.92774,\n",
       "            0.92803,     0.92812,     0.92815,     0.92868,     0.92873,     0.92932,     0.93012,      0.9304,     0.93058,     0.93089,     0.93123,      0.9314,     0.93164,     0.93176,      0.9321,     0.93219,      0.9324,      0.9325,      0.9327,     0.93317,     0.93322,     0.93342,     0.93361,\n",
       "            0.93379,     0.93381,     0.93406,     0.93422,     0.93461,     0.93487,     0.93498,     0.93539,     0.93567,     0.93581,      0.9358,     0.93599,     0.93632,     0.93683,     0.93711,     0.93726,     0.93755,     0.93778,     0.93804,     0.93804,     0.93814,     0.93828,     0.93845,\n",
       "            0.93855,     0.93892,     0.93918,     0.93955,     0.93982,     0.94012,     0.94017,     0.94016,     0.94058,     0.94082,     0.94105,     0.94149,     0.94199,     0.94227,     0.94265,     0.94257,      0.9427,     0.94271,      0.9429,     0.94331,     0.94367,      0.9439,     0.94415,\n",
       "            0.94435,     0.94466,     0.94487,       0.945,     0.94522,     0.94548,     0.94564,     0.94587,     0.94608,     0.94631,     0.94654,     0.94681,     0.94661,      0.9468,     0.94727,     0.94771,     0.94777,     0.94791,     0.94797,     0.94819,     0.94848,     0.94863,     0.94872,\n",
       "            0.94878,     0.94897,     0.94904,     0.94919,     0.94931,     0.94939,     0.94967,     0.95004,     0.95014,     0.95041,     0.95044,     0.95046,     0.95039,     0.95046,     0.95059,     0.95062,     0.95067,     0.95072,     0.95077,     0.95097,     0.95118,     0.95133,      0.9514,\n",
       "            0.95146,     0.95163,     0.95167,     0.95187,     0.95195,       0.952,     0.95201,      0.9521,     0.95222,     0.95231,     0.95224,     0.95236,     0.95235,     0.95256,     0.95278,     0.95297,     0.95328,     0.95342,     0.95352,     0.95378,     0.95402,     0.95398,     0.95402,\n",
       "            0.95423,     0.95436,     0.95441,     0.95445,     0.95465,     0.95504,     0.95509,     0.95505,     0.95511,     0.95514,     0.95518,     0.95524,     0.95542,     0.95538,     0.95544,     0.95566,     0.95594,     0.95605,     0.95628,     0.95638,     0.95687,      0.9571,     0.95715,\n",
       "            0.95735,     0.95758,     0.95751,     0.95763,     0.95769,     0.95784,     0.95791,       0.958,     0.95807,     0.95802,     0.95791,     0.95805,     0.95839,     0.95842,     0.95852,     0.95856,      0.9588,     0.95867,     0.95873,     0.95876,     0.95879,     0.95874,     0.95865,\n",
       "            0.95878,     0.95883,     0.95893,     0.95917,     0.95929,     0.95932,     0.95936,     0.95949,     0.95952,     0.95955,     0.95958,     0.95969,     0.95985,     0.95977,     0.95994,     0.95998,      0.9599,      0.9599,     0.95998,     0.96005,     0.96018,      0.9602,     0.96022,\n",
       "            0.96025,     0.96021,     0.96019,      0.9602,     0.96015,     0.96031,     0.96025,     0.96038,     0.96046,     0.96068,     0.96072,     0.96069,     0.96066,     0.96078,     0.96094,     0.96078,     0.96073,     0.96081,     0.96085,     0.96094,     0.96111,     0.96104,     0.96107,\n",
       "            0.96111,     0.96115,     0.96118,     0.96126,     0.96137,     0.96168,     0.96164,     0.96168,     0.96158,     0.96149,     0.96148,     0.96159,     0.96167,     0.96178,     0.96186,     0.96189,     0.96192,       0.962,     0.96195,     0.96197,     0.96233,      0.9623,     0.96226,\n",
       "            0.96229,     0.96232,     0.96231,     0.96237,     0.96254,     0.96254,     0.96253,     0.96257,      0.9625,     0.96258,     0.96265,     0.96262,     0.96259,     0.96264,     0.96275,     0.96278,     0.96281,     0.96288,     0.96297,       0.963,     0.96308,     0.96313,     0.96326,\n",
       "            0.96344,     0.96349,     0.96352,     0.96352,     0.96357,     0.96361,     0.96364,     0.96358,     0.96357,     0.96367,     0.96382,     0.96387,     0.96397,     0.96399,     0.96427,     0.96397,     0.96388,     0.96378,     0.96385,     0.96379,     0.96372,     0.96367,     0.96376,\n",
       "            0.96381,     0.96386,     0.96389,     0.96377,      0.9638,     0.96385,     0.96391,     0.96374,     0.96377,      0.9638,     0.96383,     0.96387,     0.96389,     0.96381,     0.96397,     0.96393,     0.96389,     0.96395,     0.96371,     0.96381,     0.96392,     0.96391,     0.96385,\n",
       "            0.96389,     0.96393,     0.96398,     0.96407,     0.96394,     0.96406,     0.96383,      0.9639,     0.96402,     0.96406,     0.96414,     0.96402,     0.96406,     0.96401,     0.96398,     0.96406,     0.96412,     0.96412,     0.96397,     0.96403,     0.96407,     0.96408,     0.96421,\n",
       "            0.96425,     0.96427,     0.96436,     0.96432,     0.96431,      0.9641,     0.96401,     0.96411,     0.96415,     0.96423,     0.96418,     0.96403,     0.96431,     0.96425,     0.96422,     0.96428,     0.96422,     0.96429,      0.9642,     0.96409,     0.96406,     0.96402,     0.96396,\n",
       "              0.964,     0.96392,     0.96391,     0.96393,     0.96395,     0.96397,       0.964,     0.96404,     0.96417,     0.96427,     0.96424,     0.96419,     0.96415,     0.96421,     0.96409,     0.96431,     0.96444,     0.96436,     0.96433,     0.96424,     0.96416,     0.96431,     0.96429,\n",
       "            0.96434,     0.96426,     0.96422,     0.96418,     0.96398,     0.96399,     0.96404,     0.96388,     0.96367,     0.96333,     0.96329,     0.96325,     0.96326,     0.96322,     0.96317,     0.96337,      0.9631,     0.96302,     0.96281,     0.96254,     0.96245,     0.96264,     0.96279,\n",
       "            0.96286,     0.96272,     0.96256,     0.96238,      0.9623,     0.96214,     0.96205,     0.96196,     0.96198,     0.96191,     0.96183,     0.96163,     0.96163,     0.96153,     0.96142,     0.96115,     0.96102,     0.96095,     0.96082,     0.96081,     0.96078,     0.96049,      0.9603,\n",
       "             0.9601,     0.95993,     0.95971,     0.95958,     0.95947,     0.95918,      0.9591,     0.95867,     0.95885,     0.95891,     0.95865,      0.9583,     0.95817,     0.95777,     0.95771,     0.95779,     0.95756,     0.95731,     0.95677,     0.95658,     0.95621,     0.95579,     0.95526,\n",
       "             0.9551,     0.95481,     0.95455,     0.95396,      0.9537,     0.95362,     0.95357,     0.95327,     0.95307,     0.95296,      0.9531,     0.95295,     0.95297,     0.95266,     0.95253,     0.95244,     0.95197,     0.95183,     0.95179,     0.95169,     0.95157,     0.95121,     0.95085,\n",
       "            0.95051,     0.94981,     0.94933,     0.94921,     0.94903,     0.94892,      0.9483,     0.94787,     0.94727,     0.94661,     0.94569,     0.94527,     0.94482,     0.94441,     0.94372,     0.94333,     0.94258,     0.94208,     0.94193,     0.94192,     0.94152,     0.94133,     0.94079,\n",
       "            0.93991,      0.9395,     0.93888,     0.93806,     0.93742,     0.93701,     0.93681,     0.93626,     0.93572,     0.93507,      0.9347,     0.93415,     0.93356,     0.93315,     0.93236,     0.93172,     0.93113,     0.93084,      0.9305,     0.92938,     0.92874,     0.92767,     0.92734,\n",
       "            0.92676,     0.92636,     0.92561,     0.92467,      0.9242,     0.92349,     0.92309,     0.92203,     0.92168,     0.92042,      0.9202,      0.9197,     0.91858,     0.91776,      0.9171,     0.91658,     0.91573,     0.91523,     0.91439,     0.91358,     0.91246,     0.91199,     0.91118,\n",
       "            0.91031,     0.90985,     0.90866,     0.90718,     0.90627,     0.90512,     0.90447,     0.90325,     0.90174,     0.89971,     0.89828,      0.8973,     0.89599,     0.89431,     0.89274,     0.89126,      0.8903,     0.88926,     0.88838,     0.88754,     0.88547,      0.8843,     0.88285,\n",
       "            0.88123,     0.87963,     0.87857,     0.87701,     0.87506,     0.87304,     0.87144,     0.87014,     0.86819,     0.86702,     0.86487,     0.86341,     0.86104,     0.85882,     0.85642,     0.85427,     0.85271,     0.85125,     0.84928,     0.84703,     0.84521,     0.84239,     0.83995,\n",
       "            0.83734,     0.83514,     0.83206,     0.83013,     0.82802,     0.82567,     0.82236,     0.82025,     0.81785,     0.81463,     0.81287,     0.81022,     0.80695,     0.80525,     0.80274,      0.8002,     0.79666,     0.79453,     0.79184,     0.78898,     0.78603,     0.78362,      0.7807,\n",
       "            0.77833,     0.77493,     0.77118,     0.76766,     0.76379,     0.75885,      0.7547,     0.74976,     0.74539,     0.74255,      0.7405,     0.73624,     0.73122,     0.72712,     0.72242,     0.71691,      0.7122,      0.7082,     0.70387,     0.69872,     0.69454,     0.68854,     0.68285,\n",
       "            0.67711,     0.67143,     0.66494,     0.65876,     0.65137,     0.64599,     0.63911,     0.63243,     0.62502,     0.61696,     0.61039,     0.60321,     0.59496,     0.58794,     0.58111,     0.57341,     0.56519,     0.55544,       0.547,      0.5371,     0.52769,      0.5192,     0.51203,\n",
       "            0.50186,     0.49293,     0.48203,     0.46986,      0.4582,     0.44796,     0.43721,     0.42631,     0.41489,     0.40358,     0.39337,     0.37966,     0.36811,       0.359,     0.34839,     0.33587,     0.32295,     0.31089,     0.30101,      0.2895,     0.27711,      0.2648,     0.25724,\n",
       "            0.24911,     0.23996,     0.22574,     0.21567,     0.20492,     0.19389,      0.1837,     0.17279,     0.16734,     0.15861,     0.15009,      0.1425,     0.12958,     0.12397,     0.11583,     0.10624,    0.099141,    0.096008,    0.090476,    0.083276,    0.078871,    0.074247,    0.068581,\n",
       "           0.064351,     0.06013,    0.054806,    0.050989,    0.044405,     0.03963,    0.038225,    0.034617,    0.032207,    0.029719,    0.027576,    0.025816,    0.023734,    0.020975,     0.01754,    0.014562,    0.013978,    0.012713,    0.012117,    0.011773,    0.010449,   0.0090453,   0.0082298,\n",
       "           0.007442,   0.0066396,   0.0055527,   0.0052506,   0.0050933,   0.0049359,   0.0040437,   0.0036889,   0.0033162,   0.0028969,   0.0023048,   0.0019416,   0.0016823,   0.0013726,    0.001318,   0.0012633,   0.0012087,   0.0011541,   0.0010995,   0.0010384,  0.00094204,  0.00084563,  0.00074922,\n",
       "         0.00067158,  0.00061178,  0.00055198,  0.00049218,  0.00043237,  0.00037255,           0,           0,           0,           0,           0,           0,           0,           0,           0,           0,           0,           0,           0,           0,           0,           0,           0,\n",
       "                  0,           0,           0,           0,           0,           0,           0,           0,           0,           0,           0,           0,           0,           0,           0,           0,           0,           0,           0,           0,           0,           0,           0,\n",
       "                  0,           0,           0,           0,           0,           0,           0,           0,           0,           0,           0,           0,           0,           0,           0,           0,           0,           0,           0,           0,           0,           0,           0,\n",
       "                  0,           0,           0,           0,           0,           0,           0,           0,           0,           0,           0]]), 'Confidence', 'F1'], [array([          0,    0.001001,    0.002002,    0.003003,    0.004004,    0.005005,    0.006006,    0.007007,    0.008008,    0.009009,     0.01001,    0.011011,    0.012012,    0.013013,    0.014014,    0.015015,    0.016016,    0.017017,    0.018018,    0.019019,     0.02002,    0.021021,    0.022022,    0.023023,\n",
       "          0.024024,    0.025025,    0.026026,    0.027027,    0.028028,    0.029029,     0.03003,    0.031031,    0.032032,    0.033033,    0.034034,    0.035035,    0.036036,    0.037037,    0.038038,    0.039039,     0.04004,    0.041041,    0.042042,    0.043043,    0.044044,    0.045045,    0.046046,    0.047047,\n",
       "          0.048048,    0.049049,     0.05005,    0.051051,    0.052052,    0.053053,    0.054054,    0.055055,    0.056056,    0.057057,    0.058058,    0.059059,     0.06006,    0.061061,    0.062062,    0.063063,    0.064064,    0.065065,    0.066066,    0.067067,    0.068068,    0.069069,     0.07007,    0.071071,\n",
       "          0.072072,    0.073073,    0.074074,    0.075075,    0.076076,    0.077077,    0.078078,    0.079079,     0.08008,    0.081081,    0.082082,    0.083083,    0.084084,    0.085085,    0.086086,    0.087087,    0.088088,    0.089089,     0.09009,    0.091091,    0.092092,    0.093093,    0.094094,    0.095095,\n",
       "          0.096096,    0.097097,    0.098098,    0.099099,      0.1001,      0.1011,      0.1021,      0.1031,      0.1041,     0.10511,     0.10611,     0.10711,     0.10811,     0.10911,     0.11011,     0.11111,     0.11211,     0.11311,     0.11411,     0.11512,     0.11612,     0.11712,     0.11812,     0.11912,\n",
       "           0.12012,     0.12112,     0.12212,     0.12312,     0.12412,     0.12513,     0.12613,     0.12713,     0.12813,     0.12913,     0.13013,     0.13113,     0.13213,     0.13313,     0.13413,     0.13514,     0.13614,     0.13714,     0.13814,     0.13914,     0.14014,     0.14114,     0.14214,     0.14314,\n",
       "           0.14414,     0.14515,     0.14615,     0.14715,     0.14815,     0.14915,     0.15015,     0.15115,     0.15215,     0.15315,     0.15415,     0.15516,     0.15616,     0.15716,     0.15816,     0.15916,     0.16016,     0.16116,     0.16216,     0.16316,     0.16416,     0.16517,     0.16617,     0.16717,\n",
       "           0.16817,     0.16917,     0.17017,     0.17117,     0.17217,     0.17317,     0.17417,     0.17518,     0.17618,     0.17718,     0.17818,     0.17918,     0.18018,     0.18118,     0.18218,     0.18318,     0.18418,     0.18519,     0.18619,     0.18719,     0.18819,     0.18919,     0.19019,     0.19119,\n",
       "           0.19219,     0.19319,     0.19419,      0.1952,      0.1962,      0.1972,      0.1982,      0.1992,      0.2002,      0.2012,      0.2022,      0.2032,      0.2042,     0.20521,     0.20621,     0.20721,     0.20821,     0.20921,     0.21021,     0.21121,     0.21221,     0.21321,     0.21421,     0.21522,\n",
       "           0.21622,     0.21722,     0.21822,     0.21922,     0.22022,     0.22122,     0.22222,     0.22322,     0.22422,     0.22523,     0.22623,     0.22723,     0.22823,     0.22923,     0.23023,     0.23123,     0.23223,     0.23323,     0.23423,     0.23524,     0.23624,     0.23724,     0.23824,     0.23924,\n",
       "           0.24024,     0.24124,     0.24224,     0.24324,     0.24424,     0.24525,     0.24625,     0.24725,     0.24825,     0.24925,     0.25025,     0.25125,     0.25225,     0.25325,     0.25425,     0.25526,     0.25626,     0.25726,     0.25826,     0.25926,     0.26026,     0.26126,     0.26226,     0.26326,\n",
       "           0.26426,     0.26527,     0.26627,     0.26727,     0.26827,     0.26927,     0.27027,     0.27127,     0.27227,     0.27327,     0.27427,     0.27528,     0.27628,     0.27728,     0.27828,     0.27928,     0.28028,     0.28128,     0.28228,     0.28328,     0.28428,     0.28529,     0.28629,     0.28729,\n",
       "           0.28829,     0.28929,     0.29029,     0.29129,     0.29229,     0.29329,     0.29429,      0.2953,      0.2963,      0.2973,      0.2983,      0.2993,      0.3003,      0.3013,      0.3023,      0.3033,      0.3043,     0.30531,     0.30631,     0.30731,     0.30831,     0.30931,     0.31031,     0.31131,\n",
       "           0.31231,     0.31331,     0.31431,     0.31532,     0.31632,     0.31732,     0.31832,     0.31932,     0.32032,     0.32132,     0.32232,     0.32332,     0.32432,     0.32533,     0.32633,     0.32733,     0.32833,     0.32933,     0.33033,     0.33133,     0.33233,     0.33333,     0.33433,     0.33534,\n",
       "           0.33634,     0.33734,     0.33834,     0.33934,     0.34034,     0.34134,     0.34234,     0.34334,     0.34434,     0.34535,     0.34635,     0.34735,     0.34835,     0.34935,     0.35035,     0.35135,     0.35235,     0.35335,     0.35435,     0.35536,     0.35636,     0.35736,     0.35836,     0.35936,\n",
       "           0.36036,     0.36136,     0.36236,     0.36336,     0.36436,     0.36537,     0.36637,     0.36737,     0.36837,     0.36937,     0.37037,     0.37137,     0.37237,     0.37337,     0.37437,     0.37538,     0.37638,     0.37738,     0.37838,     0.37938,     0.38038,     0.38138,     0.38238,     0.38338,\n",
       "           0.38438,     0.38539,     0.38639,     0.38739,     0.38839,     0.38939,     0.39039,     0.39139,     0.39239,     0.39339,     0.39439,      0.3954,      0.3964,      0.3974,      0.3984,      0.3994,      0.4004,      0.4014,      0.4024,      0.4034,      0.4044,     0.40541,     0.40641,     0.40741,\n",
       "           0.40841,     0.40941,     0.41041,     0.41141,     0.41241,     0.41341,     0.41441,     0.41542,     0.41642,     0.41742,     0.41842,     0.41942,     0.42042,     0.42142,     0.42242,     0.42342,     0.42442,     0.42543,     0.42643,     0.42743,     0.42843,     0.42943,     0.43043,     0.43143,\n",
       "           0.43243,     0.43343,     0.43443,     0.43544,     0.43644,     0.43744,     0.43844,     0.43944,     0.44044,     0.44144,     0.44244,     0.44344,     0.44444,     0.44545,     0.44645,     0.44745,     0.44845,     0.44945,     0.45045,     0.45145,     0.45245,     0.45345,     0.45445,     0.45546,\n",
       "           0.45646,     0.45746,     0.45846,     0.45946,     0.46046,     0.46146,     0.46246,     0.46346,     0.46446,     0.46547,     0.46647,     0.46747,     0.46847,     0.46947,     0.47047,     0.47147,     0.47247,     0.47347,     0.47447,     0.47548,     0.47648,     0.47748,     0.47848,     0.47948,\n",
       "           0.48048,     0.48148,     0.48248,     0.48348,     0.48448,     0.48549,     0.48649,     0.48749,     0.48849,     0.48949,     0.49049,     0.49149,     0.49249,     0.49349,     0.49449,      0.4955,      0.4965,      0.4975,      0.4985,      0.4995,      0.5005,      0.5015,      0.5025,      0.5035,\n",
       "            0.5045,     0.50551,     0.50651,     0.50751,     0.50851,     0.50951,     0.51051,     0.51151,     0.51251,     0.51351,     0.51451,     0.51552,     0.51652,     0.51752,     0.51852,     0.51952,     0.52052,     0.52152,     0.52252,     0.52352,     0.52452,     0.52553,     0.52653,     0.52753,\n",
       "           0.52853,     0.52953,     0.53053,     0.53153,     0.53253,     0.53353,     0.53453,     0.53554,     0.53654,     0.53754,     0.53854,     0.53954,     0.54054,     0.54154,     0.54254,     0.54354,     0.54454,     0.54555,     0.54655,     0.54755,     0.54855,     0.54955,     0.55055,     0.55155,\n",
       "           0.55255,     0.55355,     0.55455,     0.55556,     0.55656,     0.55756,     0.55856,     0.55956,     0.56056,     0.56156,     0.56256,     0.56356,     0.56456,     0.56557,     0.56657,     0.56757,     0.56857,     0.56957,     0.57057,     0.57157,     0.57257,     0.57357,     0.57457,     0.57558,\n",
       "           0.57658,     0.57758,     0.57858,     0.57958,     0.58058,     0.58158,     0.58258,     0.58358,     0.58458,     0.58559,     0.58659,     0.58759,     0.58859,     0.58959,     0.59059,     0.59159,     0.59259,     0.59359,     0.59459,      0.5956,      0.5966,      0.5976,      0.5986,      0.5996,\n",
       "            0.6006,      0.6016,      0.6026,      0.6036,      0.6046,     0.60561,     0.60661,     0.60761,     0.60861,     0.60961,     0.61061,     0.61161,     0.61261,     0.61361,     0.61461,     0.61562,     0.61662,     0.61762,     0.61862,     0.61962,     0.62062,     0.62162,     0.62262,     0.62362,\n",
       "           0.62462,     0.62563,     0.62663,     0.62763,     0.62863,     0.62963,     0.63063,     0.63163,     0.63263,     0.63363,     0.63463,     0.63564,     0.63664,     0.63764,     0.63864,     0.63964,     0.64064,     0.64164,     0.64264,     0.64364,     0.64464,     0.64565,     0.64665,     0.64765,\n",
       "           0.64865,     0.64965,     0.65065,     0.65165,     0.65265,     0.65365,     0.65465,     0.65566,     0.65666,     0.65766,     0.65866,     0.65966,     0.66066,     0.66166,     0.66266,     0.66366,     0.66466,     0.66567,     0.66667,     0.66767,     0.66867,     0.66967,     0.67067,     0.67167,\n",
       "           0.67267,     0.67367,     0.67467,     0.67568,     0.67668,     0.67768,     0.67868,     0.67968,     0.68068,     0.68168,     0.68268,     0.68368,     0.68468,     0.68569,     0.68669,     0.68769,     0.68869,     0.68969,     0.69069,     0.69169,     0.69269,     0.69369,     0.69469,      0.6957,\n",
       "            0.6967,      0.6977,      0.6987,      0.6997,      0.7007,      0.7017,      0.7027,      0.7037,      0.7047,     0.70571,     0.70671,     0.70771,     0.70871,     0.70971,     0.71071,     0.71171,     0.71271,     0.71371,     0.71471,     0.71572,     0.71672,     0.71772,     0.71872,     0.71972,\n",
       "           0.72072,     0.72172,     0.72272,     0.72372,     0.72472,     0.72573,     0.72673,     0.72773,     0.72873,     0.72973,     0.73073,     0.73173,     0.73273,     0.73373,     0.73473,     0.73574,     0.73674,     0.73774,     0.73874,     0.73974,     0.74074,     0.74174,     0.74274,     0.74374,\n",
       "           0.74474,     0.74575,     0.74675,     0.74775,     0.74875,     0.74975,     0.75075,     0.75175,     0.75275,     0.75375,     0.75475,     0.75576,     0.75676,     0.75776,     0.75876,     0.75976,     0.76076,     0.76176,     0.76276,     0.76376,     0.76476,     0.76577,     0.76677,     0.76777,\n",
       "           0.76877,     0.76977,     0.77077,     0.77177,     0.77277,     0.77377,     0.77477,     0.77578,     0.77678,     0.77778,     0.77878,     0.77978,     0.78078,     0.78178,     0.78278,     0.78378,     0.78478,     0.78579,     0.78679,     0.78779,     0.78879,     0.78979,     0.79079,     0.79179,\n",
       "           0.79279,     0.79379,     0.79479,      0.7958,      0.7968,      0.7978,      0.7988,      0.7998,      0.8008,      0.8018,      0.8028,      0.8038,      0.8048,     0.80581,     0.80681,     0.80781,     0.80881,     0.80981,     0.81081,     0.81181,     0.81281,     0.81381,     0.81481,     0.81582,\n",
       "           0.81682,     0.81782,     0.81882,     0.81982,     0.82082,     0.82182,     0.82282,     0.82382,     0.82482,     0.82583,     0.82683,     0.82783,     0.82883,     0.82983,     0.83083,     0.83183,     0.83283,     0.83383,     0.83483,     0.83584,     0.83684,     0.83784,     0.83884,     0.83984,\n",
       "           0.84084,     0.84184,     0.84284,     0.84384,     0.84484,     0.84585,     0.84685,     0.84785,     0.84885,     0.84985,     0.85085,     0.85185,     0.85285,     0.85385,     0.85485,     0.85586,     0.85686,     0.85786,     0.85886,     0.85986,     0.86086,     0.86186,     0.86286,     0.86386,\n",
       "           0.86486,     0.86587,     0.86687,     0.86787,     0.86887,     0.86987,     0.87087,     0.87187,     0.87287,     0.87387,     0.87487,     0.87588,     0.87688,     0.87788,     0.87888,     0.87988,     0.88088,     0.88188,     0.88288,     0.88388,     0.88488,     0.88589,     0.88689,     0.88789,\n",
       "           0.88889,     0.88989,     0.89089,     0.89189,     0.89289,     0.89389,     0.89489,      0.8959,      0.8969,      0.8979,      0.8989,      0.8999,      0.9009,      0.9019,      0.9029,      0.9039,      0.9049,     0.90591,     0.90691,     0.90791,     0.90891,     0.90991,     0.91091,     0.91191,\n",
       "           0.91291,     0.91391,     0.91491,     0.91592,     0.91692,     0.91792,     0.91892,     0.91992,     0.92092,     0.92192,     0.92292,     0.92392,     0.92492,     0.92593,     0.92693,     0.92793,     0.92893,     0.92993,     0.93093,     0.93193,     0.93293,     0.93393,     0.93493,     0.93594,\n",
       "           0.93694,     0.93794,     0.93894,     0.93994,     0.94094,     0.94194,     0.94294,     0.94394,     0.94494,     0.94595,     0.94695,     0.94795,     0.94895,     0.94995,     0.95095,     0.95195,     0.95295,     0.95395,     0.95495,     0.95596,     0.95696,     0.95796,     0.95896,     0.95996,\n",
       "           0.96096,     0.96196,     0.96296,     0.96396,     0.96496,     0.96597,     0.96697,     0.96797,     0.96897,     0.96997,     0.97097,     0.97197,     0.97297,     0.97397,     0.97497,     0.97598,     0.97698,     0.97798,     0.97898,     0.97998,     0.98098,     0.98198,     0.98298,     0.98398,\n",
       "           0.98498,     0.98599,     0.98699,     0.98799,     0.98899,     0.98999,     0.99099,     0.99199,     0.99299,     0.99399,     0.99499,       0.996,       0.997,       0.998,       0.999,           1]), array([[    0.14604,     0.14611,      0.2129,     0.26165,     0.30104,     0.33445,     0.36234,     0.38722,     0.40815,     0.42791,     0.44605,     0.46248,     0.47615,     0.49029,      0.5031,     0.51467,     0.52547,      0.5354,     0.54461,     0.55318,     0.56158,     0.56947,     0.57754,\n",
       "            0.58525,     0.59184,     0.59841,     0.60548,     0.61204,     0.61869,     0.62504,     0.63113,     0.63707,     0.64228,      0.6476,     0.65376,     0.65874,     0.66164,     0.66689,     0.67081,     0.67574,     0.68123,     0.68533,     0.68967,     0.69309,     0.69723,     0.70069,\n",
       "            0.70443,      0.7072,     0.71181,     0.71571,     0.71881,      0.7216,     0.72392,     0.72602,     0.72934,     0.73227,     0.73463,     0.73727,     0.73984,     0.74167,     0.74375,      0.7468,     0.74975,     0.75184,     0.75479,     0.75772,     0.75945,     0.76206,     0.76456,\n",
       "            0.76689,     0.76859,     0.77069,     0.77246,     0.77425,     0.77682,     0.77851,      0.7811,     0.78297,     0.78532,     0.78699,     0.78976,      0.7917,     0.79377,     0.79607,     0.79725,     0.79877,     0.80094,     0.80274,     0.80481,     0.80645,     0.80775,     0.80945,\n",
       "            0.81172,      0.8142,     0.81598,     0.81739,     0.82001,     0.82205,     0.82376,     0.82467,     0.82615,     0.82747,     0.82904,      0.8304,     0.83264,     0.83385,     0.83514,     0.83654,     0.83766,     0.83943,     0.84145,     0.84294,     0.84456,     0.84612,     0.84763,\n",
       "             0.8493,     0.85007,     0.85157,     0.85229,     0.85361,     0.85489,     0.85645,     0.85732,     0.85866,     0.85958,     0.86032,     0.86171,     0.86339,     0.86458,     0.86589,     0.86717,     0.86779,      0.8682,     0.86933,      0.8701,     0.87108,     0.87263,      0.8736,\n",
       "            0.87418,     0.87529,     0.87594,      0.8768,     0.87717,     0.87856,     0.87929,      0.8798,     0.88063,     0.88095,       0.882,     0.88255,     0.88357,     0.88397,     0.88462,     0.88502,     0.88582,     0.88618,     0.88669,     0.88697,     0.88722,     0.88774,     0.88815,\n",
       "            0.88869,     0.88886,     0.88905,     0.89003,     0.89042,      0.8915,     0.89296,     0.89348,     0.89381,     0.89439,     0.89502,     0.89534,     0.89593,     0.89615,     0.89677,     0.89695,     0.89733,     0.89767,     0.89804,     0.89891,     0.89931,     0.89978,     0.90019,\n",
       "            0.90052,     0.90071,     0.90116,     0.90177,     0.90266,     0.90314,     0.90334,      0.9041,     0.90464,     0.90501,     0.90514,     0.90553,     0.90631,     0.90726,     0.90794,     0.90823,     0.90878,     0.90928,     0.91001,     0.91016,     0.91034,     0.91061,     0.91093,\n",
       "            0.91112,     0.91182,     0.91231,     0.91317,     0.91366,     0.91424,     0.91435,     0.91447,     0.91527,     0.91572,     0.91616,       0.917,     0.91795,     0.91864,     0.91936,     0.91935,     0.91961,      0.9201,     0.92047,     0.92124,     0.92193,     0.92238,     0.92286,\n",
       "            0.92323,     0.92383,     0.92422,     0.92447,      0.9249,     0.92539,     0.92569,     0.92614,     0.92654,     0.92698,     0.92743,     0.92799,     0.92804,     0.92842,     0.92932,     0.93017,     0.93028,     0.93055,     0.93078,     0.93126,     0.93181,      0.9321,     0.93227,\n",
       "             0.9324,     0.93276,     0.93298,     0.93335,     0.93358,     0.93374,     0.93428,     0.93499,     0.93519,     0.93571,     0.93577,     0.93583,     0.93584,     0.93597,     0.93622,     0.93645,     0.93654,     0.93664,     0.93675,     0.93714,     0.93754,     0.93783,     0.93795,\n",
       "            0.93807,     0.93841,     0.93848,     0.93887,     0.93919,      0.9393,     0.93948,     0.93966,     0.93989,     0.94008,     0.94025,     0.94049,     0.94065,     0.94106,     0.94149,     0.94185,     0.94246,     0.94274,     0.94292,     0.94344,     0.94395,       0.944,     0.94408,\n",
       "             0.9445,     0.94475,     0.94484,     0.94492,     0.94548,     0.94624,     0.94634,     0.94643,     0.94655,     0.94662,     0.94669,     0.94681,     0.94716,     0.94725,     0.94737,     0.94781,     0.94836,     0.94856,     0.94903,     0.94923,     0.95018,     0.95064,     0.95073,\n",
       "            0.95114,     0.95159,     0.95161,     0.95185,     0.95197,     0.95227,     0.95242,     0.95259,     0.95276,     0.95276,     0.95294,     0.95321,     0.95389,      0.9541,     0.95438,     0.95456,     0.95504,     0.95512,     0.95524,      0.9553,     0.95536,     0.95536,     0.95542,\n",
       "            0.95569,      0.9558,     0.95599,     0.95647,     0.95671,     0.95677,     0.95683,     0.95727,     0.95752,     0.95757,     0.95763,     0.95785,     0.95817,     0.95818,     0.95853,     0.95867,     0.95866,      0.9588,     0.95895,     0.95909,     0.95935,     0.95939,     0.95944,\n",
       "            0.95949,     0.95958,     0.95965,     0.95974,     0.95982,     0.96015,     0.96014,     0.96045,     0.96061,     0.96105,     0.96115,     0.96115,     0.96115,     0.96142,     0.96182,     0.96181,      0.9618,     0.96201,      0.9621,     0.96228,     0.96265,     0.96264,     0.96272,\n",
       "             0.9628,     0.96288,     0.96295,      0.9631,     0.96331,       0.964,     0.96404,     0.96412,     0.96416,     0.96415,     0.96425,     0.96449,     0.96481,     0.96504,     0.96519,     0.96525,     0.96532,      0.9655,      0.9655,     0.96559,     0.96635,     0.96635,     0.96635,\n",
       "            0.96641,     0.96647,     0.96652,     0.96675,      0.9671,      0.9672,     0.96726,     0.96736,     0.96736,     0.96753,      0.9677,      0.9677,      0.9677,     0.96784,     0.96806,     0.96812,     0.96819,     0.96832,      0.9685,     0.96874,     0.96909,     0.96918,     0.96945,\n",
       "            0.96981,     0.96992,     0.97009,     0.97016,     0.97027,     0.97033,      0.9704,     0.97046,      0.9706,     0.97082,     0.97112,     0.97124,     0.97146,     0.97165,     0.97232,     0.97231,      0.9723,     0.97232,     0.97246,     0.97264,     0.97263,     0.97263,     0.97283,\n",
       "            0.97292,     0.97302,     0.97315,      0.9732,     0.97328,     0.97337,     0.97348,     0.97352,     0.97358,     0.97364,      0.9737,     0.97377,       0.974,       0.974,     0.97435,     0.97434,     0.97434,     0.97448,     0.97455,     0.97475,     0.97498,     0.97503,     0.97502,\n",
       "             0.9751,     0.97518,     0.97528,     0.97546,     0.97558,     0.97582,      0.9759,     0.97604,     0.97628,     0.97638,     0.97658,     0.97657,     0.97675,     0.97675,     0.97677,     0.97693,      0.9771,     0.97727,     0.97726,     0.97742,     0.97761,     0.97771,     0.97798,\n",
       "            0.97807,     0.97814,     0.97849,     0.97858,     0.97866,     0.97865,     0.97865,     0.97889,     0.97897,     0.97913,     0.97917,     0.97928,     0.97987,     0.97987,     0.98005,     0.98022,     0.98022,     0.98057,     0.98057,     0.98074,     0.98074,     0.98074,     0.98074,\n",
       "            0.98091,     0.98091,     0.98109,     0.98114,     0.98118,     0.98123,     0.98128,     0.98137,     0.98163,     0.98184,     0.98197,     0.98197,     0.98197,     0.98215,     0.98223,     0.98268,     0.98304,     0.98303,     0.98303,     0.98303,     0.98313,     0.98345,     0.98359,\n",
       "             0.9837,     0.98392,     0.98391,     0.98391,     0.98391,     0.98411,     0.98426,     0.98426,     0.98443,     0.98442,     0.98442,     0.98442,     0.98449,     0.98459,     0.98477,     0.98531,      0.9853,     0.98548,     0.98547,     0.98546,     0.98569,     0.98608,     0.98639,\n",
       "            0.98654,     0.98654,     0.98669,     0.98672,     0.98671,     0.98707,     0.98707,     0.98706,     0.98725,     0.98724,     0.98724,     0.98724,     0.98742,     0.98741,     0.98741,     0.98759,     0.98758,     0.98758,     0.98776,     0.98787,     0.98794,     0.98793,     0.98793,\n",
       "            0.98792,      0.9881,     0.98828,     0.98827,     0.98827,     0.98826,     0.98845,     0.98865,     0.98904,     0.98915,     0.98917,     0.98916,     0.98934,     0.98933,     0.98933,     0.98957,     0.98969,     0.98969,     0.98968,     0.98967,     0.98966,     0.98966,     0.98965,\n",
       "            0.98964,     0.98982,     0.98982,      0.9898,     0.99017,      0.9903,     0.99035,     0.99035,     0.99053,      0.9909,     0.99122,     0.99129,     0.99146,     0.99145,     0.99164,     0.99164,     0.99163,     0.99181,     0.99181,     0.99186,       0.992,     0.99199,     0.99199,\n",
       "            0.99198,     0.99197,     0.99196,     0.99196,     0.99215,     0.99233,     0.99232,     0.99232,     0.99231,      0.9923,     0.99247,     0.99247,     0.99246,     0.99284,     0.99283,     0.99282,     0.99281,      0.9928,     0.99299,     0.99338,     0.99356,     0.99356,     0.99355,\n",
       "            0.99371,     0.99392,     0.99392,     0.99391,     0.99409,     0.99409,     0.99409,     0.99428,     0.99466,     0.99465,     0.99465,     0.99464,     0.99503,     0.99503,     0.99502,     0.99501,     0.99501,       0.995,      0.9952,     0.99519,     0.99518,     0.99537,     0.99577,\n",
       "            0.99596,     0.99596,     0.99595,     0.99595,     0.99594,     0.99614,     0.99614,     0.99633,     0.99633,     0.99632,     0.99652,     0.99652,     0.99651,      0.9965,      0.9965,     0.99649,     0.99649,     0.99648,     0.99648,     0.99647,     0.99646,     0.99646,     0.99646,\n",
       "            0.99645,     0.99645,     0.99644,     0.99664,     0.99663,     0.99662,     0.99683,     0.99682,     0.99702,     0.99701,       0.997,     0.99699,     0.99699,     0.99698,     0.99697,     0.99717,     0.99717,     0.99716,     0.99716,     0.99715,     0.99714,     0.99713,     0.99713,\n",
       "            0.99734,     0.99733,     0.99754,     0.99754,     0.99753,     0.99752,     0.99751,      0.9975,     0.99772,     0.99771,      0.9977,      0.9977,     0.99772,     0.99791,     0.99813,     0.99812,     0.99812,     0.99811,      0.9981,     0.99809,     0.99809,     0.99808,     0.99807,\n",
       "            0.99806,     0.99805,     0.99803,     0.99803,     0.99802,     0.99801,     0.99799,     0.99824,     0.99823,     0.99822,     0.99821,      0.9982,     0.99819,     0.99818,     0.99869,     0.99895,     0.99894,     0.99894,     0.99893,     0.99892,     0.99892,     0.99891,      0.9989,\n",
       "             0.9989,     0.99889,     0.99888,     0.99887,     0.99915,     0.99914,     0.99913,     0.99912,     0.99911,     0.99941,      0.9994,      0.9997,      0.9997,     0.99969,     0.99969,     0.99969,     0.99968,     0.99968,     0.99968,     0.99967,     0.99967,     0.99967,     0.99966,\n",
       "            0.99966,     0.99965,     0.99965,     0.99964,     0.99964,     0.99963,     0.99963,     0.99962,     0.99961,     0.99961,      0.9996,     0.99959,     0.99959,     0.99958,     0.99957,     0.99956,     0.99955,     0.99954,     0.99953,     0.99952,     0.99951,      0.9995,     0.99949,\n",
       "            0.99948,     0.99946,     0.99945,     0.99943,     0.99941,     0.99939,     0.99937,     0.99935,     0.99933,     0.99931,     0.99928,     0.99925,     0.99922,      0.9992,           1,           1,           1,           1,           1,           1,           1,           1,           1,\n",
       "                  1,           1,           1,           1,           1,           1,           1,           1,           1,           1,           1,           1,           1,           1,           1,           1,           1,           1,           1,           1,           1,           1,           1,\n",
       "                  1,           1,           1,           1,           1,           1,           1,           1,           1,           1,           1,           1,           1,           1,           1,           1,           1,           1,           1,           1,           1,           1,           1,\n",
       "                  1,           1,           1,           1,           1,           1,           1,           1,           1,           1,           1,           1,           1,           1,           1,           1,           1,           1,           1,           1,           1,           1,           1,\n",
       "                  1,           1,           1,           1,           1,           1,           1,           1,           1,           1,           1,           1,           1,           1,           1,           1,           1,           1,           1,           1,           1,           1,           1,\n",
       "                  1,           1,           1,           1,           1,           1,           1,           1,           1,           1,           1,           1,           1,           1,           1,           1,           1,           1,           1,           1,           1,           1,           1,\n",
       "                  1,           1,           1,           1,           1,           1,           1,           1,           1,           1,           1,           1,           1,           1,           1,           1,           1,           1,           1,           1,           1,           1,           1,\n",
       "                  1,           1,           1,           1,           1,           1,           1,           1,           1,           1,           1]]), 'Confidence', 'Precision'], [array([          0,    0.001001,    0.002002,    0.003003,    0.004004,    0.005005,    0.006006,    0.007007,    0.008008,    0.009009,     0.01001,    0.011011,    0.012012,    0.013013,    0.014014,    0.015015,    0.016016,    0.017017,    0.018018,    0.019019,     0.02002,    0.021021,    0.022022,    0.023023,\n",
       "          0.024024,    0.025025,    0.026026,    0.027027,    0.028028,    0.029029,     0.03003,    0.031031,    0.032032,    0.033033,    0.034034,    0.035035,    0.036036,    0.037037,    0.038038,    0.039039,     0.04004,    0.041041,    0.042042,    0.043043,    0.044044,    0.045045,    0.046046,    0.047047,\n",
       "          0.048048,    0.049049,     0.05005,    0.051051,    0.052052,    0.053053,    0.054054,    0.055055,    0.056056,    0.057057,    0.058058,    0.059059,     0.06006,    0.061061,    0.062062,    0.063063,    0.064064,    0.065065,    0.066066,    0.067067,    0.068068,    0.069069,     0.07007,    0.071071,\n",
       "          0.072072,    0.073073,    0.074074,    0.075075,    0.076076,    0.077077,    0.078078,    0.079079,     0.08008,    0.081081,    0.082082,    0.083083,    0.084084,    0.085085,    0.086086,    0.087087,    0.088088,    0.089089,     0.09009,    0.091091,    0.092092,    0.093093,    0.094094,    0.095095,\n",
       "          0.096096,    0.097097,    0.098098,    0.099099,      0.1001,      0.1011,      0.1021,      0.1031,      0.1041,     0.10511,     0.10611,     0.10711,     0.10811,     0.10911,     0.11011,     0.11111,     0.11211,     0.11311,     0.11411,     0.11512,     0.11612,     0.11712,     0.11812,     0.11912,\n",
       "           0.12012,     0.12112,     0.12212,     0.12312,     0.12412,     0.12513,     0.12613,     0.12713,     0.12813,     0.12913,     0.13013,     0.13113,     0.13213,     0.13313,     0.13413,     0.13514,     0.13614,     0.13714,     0.13814,     0.13914,     0.14014,     0.14114,     0.14214,     0.14314,\n",
       "           0.14414,     0.14515,     0.14615,     0.14715,     0.14815,     0.14915,     0.15015,     0.15115,     0.15215,     0.15315,     0.15415,     0.15516,     0.15616,     0.15716,     0.15816,     0.15916,     0.16016,     0.16116,     0.16216,     0.16316,     0.16416,     0.16517,     0.16617,     0.16717,\n",
       "           0.16817,     0.16917,     0.17017,     0.17117,     0.17217,     0.17317,     0.17417,     0.17518,     0.17618,     0.17718,     0.17818,     0.17918,     0.18018,     0.18118,     0.18218,     0.18318,     0.18418,     0.18519,     0.18619,     0.18719,     0.18819,     0.18919,     0.19019,     0.19119,\n",
       "           0.19219,     0.19319,     0.19419,      0.1952,      0.1962,      0.1972,      0.1982,      0.1992,      0.2002,      0.2012,      0.2022,      0.2032,      0.2042,     0.20521,     0.20621,     0.20721,     0.20821,     0.20921,     0.21021,     0.21121,     0.21221,     0.21321,     0.21421,     0.21522,\n",
       "           0.21622,     0.21722,     0.21822,     0.21922,     0.22022,     0.22122,     0.22222,     0.22322,     0.22422,     0.22523,     0.22623,     0.22723,     0.22823,     0.22923,     0.23023,     0.23123,     0.23223,     0.23323,     0.23423,     0.23524,     0.23624,     0.23724,     0.23824,     0.23924,\n",
       "           0.24024,     0.24124,     0.24224,     0.24324,     0.24424,     0.24525,     0.24625,     0.24725,     0.24825,     0.24925,     0.25025,     0.25125,     0.25225,     0.25325,     0.25425,     0.25526,     0.25626,     0.25726,     0.25826,     0.25926,     0.26026,     0.26126,     0.26226,     0.26326,\n",
       "           0.26426,     0.26527,     0.26627,     0.26727,     0.26827,     0.26927,     0.27027,     0.27127,     0.27227,     0.27327,     0.27427,     0.27528,     0.27628,     0.27728,     0.27828,     0.27928,     0.28028,     0.28128,     0.28228,     0.28328,     0.28428,     0.28529,     0.28629,     0.28729,\n",
       "           0.28829,     0.28929,     0.29029,     0.29129,     0.29229,     0.29329,     0.29429,      0.2953,      0.2963,      0.2973,      0.2983,      0.2993,      0.3003,      0.3013,      0.3023,      0.3033,      0.3043,     0.30531,     0.30631,     0.30731,     0.30831,     0.30931,     0.31031,     0.31131,\n",
       "           0.31231,     0.31331,     0.31431,     0.31532,     0.31632,     0.31732,     0.31832,     0.31932,     0.32032,     0.32132,     0.32232,     0.32332,     0.32432,     0.32533,     0.32633,     0.32733,     0.32833,     0.32933,     0.33033,     0.33133,     0.33233,     0.33333,     0.33433,     0.33534,\n",
       "           0.33634,     0.33734,     0.33834,     0.33934,     0.34034,     0.34134,     0.34234,     0.34334,     0.34434,     0.34535,     0.34635,     0.34735,     0.34835,     0.34935,     0.35035,     0.35135,     0.35235,     0.35335,     0.35435,     0.35536,     0.35636,     0.35736,     0.35836,     0.35936,\n",
       "           0.36036,     0.36136,     0.36236,     0.36336,     0.36436,     0.36537,     0.36637,     0.36737,     0.36837,     0.36937,     0.37037,     0.37137,     0.37237,     0.37337,     0.37437,     0.37538,     0.37638,     0.37738,     0.37838,     0.37938,     0.38038,     0.38138,     0.38238,     0.38338,\n",
       "           0.38438,     0.38539,     0.38639,     0.38739,     0.38839,     0.38939,     0.39039,     0.39139,     0.39239,     0.39339,     0.39439,      0.3954,      0.3964,      0.3974,      0.3984,      0.3994,      0.4004,      0.4014,      0.4024,      0.4034,      0.4044,     0.40541,     0.40641,     0.40741,\n",
       "           0.40841,     0.40941,     0.41041,     0.41141,     0.41241,     0.41341,     0.41441,     0.41542,     0.41642,     0.41742,     0.41842,     0.41942,     0.42042,     0.42142,     0.42242,     0.42342,     0.42442,     0.42543,     0.42643,     0.42743,     0.42843,     0.42943,     0.43043,     0.43143,\n",
       "           0.43243,     0.43343,     0.43443,     0.43544,     0.43644,     0.43744,     0.43844,     0.43944,     0.44044,     0.44144,     0.44244,     0.44344,     0.44444,     0.44545,     0.44645,     0.44745,     0.44845,     0.44945,     0.45045,     0.45145,     0.45245,     0.45345,     0.45445,     0.45546,\n",
       "           0.45646,     0.45746,     0.45846,     0.45946,     0.46046,     0.46146,     0.46246,     0.46346,     0.46446,     0.46547,     0.46647,     0.46747,     0.46847,     0.46947,     0.47047,     0.47147,     0.47247,     0.47347,     0.47447,     0.47548,     0.47648,     0.47748,     0.47848,     0.47948,\n",
       "           0.48048,     0.48148,     0.48248,     0.48348,     0.48448,     0.48549,     0.48649,     0.48749,     0.48849,     0.48949,     0.49049,     0.49149,     0.49249,     0.49349,     0.49449,      0.4955,      0.4965,      0.4975,      0.4985,      0.4995,      0.5005,      0.5015,      0.5025,      0.5035,\n",
       "            0.5045,     0.50551,     0.50651,     0.50751,     0.50851,     0.50951,     0.51051,     0.51151,     0.51251,     0.51351,     0.51451,     0.51552,     0.51652,     0.51752,     0.51852,     0.51952,     0.52052,     0.52152,     0.52252,     0.52352,     0.52452,     0.52553,     0.52653,     0.52753,\n",
       "           0.52853,     0.52953,     0.53053,     0.53153,     0.53253,     0.53353,     0.53453,     0.53554,     0.53654,     0.53754,     0.53854,     0.53954,     0.54054,     0.54154,     0.54254,     0.54354,     0.54454,     0.54555,     0.54655,     0.54755,     0.54855,     0.54955,     0.55055,     0.55155,\n",
       "           0.55255,     0.55355,     0.55455,     0.55556,     0.55656,     0.55756,     0.55856,     0.55956,     0.56056,     0.56156,     0.56256,     0.56356,     0.56456,     0.56557,     0.56657,     0.56757,     0.56857,     0.56957,     0.57057,     0.57157,     0.57257,     0.57357,     0.57457,     0.57558,\n",
       "           0.57658,     0.57758,     0.57858,     0.57958,     0.58058,     0.58158,     0.58258,     0.58358,     0.58458,     0.58559,     0.58659,     0.58759,     0.58859,     0.58959,     0.59059,     0.59159,     0.59259,     0.59359,     0.59459,      0.5956,      0.5966,      0.5976,      0.5986,      0.5996,\n",
       "            0.6006,      0.6016,      0.6026,      0.6036,      0.6046,     0.60561,     0.60661,     0.60761,     0.60861,     0.60961,     0.61061,     0.61161,     0.61261,     0.61361,     0.61461,     0.61562,     0.61662,     0.61762,     0.61862,     0.61962,     0.62062,     0.62162,     0.62262,     0.62362,\n",
       "           0.62462,     0.62563,     0.62663,     0.62763,     0.62863,     0.62963,     0.63063,     0.63163,     0.63263,     0.63363,     0.63463,     0.63564,     0.63664,     0.63764,     0.63864,     0.63964,     0.64064,     0.64164,     0.64264,     0.64364,     0.64464,     0.64565,     0.64665,     0.64765,\n",
       "           0.64865,     0.64965,     0.65065,     0.65165,     0.65265,     0.65365,     0.65465,     0.65566,     0.65666,     0.65766,     0.65866,     0.65966,     0.66066,     0.66166,     0.66266,     0.66366,     0.66466,     0.66567,     0.66667,     0.66767,     0.66867,     0.66967,     0.67067,     0.67167,\n",
       "           0.67267,     0.67367,     0.67467,     0.67568,     0.67668,     0.67768,     0.67868,     0.67968,     0.68068,     0.68168,     0.68268,     0.68368,     0.68468,     0.68569,     0.68669,     0.68769,     0.68869,     0.68969,     0.69069,     0.69169,     0.69269,     0.69369,     0.69469,      0.6957,\n",
       "            0.6967,      0.6977,      0.6987,      0.6997,      0.7007,      0.7017,      0.7027,      0.7037,      0.7047,     0.70571,     0.70671,     0.70771,     0.70871,     0.70971,     0.71071,     0.71171,     0.71271,     0.71371,     0.71471,     0.71572,     0.71672,     0.71772,     0.71872,     0.71972,\n",
       "           0.72072,     0.72172,     0.72272,     0.72372,     0.72472,     0.72573,     0.72673,     0.72773,     0.72873,     0.72973,     0.73073,     0.73173,     0.73273,     0.73373,     0.73473,     0.73574,     0.73674,     0.73774,     0.73874,     0.73974,     0.74074,     0.74174,     0.74274,     0.74374,\n",
       "           0.74474,     0.74575,     0.74675,     0.74775,     0.74875,     0.74975,     0.75075,     0.75175,     0.75275,     0.75375,     0.75475,     0.75576,     0.75676,     0.75776,     0.75876,     0.75976,     0.76076,     0.76176,     0.76276,     0.76376,     0.76476,     0.76577,     0.76677,     0.76777,\n",
       "           0.76877,     0.76977,     0.77077,     0.77177,     0.77277,     0.77377,     0.77477,     0.77578,     0.77678,     0.77778,     0.77878,     0.77978,     0.78078,     0.78178,     0.78278,     0.78378,     0.78478,     0.78579,     0.78679,     0.78779,     0.78879,     0.78979,     0.79079,     0.79179,\n",
       "           0.79279,     0.79379,     0.79479,      0.7958,      0.7968,      0.7978,      0.7988,      0.7998,      0.8008,      0.8018,      0.8028,      0.8038,      0.8048,     0.80581,     0.80681,     0.80781,     0.80881,     0.80981,     0.81081,     0.81181,     0.81281,     0.81381,     0.81481,     0.81582,\n",
       "           0.81682,     0.81782,     0.81882,     0.81982,     0.82082,     0.82182,     0.82282,     0.82382,     0.82482,     0.82583,     0.82683,     0.82783,     0.82883,     0.82983,     0.83083,     0.83183,     0.83283,     0.83383,     0.83483,     0.83584,     0.83684,     0.83784,     0.83884,     0.83984,\n",
       "           0.84084,     0.84184,     0.84284,     0.84384,     0.84484,     0.84585,     0.84685,     0.84785,     0.84885,     0.84985,     0.85085,     0.85185,     0.85285,     0.85385,     0.85485,     0.85586,     0.85686,     0.85786,     0.85886,     0.85986,     0.86086,     0.86186,     0.86286,     0.86386,\n",
       "           0.86486,     0.86587,     0.86687,     0.86787,     0.86887,     0.86987,     0.87087,     0.87187,     0.87287,     0.87387,     0.87487,     0.87588,     0.87688,     0.87788,     0.87888,     0.87988,     0.88088,     0.88188,     0.88288,     0.88388,     0.88488,     0.88589,     0.88689,     0.88789,\n",
       "           0.88889,     0.88989,     0.89089,     0.89189,     0.89289,     0.89389,     0.89489,      0.8959,      0.8969,      0.8979,      0.8989,      0.8999,      0.9009,      0.9019,      0.9029,      0.9039,      0.9049,     0.90591,     0.90691,     0.90791,     0.90891,     0.90991,     0.91091,     0.91191,\n",
       "           0.91291,     0.91391,     0.91491,     0.91592,     0.91692,     0.91792,     0.91892,     0.91992,     0.92092,     0.92192,     0.92292,     0.92392,     0.92492,     0.92593,     0.92693,     0.92793,     0.92893,     0.92993,     0.93093,     0.93193,     0.93293,     0.93393,     0.93493,     0.93594,\n",
       "           0.93694,     0.93794,     0.93894,     0.93994,     0.94094,     0.94194,     0.94294,     0.94394,     0.94494,     0.94595,     0.94695,     0.94795,     0.94895,     0.94995,     0.95095,     0.95195,     0.95295,     0.95395,     0.95495,     0.95596,     0.95696,     0.95796,     0.95896,     0.95996,\n",
       "           0.96096,     0.96196,     0.96296,     0.96396,     0.96496,     0.96597,     0.96697,     0.96797,     0.96897,     0.96997,     0.97097,     0.97197,     0.97297,     0.97397,     0.97497,     0.97598,     0.97698,     0.97798,     0.97898,     0.97998,     0.98098,     0.98198,     0.98298,     0.98398,\n",
       "           0.98498,     0.98599,     0.98699,     0.98799,     0.98899,     0.98999,     0.99099,     0.99199,     0.99299,     0.99399,     0.99499,       0.996,       0.997,       0.998,       0.999,           1]), array([[    0.98981,     0.98981,     0.98876,     0.98823,     0.98806,     0.98771,     0.98648,     0.98595,      0.9856,      0.9849,      0.9849,      0.9849,      0.9849,     0.98437,     0.98419,     0.98384,     0.98384,     0.98384,     0.98367,     0.98349,     0.98314,     0.98314,     0.98279,\n",
       "            0.98279,     0.98279,     0.98279,     0.98261,     0.98261,     0.98191,     0.98174,     0.98121,     0.98103,     0.98103,     0.98086,     0.98086,     0.98051,     0.98051,     0.98033,     0.98015,      0.9798,      0.9798,     0.97945,     0.97945,     0.97928,      0.9791,     0.97875,\n",
       "            0.97875,     0.97857,     0.97857,      0.9784,      0.9784,     0.97822,     0.97822,     0.97805,     0.97805,     0.97805,     0.97805,     0.97787,     0.97787,      0.9777,      0.9777,      0.9777,      0.9777,     0.97752,     0.97752,     0.97752,     0.97734,     0.97717,     0.97717,\n",
       "            0.97647,     0.97647,     0.97647,     0.97629,     0.97612,     0.97612,     0.97612,     0.97594,     0.97576,     0.97576,     0.97541,     0.97524,     0.97506,     0.97506,     0.97489,     0.97489,     0.97489,     0.97471,     0.97453,     0.97453,     0.97453,     0.97453,     0.97453,\n",
       "            0.97436,     0.97436,     0.97436,     0.97436,     0.97436,     0.97436,     0.97436,     0.97436,     0.97418,     0.97418,     0.97418,     0.97418,     0.97418,     0.97401,     0.97401,     0.97383,     0.97383,     0.97383,     0.97366,     0.97366,     0.97366,     0.97366,     0.97366,\n",
       "            0.97348,     0.97348,     0.97336,     0.97331,     0.97331,     0.97331,     0.97331,     0.97331,     0.97313,     0.97313,     0.97313,     0.97295,      0.9726,      0.9726,      0.9726,     0.97243,     0.97243,     0.97243,     0.97243,     0.97243,     0.97243,     0.97243,     0.97243,\n",
       "            0.97225,     0.97208,      0.9719,      0.9719,      0.9719,      0.9719,      0.9719,     0.97185,     0.97172,     0.97155,     0.97137,     0.97132,      0.9712,      0.9712,      0.9712,      0.9712,      0.9712,     0.97102,     0.97102,     0.97102,     0.97102,     0.97102,     0.97102,\n",
       "            0.97102,     0.97102,     0.97085,     0.97083,      0.9705,      0.9705,      0.9705,      0.9705,      0.9705,      0.9705,      0.9705,      0.9705,     0.97032,     0.97032,     0.97032,     0.97032,     0.97032,     0.97014,     0.97014,     0.97014,     0.96979,     0.96968,     0.96962,\n",
       "            0.96962,     0.96944,     0.96944,     0.96909,     0.96891,     0.96891,     0.96891,     0.96891,     0.96891,     0.96879,     0.96861,     0.96856,     0.96839,     0.96839,     0.96821,     0.96821,     0.96821,     0.96813,     0.96786,     0.96769,     0.96769,     0.96769,     0.96769,\n",
       "            0.96769,     0.96769,     0.96769,     0.96751,     0.96751,     0.96751,     0.96748,     0.96733,     0.96733,     0.96733,     0.96733,     0.96733,     0.96733,     0.96716,     0.96716,     0.96699,     0.96698,     0.96646,     0.96646,     0.96646,     0.96646,     0.96646,     0.96646,\n",
       "            0.96646,     0.96646,     0.96646,     0.96646,     0.96646,     0.96646,     0.96646,     0.96646,     0.96646,     0.96646,     0.96646,      0.9664,     0.96593,     0.96593,     0.96593,     0.96593,     0.96593,     0.96593,     0.96582,     0.96575,     0.96575,     0.96575,     0.96575,\n",
       "            0.96575,     0.96575,     0.96566,     0.96558,     0.96558,     0.96558,     0.96558,     0.96558,     0.96558,     0.96558,     0.96558,     0.96555,      0.9654,      0.9654,      0.9654,     0.96523,     0.96523,     0.96523,     0.96523,     0.96523,     0.96523,     0.96523,     0.96523,\n",
       "            0.96523,     0.96523,     0.96523,     0.96523,     0.96505,     0.96505,     0.96488,     0.96488,     0.96488,     0.96488,     0.96454,     0.96452,     0.96435,     0.96435,     0.96435,     0.96435,     0.96435,     0.96435,     0.96435,     0.96435,      0.9643,     0.96417,     0.96417,\n",
       "            0.96417,     0.96417,     0.96417,     0.96417,       0.964,       0.964,       0.964,     0.96382,     0.96382,     0.96382,     0.96382,     0.96382,     0.96382,     0.96365,     0.96365,     0.96365,     0.96365,     0.96365,     0.96365,     0.96365,     0.96365,     0.96365,     0.96365,\n",
       "            0.96365,     0.96365,     0.96348,     0.96347,     0.96347,     0.96347,     0.96347,     0.96347,     0.96345,     0.96334,     0.96294,     0.96294,     0.96294,     0.96277,      0.9627,     0.96259,     0.96259,     0.96224,     0.96224,     0.96224,     0.96224,     0.96214,     0.96189,\n",
       "            0.96189,     0.96189,     0.96189,     0.96189,     0.96189,     0.96189,     0.96189,     0.96171,     0.96154,     0.96154,     0.96154,     0.96154,     0.96153,     0.96136,     0.96136,     0.96129,     0.96114,     0.96101,     0.96101,     0.96101,     0.96101,     0.96101,     0.96101,\n",
       "            0.96101,     0.96084,     0.96073,     0.96066,     0.96048,     0.96047,     0.96035,     0.96031,     0.96031,     0.96031,      0.9603,     0.96023,     0.96017,     0.96013,     0.96007,     0.95975,     0.95965,     0.95961,     0.95961,     0.95961,     0.95958,     0.95944,     0.95943,\n",
       "            0.95943,     0.95943,     0.95943,     0.95943,     0.95943,     0.95937,     0.95926,     0.95926,     0.95902,     0.95885,     0.95873,      0.9587,     0.95855,     0.95855,     0.95855,     0.95855,     0.95855,     0.95851,     0.95843,     0.95838,     0.95835,     0.95828,     0.95821,\n",
       "             0.9582,      0.9582,     0.95814,     0.95803,     0.95803,     0.95793,     0.95785,     0.95783,     0.95767,     0.95767,     0.95765,     0.95759,     0.95753,      0.9575,      0.9575,      0.9575,      0.9575,      0.9575,      0.9575,     0.95732,     0.95715,     0.95715,     0.95715,\n",
       "            0.95715,     0.95715,     0.95703,     0.95697,     0.95697,     0.95697,     0.95697,      0.9568,     0.95664,     0.95662,     0.95662,     0.95662,     0.95658,     0.95645,     0.95634,     0.95577,     0.95559,     0.95539,     0.95539,     0.95511,     0.95497,     0.95487,     0.95486,\n",
       "            0.95486,     0.95486,     0.95481,     0.95451,     0.95451,     0.95451,     0.95451,     0.95416,     0.95416,     0.95416,     0.95416,     0.95416,     0.95398,     0.95384,     0.95381,     0.95374,     0.95366,     0.95364,     0.95311,     0.95311,     0.95311,     0.95304,     0.95294,\n",
       "            0.95293,     0.95293,     0.95293,     0.95293,     0.95258,     0.95258,     0.95205,     0.95205,     0.95205,     0.95205,     0.95202,     0.95179,      0.9517,     0.95161,     0.95153,     0.95153,     0.95149,     0.95131,     0.95104,       0.951,     0.95089,     0.95083,     0.95083,\n",
       "            0.95083,      0.9508,     0.95064,     0.95047,     0.95038,     0.94998,      0.9498,     0.94977,     0.94977,     0.94977,     0.94963,     0.94924,     0.94924,     0.94912,     0.94889,     0.94885,     0.94874,     0.94853,     0.94837,       0.948,     0.94793,     0.94786,     0.94776,\n",
       "            0.94766,     0.94751,     0.94731,     0.94731,     0.94731,     0.94731,     0.94731,     0.94731,     0.94731,     0.94731,     0.94714,     0.94705,     0.94696,     0.94692,     0.94661,     0.94661,     0.94653,     0.94639,     0.94632,     0.94616,     0.94591,     0.94591,     0.94573,\n",
       "            0.94573,     0.94537,      0.9453,     0.94523,     0.94485,     0.94468,     0.94463,     0.94433,     0.94378,     0.94313,     0.94305,     0.94298,     0.94292,     0.94276,      0.9425,      0.9424,     0.94188,     0.94155,     0.94117,     0.94067,     0.94029,     0.94029,     0.94029,\n",
       "            0.94029,     0.94001,     0.93959,     0.93922,     0.93907,     0.93844,     0.93827,     0.93809,     0.93798,     0.93785,     0.93769,     0.93731,     0.93715,     0.93698,     0.93677,      0.9361,     0.93585,     0.93572,     0.93531,     0.93519,     0.93507,     0.93453,     0.93417,\n",
       "            0.93379,     0.93333,     0.93275,      0.9325,     0.93229,     0.93177,     0.93145,     0.93045,     0.93045,     0.93045,     0.92995,     0.92931,     0.92891,     0.92815,     0.92805,     0.92799,     0.92746,     0.92699,     0.92599,     0.92563,     0.92494,     0.92416,     0.92318,\n",
       "            0.92289,      0.9222,     0.92171,     0.92063,     0.91981,     0.91956,     0.91942,     0.91886,     0.91835,     0.91782,     0.91781,     0.91746,     0.91737,     0.91679,     0.91639,     0.91623,     0.91537,     0.91495,     0.91488,     0.91465,      0.9143,     0.91365,       0.913,\n",
       "            0.91237,     0.91108,      0.9102,     0.90999,      0.9095,     0.90915,     0.90802,     0.90724,     0.90615,     0.90495,     0.90312,     0.90236,     0.90154,     0.90049,     0.89925,     0.89855,     0.89718,     0.89628,     0.89586,     0.89554,     0.89466,     0.89432,     0.89335,\n",
       "            0.89164,     0.89073,     0.88961,     0.88816,     0.88686,     0.88613,     0.88578,     0.88465,     0.88338,     0.88222,     0.88157,     0.88059,     0.87924,     0.87851,     0.87713,     0.87599,     0.87496,     0.87445,      0.8737,     0.87173,     0.87061,     0.86859,     0.86772,\n",
       "            0.86655,     0.86585,     0.86455,     0.86291,      0.8621,     0.86072,     0.86003,     0.85804,     0.85743,     0.85527,     0.85473,     0.85389,     0.85195,     0.85055,     0.84942,     0.84854,     0.84709,     0.84623,      0.8448,     0.84343,     0.84151,     0.84072,     0.83935,\n",
       "            0.83787,      0.8371,      0.8351,     0.83245,     0.83093,     0.82901,     0.82778,     0.82574,     0.82308,     0.81972,     0.81735,     0.81573,     0.81357,     0.81082,     0.80825,     0.80569,     0.80412,     0.80243,       0.801,     0.79964,     0.79629,      0.7944,     0.79207,\n",
       "            0.78934,     0.78678,     0.78495,     0.78247,     0.77938,     0.77618,     0.77366,     0.77162,     0.76844,     0.76659,     0.76324,     0.76098,     0.75729,     0.75376,     0.74995,     0.74666,     0.74428,     0.74206,     0.73908,     0.73568,     0.73295,     0.72871,     0.72507,\n",
       "             0.7212,     0.71796,     0.71342,     0.71058,     0.70751,     0.70408,      0.6993,     0.69613,     0.69268,     0.68808,     0.68557,     0.68182,      0.6772,     0.67481,     0.67107,     0.66742,     0.66251,     0.65957,     0.65587,     0.65195,     0.64795,     0.64468,     0.64073,\n",
       "            0.63756,       0.633,     0.62802,     0.62337,     0.61817,     0.61173,     0.60636,     0.60001,     0.59444,     0.59073,     0.58814,     0.58268,     0.57642,     0.57135,     0.56556,     0.55883,     0.55314,     0.54833,     0.54316,     0.53705,     0.53212,     0.52511,     0.51852,\n",
       "            0.51194,     0.50546,     0.49815,     0.49125,     0.48307,     0.47717,     0.46971,     0.46253,     0.45465,     0.44617,     0.43933,     0.43193,     0.42353,     0.41644,     0.40963,     0.40201,     0.39398,     0.38457,     0.37652,     0.36721,     0.35848,     0.35068,     0.34418,\n",
       "            0.33505,     0.32714,     0.31761,     0.30713,     0.29724,     0.28867,     0.27981,     0.27094,     0.26179,     0.25284,     0.24489,     0.23435,     0.22561,      0.2188,     0.21094,     0.20183,     0.19257,     0.18406,     0.17717,     0.16925,     0.16084,      0.1526,     0.14761,\n",
       "            0.14228,     0.13634,     0.12723,     0.12087,     0.11416,     0.10735,     0.10114,    0.094562,    0.091309,    0.086137,    0.081136,    0.076716,    0.069277,    0.066084,    0.061477,      0.0561,    0.052156,    0.050424,    0.047382,    0.043447,    0.041055,    0.038555,    0.035508,\n",
       "           0.033245,    0.030997,    0.028175,    0.026161,    0.022706,    0.020216,    0.019485,    0.017613,    0.016367,    0.015084,    0.013981,    0.013077,     0.01201,    0.010599,   0.0088478,   0.0073345,   0.0070382,    0.006397,   0.0060952,   0.0059214,   0.0052517,   0.0045432,   0.0041319,\n",
       "          0.0037349,   0.0033309,   0.0027841,   0.0026322,   0.0025531,   0.0024741,   0.0020259,   0.0018479,   0.0016608,   0.0014505,   0.0011538,  0.00097176,  0.00084188,  0.00068677,  0.00065942,  0.00063207,  0.00060473,  0.00057738,  0.00055003,  0.00051949,  0.00047124,  0.00042299,  0.00037475,\n",
       "          0.0003359,  0.00030598,  0.00027607,  0.00024615,  0.00021623,  0.00018631,           0,           0,           0,           0,           0,           0,           0,           0,           0,           0,           0,           0,           0,           0,           0,           0,           0,\n",
       "                  0,           0,           0,           0,           0,           0,           0,           0,           0,           0,           0,           0,           0,           0,           0,           0,           0,           0,           0,           0,           0,           0,           0,\n",
       "                  0,           0,           0,           0,           0,           0,           0,           0,           0,           0,           0,           0,           0,           0,           0,           0,           0,           0,           0,           0,           0,           0,           0,\n",
       "                  0,           0,           0,           0,           0,           0,           0,           0,           0,           0,           0]]), 'Confidence', 'Recall']]\n",
       "fitness: 0.7350681682253578\n",
       "keys: ['metrics/precision(B)', 'metrics/recall(B)', 'metrics/mAP50(B)', 'metrics/mAP50-95(B)']\n",
       "maps: array([    0.70783])\n",
       "names: {0: 'target'}\n",
       "plot: True\n",
       "results_dict: {'metrics/precision(B)': 0.9785780909006699, 'metrics/recall(B)': 0.9504741833508957, 'metrics/mAP50(B)': 0.980228232128261, 'metrics/mAP50-95(B)': 0.7078281611250352, 'fitness': 0.7350681682253578}\n",
       "save_dir: WindowsPath('runs/detect/train2')\n",
       "speed: {'preprocess': 0.2838682591272965, 'inference': 9.9204933958586, 'loss': 0.001513409217587881, 'postprocess': 1.4497685035458974}\n",
       "task: 'detect'"
      ]
     },
     "execution_count": 3,
     "metadata": {},
     "output_type": "execute_result"
    }
   ],
   "execution_count": 3
  }
 ],
 "metadata": {
  "kernelspec": {
   "display_name": "Python 3",
   "language": "python",
   "name": "python3"
  },
  "language_info": {
   "codemirror_mode": {
    "name": "ipython",
    "version": 2
   },
   "file_extension": ".py",
   "mimetype": "text/x-python",
   "name": "python",
   "nbconvert_exporter": "python",
   "pygments_lexer": "ipython2",
   "version": "2.7.6"
  }
 },
 "nbformat": 4,
 "nbformat_minor": 5
}
