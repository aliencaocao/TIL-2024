{
 "cells": [
  {
   "cell_type": "code",
   "id": "initial_id",
   "metadata": {
    "collapsed": true,
    "ExecuteTime": {
     "end_time": "2024-05-21T12:54:56.384072Z",
     "start_time": "2024-05-21T12:54:56.356075Z"
    }
   },
   "source": [
    "import os\n",
    "import shutil\n",
    "import orjson\n",
    "from tqdm import tqdm"
   ],
   "outputs": [],
   "execution_count": 1
  },
  {
   "metadata": {
    "ExecuteTime": {
     "end_time": "2024-05-21T12:54:56.448076Z",
     "start_time": "2024-05-21T12:54:56.385075Z"
    }
   },
   "cell_type": "code",
   "source": [
    "with open('../../data/vlm.jsonl', \"r\") as f:\n",
    "    labels = [orjson.loads(line.strip()) for line in f]"
   ],
   "id": "1778615c9ab20e00",
   "outputs": [],
   "execution_count": 2
  },
  {
   "metadata": {
    "ExecuteTime": {
     "end_time": "2024-05-21T12:54:56.464074Z",
     "start_time": "2024-05-21T12:54:56.449073Z"
    }
   },
   "cell_type": "code",
   "source": [
    "val_percent = 0.2\n",
    "val_split = int(len(labels) * val_percent)\n",
    "train, val = labels[:-val_split], labels[-val_split:]"
   ],
   "id": "ec265fe680661dd7",
   "outputs": [],
   "execution_count": 3
  },
  {
   "metadata": {
    "ExecuteTime": {
     "end_time": "2024-05-21T12:54:56.479077Z",
     "start_time": "2024-05-21T12:54:56.465074Z"
    }
   },
   "cell_type": "code",
   "source": [
    "os.makedirs('../../data/train/images', exist_ok=True)\n",
    "os.makedirs('../../data/val/images', exist_ok=True)\n",
    "os.makedirs('../../data/train/labels', exist_ok=True)\n",
    "os.makedirs('../../data/val/labels', exist_ok=True)"
   ],
   "id": "cabf3cfc24691485",
   "outputs": [],
   "execution_count": 4
  },
  {
   "metadata": {
    "ExecuteTime": {
     "end_time": "2024-05-21T12:54:56.494073Z",
     "start_time": "2024-05-21T12:54:56.480074Z"
    }
   },
   "cell_type": "code",
   "source": [
    "image_height = 870\n",
    "image_width = 1520"
   ],
   "id": "e7c7c5dfeb9b1812",
   "outputs": [],
   "execution_count": 5
  },
  {
   "metadata": {
    "ExecuteTime": {
     "end_time": "2024-05-21T12:55:04.689072Z",
     "start_time": "2024-05-21T12:54:56.495079Z"
    }
   },
   "cell_type": "code",
   "source": [
    "for image in tqdm(train):\n",
    "    shutil.copy(f'../../data/images/{image[\"image\"]}', '../../data/train/images')\n",
    "    \n",
    "    yolo_labels = []\n",
    "    for anno in image[\"annotations\"]:\n",
    "        x, y, w, h = anno['bbox']\n",
    "        x_center = x + w / 2\n",
    "        y_center = y + h / 2\n",
    "        # normalize\n",
    "        x_center /= image_width\n",
    "        y_center /= image_height\n",
    "        w /= image_width\n",
    "        h /= image_height\n",
    "        yolo_labels.append(f'0 {x_center} {y_center} {w} {h}')\n",
    "    \n",
    "    with open(f'../../data/train/labels/{image[\"image\"].replace(\".jpg\", \"\")}.txt', 'w+') as f:\n",
    "        f.write('\\n'.join(yolo_labels))"
   ],
   "id": "7701782e165f467f",
   "outputs": [
    {
     "name": "stderr",
     "output_type": "stream",
     "text": [
      "100%|██████████| 4086/4086 [00:08<00:00, 500.49it/s]\n"
     ]
    }
   ],
   "execution_count": 6
  },
  {
   "metadata": {
    "ExecuteTime": {
     "end_time": "2024-05-21T12:55:06.647072Z",
     "start_time": "2024-05-21T12:55:04.690073Z"
    }
   },
   "cell_type": "code",
   "source": [
    "for image in tqdm(val):\n",
    "    shutil.copy(f'../../data/images/{image[\"image\"]}', '../../data/val/images')\n",
    "    \n",
    "    yolo_labels = []\n",
    "    for anno in image[\"annotations\"]:\n",
    "        x, y, w, h = anno['bbox']\n",
    "        x_center = x + w / 2\n",
    "        y_center = y + h / 2\n",
    "        # normalize\n",
    "        x_center /= image_width\n",
    "        y_center /= image_height\n",
    "        w /= image_width\n",
    "        h /= image_height\n",
    "        yolo_labels.append(f'0 {x_center} {y_center} {w} {h}')\n",
    "    \n",
    "    with open(f'../../data/val/labels/{image[\"image\"].replace(\".jpg\", \"\")}.txt', 'w+') as f:\n",
    "        f.write('\\n'.join(yolo_labels))"
   ],
   "id": "553167d3cdd94e69",
   "outputs": [
    {
     "name": "stderr",
     "output_type": "stream",
     "text": [
      "100%|██████████| 1021/1021 [00:01<00:00, 525.48it/s]\n"
     ]
    }
   ],
   "execution_count": 7
  }
 ],
 "metadata": {
  "kernelspec": {
   "display_name": "Python 3",
   "language": "python",
   "name": "python3"
  },
  "language_info": {
   "codemirror_mode": {
    "name": "ipython",
    "version": 2
   },
   "file_extension": ".py",
   "mimetype": "text/x-python",
   "name": "python",
   "nbconvert_exporter": "python",
   "pygments_lexer": "ipython2",
   "version": "2.7.6"
  }
 },
 "nbformat": 4,
 "nbformat_minor": 5
}
