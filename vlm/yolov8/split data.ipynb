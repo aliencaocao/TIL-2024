{
 "cells": [
  {
   "cell_type": "code",
   "id": "initial_id",
   "metadata": {
    "collapsed": true,
    "ExecuteTime": {
     "end_time": "2024-05-21T01:45:48.943325Z",
     "start_time": "2024-05-21T01:45:48.903569Z"
    }
   },
   "source": [
    "import os\n",
    "import shutil\n",
    "import orjson\n",
    "from tqdm import tqdm"
   ],
   "outputs": [],
   "execution_count": 3
  },
  {
   "metadata": {
    "ExecuteTime": {
     "end_time": "2024-05-21T01:45:49.400704Z",
     "start_time": "2024-05-21T01:45:49.322709Z"
    }
   },
   "cell_type": "code",
   "source": [
    "with open('../../data/vlm.jsonl', \"r\") as f:\n",
    "    labels = [orjson.loads(line.strip()) for line in f]"
   ],
   "id": "1778615c9ab20e00",
   "outputs": [],
   "execution_count": 4
  },
  {
   "metadata": {
    "ExecuteTime": {
     "end_time": "2024-05-21T01:45:49.745029Z",
     "start_time": "2024-05-21T01:45:49.731287Z"
    }
   },
   "cell_type": "code",
   "source": [
    "val_percent = 0.2\n",
    "val_split = int(len(labels) * val_percent)\n",
    "train, val = labels[:-val_split], labels[-val_split:]"
   ],
   "id": "ec265fe680661dd7",
   "outputs": [],
   "execution_count": 5
  },
  {
   "metadata": {
    "ExecuteTime": {
     "end_time": "2024-05-21T01:42:21.166233Z",
     "start_time": "2024-05-21T01:42:21.142701Z"
    }
   },
   "cell_type": "code",
   "source": [
    "os.makedirs('../../data/train/images', exist_ok=True)\n",
    "os.makedirs('../../data/val/images', exist_ok=True)\n",
    "os.makedirs('../../data/train/labels', exist_ok=True)\n",
    "os.makedirs('../../data/val/labels', exist_ok=True)"
   ],
   "id": "cabf3cfc24691485",
   "outputs": [],
   "execution_count": 4
  },
  {
   "metadata": {
    "ExecuteTime": {
     "end_time": "2024-05-21T01:45:51.307805Z",
     "start_time": "2024-05-21T01:45:51.288218Z"
    }
   },
   "cell_type": "code",
   "source": [
    "image_height = 870\n",
    "image_width = 1520"
   ],
   "id": "e7c7c5dfeb9b1812",
   "outputs": [],
   "execution_count": 6
  },
  {
   "metadata": {
    "ExecuteTime": {
     "end_time": "2024-05-21T01:46:02.910012Z",
     "start_time": "2024-05-21T01:45:51.684915Z"
    }
   },
   "cell_type": "code",
   "source": [
    "for image in tqdm(train):\n",
    "    shutil.copy(f'../../data/images/{image[\"image\"]}', '../../data/train/images')\n",
    "    \n",
    "    yolo_labels = []\n",
    "    for anno in image[\"annotations\"]:\n",
    "        x, y, w, h = anno['bbox']\n",
    "        x_center = x + w / 2\n",
    "        y_center = y + h / 2\n",
    "        # normalize\n",
    "        x_center /= image_width\n",
    "        y_center /= image_height\n",
    "        w /= image_width\n",
    "        h /= image_height\n",
    "        yolo_labels.append(f'0 {x_center} {y_center} {w} {h}')\n",
    "    \n",
    "    with open(f'../../data/train/labels/{image[\"image\"].replace(\".jpg\", \"\")}.txt', 'w+') as f:\n",
    "        f.write('\\n'.join(yolo_labels))"
   ],
   "id": "7701782e165f467f",
   "outputs": [
    {
     "name": "stderr",
     "output_type": "stream",
     "text": [
      "100%|██████████| 4086/4086 [00:11<00:00, 364.80it/s]\n"
     ]
    }
   ],
   "execution_count": 7
  },
  {
   "metadata": {
    "ExecuteTime": {
     "end_time": "2024-05-21T01:46:10.180881Z",
     "start_time": "2024-05-21T01:46:07.340735Z"
    }
   },
   "cell_type": "code",
   "source": [
    "for image in tqdm(val):\n",
    "    shutil.copy(f'../../data/images/{image[\"image\"]}', '../../data/val/images')\n",
    "    \n",
    "    yolo_labels = []\n",
    "    for anno in image[\"annotations\"]:\n",
    "        x, y, w, h = anno['bbox']\n",
    "        x_center = x + w / 2\n",
    "        y_center = y + h / 2\n",
    "        # normalize\n",
    "        x_center /= image_width\n",
    "        y_center /= image_height\n",
    "        w /= image_width\n",
    "        h /= image_height\n",
    "        yolo_labels.append(f'0 {x_center} {y_center} {w} {h}')\n",
    "    \n",
    "    with open(f'../../data/val/labels/{image[\"image\"].replace(\".jpg\", \"\")}.txt', 'w+') as f:\n",
    "        f.write('\\n'.join(yolo_labels))"
   ],
   "id": "553167d3cdd94e69",
   "outputs": [
    {
     "name": "stderr",
     "output_type": "stream",
     "text": [
      "100%|██████████| 1021/1021 [00:02<00:00, 362.09it/s]\n"
     ]
    }
   ],
   "execution_count": 9
  }
 ],
 "metadata": {
  "kernelspec": {
   "display_name": "Python 3",
   "language": "python",
   "name": "python3"
  },
  "language_info": {
   "codemirror_mode": {
    "name": "ipython",
    "version": 2
   },
   "file_extension": ".py",
   "mimetype": "text/x-python",
   "name": "python",
   "nbconvert_exporter": "python",
   "pygments_lexer": "ipython2",
   "version": "2.7.6"
  }
 },
 "nbformat": 4,
 "nbformat_minor": 5
}
