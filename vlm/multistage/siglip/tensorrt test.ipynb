{
 "cells": [
  {
   "cell_type": "code",
   "id": "initial_id",
   "metadata": {
    "collapsed": true,
    "ExecuteTime": {
     "end_time": "2024-06-08T09:44:40.294737Z",
     "start_time": "2024-06-08T09:44:31.677556Z"
    }
   },
   "source": [
    "import torch\n",
    "from transformers import AutoImageProcessor, AutoModelForZeroShotImageClassification, AutoTokenizer, ZeroShotImageClassificationPipeline, SiglipProcessor\n",
    "from modeling_siglip import SiglipModel\n",
    "from torch2trt import torch2trt, TRTModule\n",
    "from PIL import Image, ImageDraw\n",
    "import numpy as np\n",
    "from modeling_siglip import SiglipModel\n",
    "\n",
    "processor = SiglipProcessor.from_pretrained('siglip-large-epoch5-augv2-upscale_0.892_cont_5ep_0.905')"
   ],
   "outputs": [],
   "execution_count": 1
  },
  {
   "metadata": {},
   "cell_type": "code",
   "source": [
    "model = SiglipModel.from_pretrained('siglip-large-epoch5-augv2-upscale_0.892_cont_5ep_0.905', torch_dtype=torch.float16).cuda().eval()\n",
    "model.logit_scale.exp().item(), model.logit_bias.item()"
   ],
   "id": "6d7b41ec3feb063a",
   "outputs": [],
   "execution_count": null
  },
  {
   "metadata": {
    "ExecuteTime": {
     "end_time": "2024-06-08T09:44:44.755552Z",
     "start_time": "2024-06-08T09:44:44.659759Z"
    }
   },
   "cell_type": "code",
   "source": [
    "logit_scale_exp = torch.tensor([118.3125], device='cuda', dtype=torch.float16, requires_grad=False)\n",
    "logit_bias = torch.tensor([-12.6640625], device='cuda', dtype=torch.float16, requires_grad=False)"
   ],
   "id": "157b76ff587b98ba",
   "outputs": [],
   "execution_count": 3
  },
  {
   "metadata": {
    "ExecuteTime": {
     "end_time": "2024-06-08T09:44:52.436441Z",
     "start_time": "2024-06-08T09:44:45.707548Z"
    }
   },
   "cell_type": "code",
   "source": [
    "vision_trt = TRTModule()\n",
    "vision_trt.load_state_dict(torch.load('vision_trt.pth'))\n",
    "text_trt = TRTModule()\n",
    "text_trt.load_state_dict(torch.load('text_trt.pth'))"
   ],
   "id": "6aac625b0c9e51fa",
   "outputs": [
    {
     "data": {
      "text/plain": [
       "<All keys matched successfully>"
      ]
     },
     "execution_count": 4,
     "metadata": {},
     "output_type": "execute_result"
    }
   ],
   "execution_count": 4
  },
  {
   "metadata": {
    "ExecuteTime": {
     "end_time": "2024-06-08T09:44:52.468052Z",
     "start_time": "2024-06-08T09:44:52.437582Z"
    }
   },
   "cell_type": "code",
   "source": [
    "image = Image.open(\"til_siglip_ds_x4v3_v2/image_0_0.jpg\")\n",
    "image = np.asarray(image)\n",
    "image = torch.tensor(image, dtype=torch.float16, device='cuda').permute(2, 0, 1)\n",
    "image.shape"
   ],
   "id": "47ec195fb9461636",
   "outputs": [
    {
     "data": {
      "text/plain": [
       "torch.Size([3, 608, 192])"
      ]
     },
     "execution_count": 5,
     "metadata": {},
     "output_type": "execute_result"
    }
   ],
   "execution_count": 5
  },
  {
   "metadata": {
    "ExecuteTime": {
     "end_time": "2024-06-08T09:44:52.625572Z",
     "start_time": "2024-06-08T09:44:52.580574Z"
    }
   },
   "cell_type": "code",
   "source": "feats = processor(images=[image, image], text=['This is a photo of grey missile.'], padding=True, return_tensors='pt').to('cuda')",
   "id": "3d44ea98bf2af36c",
   "outputs": [],
   "execution_count": 6
  },
  {
   "metadata": {
    "ExecuteTime": {
     "end_time": "2024-06-08T09:55:13.914167Z",
     "start_time": "2024-06-08T09:55:13.875786Z"
    }
   },
   "cell_type": "code",
   "source": [
    "vision_input = feats['pixel_values'].type(torch.float16)\n",
    "text_input = feats['input_ids'][:64]  # truncate text input to 64 tokens\n",
    "image_feat = vision_trt(vision_input)['pooler_output']\n",
    "text_feat = text_trt(text_input)['pooler_output']\n",
    "image_feat /= image_feat.norm(p=2, dim=-1, keepdim=True)\n",
    "text_feat /= text_feat.norm(p=2, dim=-1, keepdim=True)\n",
    "similarity_score = image_feat @ text_feat.T * logit_scale_exp + logit_bias  # sigmoid is not needed here"
   ],
   "id": "6c64de318e87f3eb",
   "outputs": [
    {
     "data": {
      "text/plain": [
       "tensor([[1.4305e-06],\n",
       "        [1.4305e-06]], device='cuda:0', dtype=torch.float16)"
      ]
     },
     "execution_count": 8,
     "metadata": {},
     "output_type": "execute_result"
    }
   ],
   "execution_count": 8
  }
 ],
 "metadata": {
  "kernelspec": {
   "display_name": "Python 3",
   "language": "python",
   "name": "python3"
  },
  "language_info": {
   "codemirror_mode": {
    "name": "ipython",
    "version": 2
   },
   "file_extension": ".py",
   "mimetype": "text/x-python",
   "name": "python",
   "nbconvert_exporter": "python",
   "pygments_lexer": "ipython2",
   "version": "2.7.6"
  }
 },
 "nbformat": 4,
 "nbformat_minor": 5
}
