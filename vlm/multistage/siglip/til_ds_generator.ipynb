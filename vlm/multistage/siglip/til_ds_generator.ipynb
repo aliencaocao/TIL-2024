{
 "cells": [
  {
   "cell_type": "code",
   "id": "initial_id",
   "metadata": {
    "collapsed": true,
    "ExecuteTime": {
     "end_time": "2024-06-10T14:29:06.307217Z",
     "start_time": "2024-06-10T14:29:06.241703Z"
    }
   },
   "source": [
    "import orjson\n",
    "from PIL import Image\n",
    "import os\n",
    "from tqdm import tqdm"
   ],
   "outputs": [],
   "execution_count": 1
  },
  {
   "metadata": {
    "ExecuteTime": {
     "end_time": "2024-05-25T14:46:32.429180Z",
     "start_time": "2024-05-25T14:46:32.384651Z"
    }
   },
   "cell_type": "code",
   "source": [
    "with open(\"../../../data/vlm.jsonl\", \"r\") as f:\n",
    "    raw_labels = [orjson.loads(line) for line in f.readlines()]"
   ],
   "id": "5d13f7ab883256f7",
   "outputs": [],
   "execution_count": 7
  },
  {
   "metadata": {
    "ExecuteTime": {
     "end_time": "2024-05-25T14:46:34.607538Z",
     "start_time": "2024-05-25T14:46:32.431181Z"
    }
   },
   "cell_type": "code",
   "source": [
    "ds = []\n",
    "for sample in tqdm(raw_labels):\n",
    "    im_fname = sample[\"image\"]\n",
    "    im_path = os.path.join(\"../../../data/images\", im_fname)\n",
    "    im = Image.open(im_path)\n",
    "    for i, anno in enumerate(sample['annotations']):\n",
    "        x, y, w, h = anno['bbox']\n",
    "        im_crop = im.crop((x, y, x+w, y+h))\n",
    "        new_im_path = f\"til_siglip_ds/{im_fname.split('.')[0]}_{i}.jpg\"\n",
    "        im_crop.save(new_im_path)\n",
    "        ds.append({\n",
    "            \"image\": new_im_path.split(\"/\")[1],\n",
    "            \"label\": anno[\"caption\"]\n",
    "        })"
   ],
   "id": "83a23e6d3d408a47",
   "outputs": [
    {
     "name": "stderr",
     "output_type": "stream",
     "text": [
      "100%|██████████| 5107/5107 [00:02<00:00, 2372.76it/s]\n"
     ]
    }
   ],
   "execution_count": 8
  },
  {
   "metadata": {
    "ExecuteTime": {
     "end_time": "2024-05-25T14:46:38.569367Z",
     "start_time": "2024-05-25T14:46:38.551367Z"
    }
   },
   "cell_type": "code",
   "source": [
    "with open(\"til_siglip_ds.json\", \"wb+\") as f:\n",
    "    f.write(orjson.dumps(ds))"
   ],
   "id": "b086024859034b8d",
   "outputs": [],
   "execution_count": 9
  },
  {
   "metadata": {
    "ExecuteTime": {
     "end_time": "2024-06-10T14:32:24.736164Z",
     "start_time": "2024-06-10T14:32:24.723139Z"
    }
   },
   "cell_type": "code",
   "source": [
    "with open(\"XS data/new_annotations.json\", \"r\") as f:\n",
    "    raw_labels = orjson.loads(f.read())"
   ],
   "id": "66824517f07d11d9",
   "outputs": [],
   "execution_count": 5
  },
  {
   "metadata": {
    "ExecuteTime": {
     "end_time": "2024-06-10T14:33:17.908167Z",
     "start_time": "2024-06-10T14:32:51.577165Z"
    }
   },
   "cell_type": "code",
   "source": [
    "ds = []\n",
    "os.makedirs(\"til_siglip_ds_XS\", exist_ok=True)\n",
    "for sample in tqdm(raw_labels):\n",
    "    im_fname = sample[\"image\"]\n",
    "    im_path = os.path.join(\"XS data/images\", im_fname)\n",
    "    im = Image.open(im_path)\n",
    "    for i, anno in enumerate(sample['annotations']):\n",
    "        x, y, w, h = anno['bbox']\n",
    "        im_crop = im.crop((x, y, x+w, y+h))\n",
    "        new_im_path = f\"til_siglip_ds_XS/{im_fname.split('.')[0]}_{i}.jpg\"\n",
    "        im_crop.save(new_im_path)\n",
    "        ds.append({\n",
    "            \"image\": new_im_path.split(\"/\")[1],\n",
    "            \"label\": anno[\"caption\"]\n",
    "        })"
   ],
   "id": "27f125e24cd6c1ce",
   "outputs": [
    {
     "name": "stderr",
     "output_type": "stream",
     "text": [
      "100%|██████████| 2338/2338 [00:26<00:00, 88.85it/s]\n"
     ]
    }
   ],
   "execution_count": 7
  },
  {
   "metadata": {
    "ExecuteTime": {
     "end_time": "2024-06-10T14:33:17.924168Z",
     "start_time": "2024-06-10T14:33:17.909169Z"
    }
   },
   "cell_type": "code",
   "source": [
    "with open(\"til_siglip_ds_XS.json\", \"wb+\") as f:\n",
    "    f.write(orjson.dumps(ds))"
   ],
   "id": "ffbe588c037bb4f6",
   "outputs": [],
   "execution_count": 8
  },
  {
   "metadata": {
    "ExecuteTime": {
     "end_time": "2024-06-10T14:38:53.564146Z",
     "start_time": "2024-06-10T14:38:53.536302Z"
    }
   },
   "cell_type": "code",
   "source": [
    "# merge them\n",
    "with open(\"til_siglip_ds.json\", \"r\") as f:\n",
    "    ds1 = orjson.loads(f.read())\n",
    "with open(\"til_siglip_ds_XS.json\", \"r\") as f:\n",
    "    ds2 = orjson.loads(f.read())\n",
    "\n",
    "ds = ds1 + ds2\n",
    "with open(\"til_siglip_ds_merged.json\", \"wb+\") as f:\n",
    "    f.write(orjson.dumps(ds))"
   ],
   "id": "1216b83946970b7",
   "outputs": [],
   "execution_count": 11
  }
 ],
 "metadata": {
  "kernelspec": {
   "display_name": "Python 3",
   "language": "python",
   "name": "python3"
  },
  "language_info": {
   "codemirror_mode": {
    "name": "ipython",
    "version": 2
   },
   "file_extension": ".py",
   "mimetype": "text/x-python",
   "name": "python",
   "nbconvert_exporter": "python",
   "pygments_lexer": "ipython2",
   "version": "2.7.6"
  }
 },
 "nbformat": 4,
 "nbformat_minor": 5
}
