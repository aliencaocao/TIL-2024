{
 "cells": [
  {
   "cell_type": "code",
   "id": "initial_id",
   "metadata": {
    "collapsed": true,
    "ExecuteTime": {
     "end_time": "2024-05-26T12:32:31.711969Z",
     "start_time": "2024-05-26T12:32:31.692957Z"
    }
   },
   "source": [
    "import torch\n",
    "from datasets import load_dataset\n",
    "from PIL import Image\n",
    "import sys\n",
    "from torchvision.io import ImageReadMode, read_image\n",
    "from torchvision.transforms import CenterCrop, ConvertImageDtype, Normalize, Resize\n",
    "from torchvision.transforms.functional import InterpolationMode\n",
    "from transformers import (\n",
    "    Trainer,\n",
    "    TrainingArguments,\n",
    "    SiglipModel,\n",
    "    AutoTokenizer,\n",
    "    AutoImageProcessor,\n",
    "    AutoProcessor,\n",
    "    EvalPrediction\n",
    ")\n",
    "from modeling_siglip import SiglipModel\n",
    "import albumentations as A\n",
    "from albumentations.pytorch import ToTensorV2"
   ],
   "outputs": [],
   "execution_count": 29
  },
  {
   "metadata": {
    "ExecuteTime": {
     "end_time": "2024-05-26T12:27:40.286870Z",
     "start_time": "2024-05-26T12:27:38.684355Z"
    }
   },
   "cell_type": "code",
   "source": [
    "pretrained_model_path = \"siglip-finetune\"\n",
    "\n",
    "model = SiglipModel.from_pretrained(pretrained_model_path).to('cuda')\n",
    "processor = AutoProcessor.from_pretrained(pretrained_model_path)\n",
    "# tokenizer = AutoTokenizer.from_pretrained(pretrained_model_path)\n",
    "# image_processor = AutoImageProcessor.from_pretrained(pretrained_model_path)\n",
    "config = model.config"
   ],
   "id": "8063ec144fe688b5",
   "outputs": [],
   "execution_count": 2
  },
  {
   "metadata": {
    "ExecuteTime": {
     "end_time": "2024-05-26T12:47:18.930536Z",
     "start_time": "2024-05-26T12:47:18.908955Z"
    }
   },
   "cell_type": "code",
   "source": [
    "# split the ds into train and val. the image column is in format \"image_1234_1.jpg\". Take 1234 as the image id. Check if the id is smaller than 4086. If yes, put this in train, else in val.\n",
    "def get_ds():\n",
    "    # If error about missing name, use datasets==2.15.0\n",
    "    dataset = load_dataset(path='.', data_files=\"til_siglip_ds.json\")\n",
    "    # train_dataset = dataset.filter(lambda example: int(example[\"image\"].split(\"_\")[1]) < 4086)\n",
    "    # val_dataset = dataset.filter(lambda example: int(example[\"image\"].split(\"_\")[1]) >= 4086)\n",
    "    # return train_dataset, val_dataset\n",
    "    return dataset\n",
    "\n",
    "# train_dataset, val_dataset = get_ds()\n",
    "train_dataset = get_ds()"
   ],
   "id": "163a43f250fc836a",
   "outputs": [],
   "execution_count": 87
  },
  {
   "metadata": {
    "ExecuteTime": {
     "end_time": "2024-05-26T12:47:19.272987Z",
     "start_time": "2024-05-26T12:47:19.250476Z"
    }
   },
   "cell_type": "code",
   "source": [
    "class Transform(torch.nn.Module):\n",
    "    def __init__(self, image_size, mean, std):\n",
    "        super().__init__()\n",
    "        self.transforms = torch.nn.Sequential(\n",
    "            Resize([image_size], interpolation=InterpolationMode.NEAREST),  # lesson from TIL 2023: https://github.com/aliencaocao/TIL-2023?tab=readme-ov-file#finals-specific-tuning-2\n",
    "            CenterCrop(image_size),\n",
    "            ConvertImageDtype(torch.float32),\n",
    "            Normalize(mean, std),\n",
    "        )\n",
    "        self.albu_transforms = A.Compose([\n",
    "            A.GaussNoise(var_limit=500/255/255, p=0.5),  # normalize\n",
    "            A.MultiplicativeNoise(p=0.5),\n",
    "            A.Flip(p=0.5),\n",
    "            A.RandomRotate90(p=0.5),\n",
    "            A.CLAHE(p=0.1),\n",
    "            A.RandomBrightnessContrast(brightness_limit=0.2, contrast_limit=0.5, p=0.5),\n",
    "            A.RandomGamma(p=0.2),\n",
    "            A.Perspective(p=0.5),\n",
    "            A.ImageCompression(quality_lower=75, p=0.5),\n",
    "            ToTensorV2()  # change back to CHW here\n",
    "        ])\n",
    "\n",
    "    def forward(self, x) -> torch.Tensor:\n",
    "        \"\"\"`x` should be an instance of `PIL.Image.Image`\"\"\"\n",
    "        with torch.no_grad():\n",
    "            x = self.transforms(x)\n",
    "            # convert to numpy for albumentations\n",
    "            x = x.type(torch.uint8).permute(1, 2, 0).numpy()\n",
    "            x = self.albu_transforms(image=x)['image']\n",
    "            x = x.float()\n",
    "        return x\n",
    "\n",
    "# For preprocessing the datasets.\n",
    "# Initialize torchvision transforms and jit it for faster processing.\n",
    "image_transformations = Transform(\n",
    "    config.vision_config.image_size, processor.image_processor.image_mean, processor.image_processor.image_std\n",
    ")\n",
    "# image_transformations = torch.jit.script(image_transformations)"
   ],
   "id": "571b1395a15b4c7e",
   "outputs": [],
   "execution_count": 88
  },
  {
   "metadata": {
    "ExecuteTime": {
     "end_time": "2024-05-26T12:47:21.012510Z",
     "start_time": "2024-05-26T12:47:21.000512Z"
    }
   },
   "cell_type": "code",
   "source": [
    "def preprocess_dataset(dataset):\n",
    "    # Preprocessing the datasets.\n",
    "    data = dataset['train']\n",
    "    # We need to tokenize inputs and targets.\n",
    "    column_names = data.column_names\n",
    "\n",
    "    # 6. Get the column names for input/target.\n",
    "    image_column = \"image\"\n",
    "    caption_column = \"label\"\n",
    "\n",
    "    # Preprocessing the datasets.\n",
    "    # We need to tokenize input captions and transform the images.\n",
    "    def tokenize_captions(examples):\n",
    "        captions = list(examples[caption_column])\n",
    "        text_inputs = processor.tokenizer(captions, padding=\"max_length\")\n",
    "        examples[\"input_ids\"] = text_inputs.input_ids\n",
    "        return examples\n",
    "    \n",
    "    data = data.map(\n",
    "        function=tokenize_captions,\n",
    "        batched=True,\n",
    "        remove_columns=[col for col in column_names if col != image_column],\n",
    "    )\n",
    "    \n",
    "    def transform_images(examples):\n",
    "        image_dir = 'til_siglip_ds/'\n",
    "        images = [read_image(image_dir + image_file, mode=ImageReadMode.RGB) for image_file in examples[image_column]]\n",
    "        examples[\"pixel_values\"] = [image_transformations(image) for image in images]\n",
    "        return examples\n",
    "\n",
    "    # Transform images on the fly as doing it on the whole dataset takes too much time.\n",
    "    data.set_transform(transform_images)\n",
    "    return data"
   ],
   "id": "4e0c213ca65d6e1e",
   "outputs": [],
   "execution_count": 89
  },
  {
   "metadata": {
    "ExecuteTime": {
     "end_time": "2024-05-26T12:47:23.254186Z",
     "start_time": "2024-05-26T12:47:23.221493Z"
    }
   },
   "cell_type": "code",
   "source": [
    "train_dataset = preprocess_dataset(train_dataset)\n",
    "# val_dataset = preprocess_dataset(val_dataset)"
   ],
   "id": "c279944e2c697544",
   "outputs": [],
   "execution_count": 90
  },
  {
   "metadata": {
    "ExecuteTime": {
     "end_time": "2024-05-26T12:47:24.230306Z",
     "start_time": "2024-05-26T12:47:24.213306Z"
    }
   },
   "cell_type": "code",
   "source": [
    "def collate_fn(examples):\n",
    "    pixel_values = torch.stack([example[\"pixel_values\"] for example in examples])\n",
    "    input_ids = torch.tensor([example[\"input_ids\"] for example in examples], dtype=torch.long)\n",
    "    return {\n",
    "        \"pixel_values\": pixel_values,\n",
    "        \"input_ids\": input_ids,\n",
    "        \"return_loss\": True,\n",
    "    }"
   ],
   "id": "9693726e20379541",
   "outputs": [],
   "execution_count": 91
  },
  {
   "metadata": {
    "ExecuteTime": {
     "end_time": "2024-05-26T12:29:17.445702Z",
     "start_time": "2024-05-26T12:29:17.429700Z"
    }
   },
   "cell_type": "code",
   "source": [
    "from sklearn.metrics import f1_score\n",
    "def compute_metrics(pred: EvalPrediction):\n",
    "    predictions = pred.predictions\n",
    "    labels = pred.label_ids\n",
    "    return {\"accuracy\": (predictions == labels).mean().item(), 'F1': f1_score(labels, predictions, average='macro')}"
   ],
   "id": "ddf8f55e81aac8a3",
   "outputs": [],
   "execution_count": 16
  },
  {
   "metadata": {},
   "cell_type": "code",
   "outputs": [],
   "execution_count": null,
   "source": [
    "# SigLIP loss from https://github.com/google-research/big_vision/blob/01edb81a4716f93a48be43b3a4af14e29cdb3a7f/big_vision/trainers/proj/image_text/siglip.py#L287\n",
    "# To add into https://github.com/huggingface/transformers/blob/bdb9106f247fca48a71eb384be25dbbd29b065a8/src/transformers/models/siglip/modeling_siglip.py#L1230\n",
    "if return_loss:\n",
    "    eye = torch.eye(logits_per_text.size(0), device=logits_per_text.device)\n",
    "    m1_diag1 = -torch.ones_like(logits_per_text) + 2 * eye\n",
    "    loglik = torch.nn.functional.logsigmoid(m1_diag1 * logits_per_text)\n",
    "    nll = -torch.sum(loglik, dim=-1)\n",
    "    loss = nll.mean()"
   ],
   "id": "5c27b19d51d41776"
  },
  {
   "metadata": {
    "ExecuteTime": {
     "end_time": "2024-05-26T12:47:27.313634Z",
     "start_time": "2024-05-26T12:47:27.297538Z"
    }
   },
   "cell_type": "code",
   "source": "torch.cuda.empty_cache()",
   "id": "4b855c1fafd7e9ae",
   "outputs": [],
   "execution_count": 92
  },
  {
   "metadata": {
    "ExecuteTime": {
     "end_time": "2024-05-26T12:49:45.947443Z",
     "start_time": "2024-05-26T12:47:27.604351Z"
    }
   },
   "cell_type": "code",
   "source": [
    "training_args = TrainingArguments(\n",
    "    learning_rate=2e-5,\n",
    "    warmup_ratio=0.1,\n",
    "    weight_decay=1e-4,\n",
    "    per_device_train_batch_size=2,\n",
    "    remove_unused_columns=False,\n",
    "    output_dir=\"siglip-finetune\",\n",
    "    gradient_accumulation_steps=16,\n",
    "    adam_beta1=0.9,\n",
    "    adam_beta2=0.99,  # decrease from 0.999\n",
    "    num_train_epochs=20,\n",
    "    lr_scheduler_type=\"cosine\",\n",
    "    logging_strategy=\"steps\",\n",
    "    logging_steps=10,\n",
    "    save_strategy=\"epoch\",  # epoch have bug\n",
    "    # eval_strategy=\"epoch\",  # eval bugged causing oom\n",
    "    save_total_limit=5,\n",
    "    bf16=torch.cuda.is_bf16_supported(),\n",
    "    bf16_full_eval=torch.cuda.is_bf16_supported(),\n",
    "    fp16=not torch.cuda.is_bf16_supported(),\n",
    "    fp16_full_eval=not torch.cuda.is_bf16_supported(),\n",
    "    tf32=True,\n",
    "    # load_best_model_at_end=True,\n",
    "    # metric_for_best_model='F1',\n",
    "    # greater_is_better=True,\n",
    "    optim='adamw_torch_fused',\n",
    "    # optim='adafactor',\n",
    "    resume_from_checkpoint=pretrained_model_path,\n",
    "    report_to='none',\n",
    "    gradient_checkpointing=True,\n",
    "    torch_compile = sys.platform == 'linux',\n",
    ")\n",
    "trainer = Trainer(\n",
    "    model=model,\n",
    "    args=training_args,\n",
    "    train_dataset=train_dataset,\n",
    "    # eval_dataset=val_dataset,\n",
    "    data_collator=collate_fn,\n",
    "    compute_metrics=compute_metrics\n",
    ")\n",
    "train_result = trainer.train()"
   ],
   "id": "3af0728682135276",
   "outputs": [
    {
     "name": "stderr",
     "output_type": "stream",
     "text": [
      "C:\\Program Files\\Python39\\lib\\site-packages\\torch\\utils\\checkpoint.py:464: UserWarning: torch.utils.checkpoint: the use_reentrant parameter should be passed explicitly. In version 2.4 we will raise an exception if use_reentrant is not passed. use_reentrant=False is recommended, but if you need to preserve the current default behavior, you can pass use_reentrant=True. Refer to docs for more details on the differences between the two variants.\n",
      "  warnings.warn(\n"
     ]
    },
    {
     "data": {
      "text/plain": [
       "<IPython.core.display.HTML object>"
      ],
      "text/html": [
       "\n",
       "    <div>\n",
       "      \n",
       "      <progress value='22' max='17440' style='width:300px; height:20px; vertical-align: middle;'></progress>\n",
       "      [   22/17440 02:09 < 31:15:12, 0.15 it/s, Epoch 0.02/20]\n",
       "    </div>\n",
       "    <table border=\"1\" class=\"dataframe\">\n",
       "  <thead>\n",
       " <tr style=\"text-align: left;\">\n",
       "      <th>Step</th>\n",
       "      <th>Training Loss</th>\n",
       "    </tr>\n",
       "  </thead>\n",
       "  <tbody>\n",
       "    <tr>\n",
       "      <td>10</td>\n",
       "      <td>14.648000</td>\n",
       "    </tr>\n",
       "    <tr>\n",
       "      <td>20</td>\n",
       "      <td>14.027100</td>\n",
       "    </tr>\n",
       "  </tbody>\n",
       "</table><p>"
      ]
     },
     "metadata": {},
     "output_type": "display_data"
    },
    {
     "name": "stderr",
     "output_type": "stream",
     "text": [
      "\n",
      "KeyboardInterrupt\n",
      "\n"
     ]
    }
   ],
   "execution_count": 93
  },
  {
   "metadata": {
    "ExecuteTime": {
     "end_time": "2024-05-26T10:39:41.442965Z",
     "start_time": "2024-05-26T10:39:38.794960Z"
    }
   },
   "cell_type": "code",
   "source": "trainer.save_model(\"siglip-finetune-ep2\")",
   "id": "ba70756941154076",
   "outputs": [],
   "execution_count": 11
  }
 ],
 "metadata": {
  "kernelspec": {
   "display_name": "Python 3",
   "language": "python",
   "name": "python3"
  },
  "language_info": {
   "codemirror_mode": {
    "name": "ipython",
    "version": 2
   },
   "file_extension": ".py",
   "mimetype": "text/x-python",
   "name": "python",
   "nbconvert_exporter": "python",
   "pygments_lexer": "ipython2",
   "version": "2.7.6"
  }
 },
 "nbformat": 4,
 "nbformat_minor": 5
}
