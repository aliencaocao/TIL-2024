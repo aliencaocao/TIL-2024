{
 "cells": [
  {
   "cell_type": "code",
   "id": "initial_id",
   "metadata": {
    "collapsed": true,
    "ExecuteTime": {
     "end_time": "2024-06-02T04:35:43.385563Z",
     "start_time": "2024-06-02T04:35:38.753462Z"
    }
   },
   "source": [
    "from basicsr.archs.rrdbnet_arch import RRDBNet\n",
    "from realesrgan import RealESRGANer\n",
    "from realesrgan.archs.srvgg_arch import SRVGGNetCompact"
   ],
   "outputs": [],
   "execution_count": 1
  },
  {
   "metadata": {
    "ExecuteTime": {
     "end_time": "2024-06-02T05:01:03.024485Z",
     "start_time": "2024-06-02T05:01:02.970089Z"
    }
   },
   "cell_type": "code",
   "source": [
    "model_name = 'realesr-general-x4v3'  # siglip api shows x2 is best, x4 is too big\n",
    "if model_name == 'RealESRGAN_x4plus':  # x4 RRDBNet model\n",
    "    model = RRDBNet(num_in_ch=3, num_out_ch=3, num_feat=64, num_block=23, num_grow_ch=32, scale=4)  # https://github.com/xinntao/Real-ESRGAN/releases/download/v0.1.0/RealESRGAN_x4plus.pth\n",
    "    netscale = 4\n",
    "elif model_name == 'RealESRGAN_x2plus':  # x2 RRDBNet model\n",
    "    model = RRDBNet(num_in_ch=3, num_out_ch=3, num_feat=64, num_block=23, num_grow_ch=32, scale=2)  # https://github.com/xinntao/Real-ESRGAN/releases/download/v0.2.1/RealESRGAN_x2plus.pth\n",
    "    netscale = 2\n",
    "elif model_name == 'realesr-general-x4v3':  # x4 VGG-style model (S size)\n",
    "    model = SRVGGNetCompact(num_in_ch=3, num_out_ch=3, num_feat=64, num_conv=32, upscale=4, act_type='prelu')  # https://github.com/xinntao/Real-ESRGAN/releases/download/v0.2.5.0/realesr-general-x4v3.pth\n",
    "    netscale = 4\n",
    "\n",
    "upsampler_pad10 = RealESRGANer(\n",
    "    scale=netscale,\n",
    "    model_path=model_name+ '.pth',\n",
    "    model=model,\n",
    "    half=True,\n",
    "    pre_pad=10)\n",
    "upsampler_pad1 = RealESRGANer(\n",
    "    scale=netscale,\n",
    "    model_path=model_name+ '.pth',\n",
    "    model=model,\n",
    "    half=True,\n",
    "    pre_pad=1)"
   ],
   "id": "35f2f74dd6313a86",
   "outputs": [],
   "execution_count": 6
  },
  {
   "metadata": {
    "ExecuteTime": {
     "end_time": "2024-06-02T04:59:23.507569Z",
     "start_time": "2024-06-02T04:59:23.430934Z"
    }
   },
   "cell_type": "code",
   "source": [
    "import glob\n",
    "images = glob.glob('../siglip/til_siglip_ds/*.jpg')"
   ],
   "id": "3bcd2cf6d382e23c",
   "outputs": [],
   "execution_count": 3
  },
  {
   "metadata": {
    "ExecuteTime": {
     "end_time": "2024-06-02T05:05:29.709632Z",
     "start_time": "2024-06-02T05:01:04.102084Z"
    }
   },
   "cell_type": "code",
   "source": [
    "from tqdm  import tqdm\n",
    "from  PIL import Image\n",
    "import numpy as np\n",
    "scale = 4\n",
    "for image in tqdm(images):\n",
    "    img = Image.open(image)\n",
    "    img = np.asarray(img)\n",
    "    if not any(s <= 10 for s in img.shape[:2]):\n",
    "        output, _ = upsampler_pad10.enhance(img, outscale=scale)\n",
    "        output = Image.fromarray(output)\n",
    "        output.save(image.replace('til_siglip_ds', 'til_siglip_ds_x4v3_v2'))\n",
    "    else:\n",
    "        output, _ = upsampler_pad1.enhance(img, outscale=scale)\n",
    "        img = Image.fromarray(img)\n",
    "        img.save(image.replace('til_siglip_ds', 'til_siglip_ds_x4v3_v2'))"
   ],
   "id": "5ee74771dde45780",
   "outputs": [
    {
     "name": "stderr",
     "output_type": "stream",
     "text": [
      "100%|██████████| 27913/27913 [04:25<00:00, 105.10it/s]\n"
     ]
    }
   ],
   "execution_count": 7
  },
  {
   "metadata": {},
   "cell_type": "code",
   "source": [
    "from PIL import Image\n",
    "import numpy as np\n",
    "img = Image.open('../green rocket.jpg')\n",
    "img = np.asarray(img)\n",
    "scale = 2\n",
    "output, _ = upsampler.enhance(img, outscale=scale)"
   ],
   "id": "c1e1fda2945e1464",
   "outputs": [],
   "execution_count": null
  },
  {
   "metadata": {
    "ExecuteTime": {
     "end_time": "2024-05-22T12:47:43.757747Z",
     "start_time": "2024-05-22T12:47:43.743748Z"
    }
   },
   "cell_type": "code",
   "source": "output = Image.fromarray(output)",
   "id": "94f99d9a6828245f",
   "outputs": [],
   "execution_count": 22
  },
  {
   "metadata": {
    "ExecuteTime": {
     "end_time": "2024-05-22T12:47:46.886747Z",
     "start_time": "2024-05-22T12:47:46.868751Z"
    }
   },
   "cell_type": "code",
   "source": "output.save('green_rocket_x2.jpg')",
   "id": "472fced8e80853f4",
   "outputs": [],
   "execution_count": 23
  }
 ],
 "metadata": {
  "kernelspec": {
   "display_name": "Python 3",
   "language": "python",
   "name": "python3"
  },
  "language_info": {
   "codemirror_mode": {
    "name": "ipython",
    "version": 2
   },
   "file_extension": ".py",
   "mimetype": "text/x-python",
   "name": "python",
   "nbconvert_exporter": "python",
   "pygments_lexer": "ipython2",
   "version": "2.7.6"
  }
 },
 "nbformat": 4,
 "nbformat_minor": 5
}
