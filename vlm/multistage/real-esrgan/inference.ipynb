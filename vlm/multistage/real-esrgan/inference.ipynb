{
 "cells": [
  {
   "cell_type": "code",
   "id": "initial_id",
   "metadata": {
    "collapsed": true,
    "ExecuteTime": {
     "end_time": "2024-05-30T18:00:40.308961Z",
     "start_time": "2024-05-30T18:00:36.308210Z"
    }
   },
   "source": [
    "from basicsr.archs.rrdbnet_arch import RRDBNet\n",
    "from realesrgan import RealESRGANer\n",
    "from realesrgan.archs.srvgg_arch import SRVGGNetCompact"
   ],
   "outputs": [],
   "execution_count": 1
  },
  {
   "metadata": {
    "ExecuteTime": {
     "end_time": "2024-05-30T18:00:46.661520Z",
     "start_time": "2024-05-30T18:00:46.516885Z"
    }
   },
   "cell_type": "code",
   "source": [
    "model_name = 'realesr-general-x4v3'  # siglip api shows x2 is best, x4 is too big\n",
    "if model_name == 'RealESRGAN_x4plus':  # x4 RRDBNet model\n",
    "    model = RRDBNet(num_in_ch=3, num_out_ch=3, num_feat=64, num_block=23, num_grow_ch=32, scale=4)  # https://github.com/xinntao/Real-ESRGAN/releases/download/v0.1.0/RealESRGAN_x4plus.pth\n",
    "    netscale = 4\n",
    "elif model_name == 'RealESRGAN_x2plus':  # x2 RRDBNet model\n",
    "    model = RRDBNet(num_in_ch=3, num_out_ch=3, num_feat=64, num_block=23, num_grow_ch=32, scale=2)  # https://github.com/xinntao/Real-ESRGAN/releases/download/v0.2.1/RealESRGAN_x2plus.pth\n",
    "    netscale = 2\n",
    "elif model_name == 'realesr-general-x4v3':  # x4 VGG-style model (S size)\n",
    "    model = SRVGGNetCompact(num_in_ch=3, num_out_ch=3, num_feat=64, num_conv=32, upscale=4, act_type='prelu')  # https://github.com/xinntao/Real-ESRGAN/releases/download/v0.2.5.0/realesr-general-x4v3.pth\n",
    "    netscale = 4\n",
    "\n",
    "upsampler = RealESRGANer(\n",
    "    scale=netscale,\n",
    "    model_path=model_name+ '.pth',\n",
    "    model=model,\n",
    "    half=True)"
   ],
   "id": "35f2f74dd6313a86",
   "outputs": [],
   "execution_count": 2
  },
  {
   "metadata": {
    "ExecuteTime": {
     "end_time": "2024-05-30T18:01:25.006893Z",
     "start_time": "2024-05-30T18:01:24.934071Z"
    }
   },
   "cell_type": "code",
   "source": [
    "import glob\n",
    "images = glob.glob('../siglip/til_siglip_ds/*.jpg')"
   ],
   "id": "3bcd2cf6d382e23c",
   "outputs": [],
   "execution_count": 3
  },
  {
   "metadata": {
    "ExecuteTime": {
     "end_time": "2024-05-30T18:09:00.358052Z",
     "start_time": "2024-05-30T18:04:44.985911Z"
    }
   },
   "cell_type": "code",
   "source": [
    "from tqdm  import tqdm\n",
    "from  PIL import Image\n",
    "import numpy as np\n",
    "for image in tqdm(images):\n",
    "    img = Image.open(image)\n",
    "    img = np.asarray(img)\n",
    "    if not any(s <= 10 for s in img.shape[:2]):\n",
    "        scale = 4\n",
    "        output, _ = upsampler.enhance(img, outscale=scale)\n",
    "        output = Image.fromarray(output)\n",
    "        output.save(image.replace('til_siglip_ds', 'til_siglip_ds_x4v3'))\n",
    "    else:\n",
    "        img = Image.fromarray(img)\n",
    "        img.save(image.replace('til_siglip_ds', 'til_siglip_ds_x4v3'))"
   ],
   "id": "5ee74771dde45780",
   "outputs": [
    {
     "name": "stderr",
     "output_type": "stream",
     "text": [
      "100%|██████████| 27913/27913 [04:15<00:00, 109.31it/s]\n"
     ]
    }
   ],
   "execution_count": 6
  },
  {
   "metadata": {},
   "cell_type": "code",
   "source": [
    "from PIL import Image\n",
    "import numpy as np\n",
    "img = Image.open('../green rocket.jpg')\n",
    "img = np.asarray(img)\n",
    "scale = 2\n",
    "output, _ = upsampler.enhance(img, outscale=scale)"
   ],
   "id": "c1e1fda2945e1464",
   "outputs": [],
   "execution_count": null
  },
  {
   "metadata": {
    "ExecuteTime": {
     "end_time": "2024-05-22T12:47:43.757747Z",
     "start_time": "2024-05-22T12:47:43.743748Z"
    }
   },
   "cell_type": "code",
   "source": "output = Image.fromarray(output)",
   "id": "94f99d9a6828245f",
   "outputs": [],
   "execution_count": 22
  },
  {
   "metadata": {
    "ExecuteTime": {
     "end_time": "2024-05-22T12:47:46.886747Z",
     "start_time": "2024-05-22T12:47:46.868751Z"
    }
   },
   "cell_type": "code",
   "source": "output.save('green_rocket_x2.jpg')",
   "id": "472fced8e80853f4",
   "outputs": [],
   "execution_count": 23
  }
 ],
 "metadata": {
  "kernelspec": {
   "display_name": "Python 3",
   "language": "python",
   "name": "python3"
  },
  "language_info": {
   "codemirror_mode": {
    "name": "ipython",
    "version": 2
   },
   "file_extension": ".py",
   "mimetype": "text/x-python",
   "name": "python",
   "nbconvert_exporter": "python",
   "pygments_lexer": "ipython2",
   "version": "2.7.6"
  }
 },
 "nbformat": 4,
 "nbformat_minor": 5
}
