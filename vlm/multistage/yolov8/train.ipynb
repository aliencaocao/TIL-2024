{
 "cells": [
  {
   "metadata": {
    "ExecuteTime": {
     "end_time": "2024-05-25T08:25:44.925986Z",
     "start_time": "2024-05-25T08:25:41.428988Z"
    }
   },
   "cell_type": "code",
   "source": [
    "from ultralytics import YOLO\n",
    "# model = YOLO(\"yolov9e.pt\")  # load a pretrained model (recommended for training)\n",
    "model = YOLO(\"runs/detect/train/weights/epoch54.pt\")  # load a pretrained model (recommended for training)"
   ],
   "id": "initial_id",
   "outputs": [],
   "execution_count": 1
  },
  {
   "metadata": {
    "ExecuteTime": {
     "end_time": "2024-05-25T12:28:43.765841Z",
     "start_time": "2024-05-25T08:26:04.173881Z"
    }
   },
   "cell_type": "code",
   "source": [
    "# Train the model\n",
    "results = model.train(data=\"til.yaml\", epochs=80, imgsz=1600, deterministic=False, single_cls=True, save=True, batch=1, patience=5, save_period=1, cos_lr=True, workers=2, plots=True, amp=True, resume=True, mosaic=False)"
   ],
   "id": "6eda62af638e6c5b",
   "outputs": [
    {
     "name": "stdout",
     "output_type": "stream",
     "text": [
      "New https://pypi.org/project/ultralytics/8.2.21 available  Update with 'pip install -U ultralytics'\n",
      "Ultralytics YOLOv8.2.18  Python-3.9.13 torch-2.3.0+cu121 CUDA:0 (NVIDIA GeForce RTX 3080 Ti, 12288MiB)\n",
      "\u001B[34m\u001B[1mengine\\trainer: \u001B[0mtask=detect, mode=train, model=runs\\detect\\train\\weights\\epoch54.pt, data=til.yaml, epochs=80, time=None, patience=5, batch=1, imgsz=1600, save=True, save_period=1, cache=False, device=None, workers=2, project=None, name=train, exist_ok=False, pretrained=True, optimizer=AdamW, verbose=True, seed=0, deterministic=True, single_cls=True, rect=False, cos_lr=True, close_mosaic=5, resume=runs\\detect\\train\\weights\\epoch54.pt, amp=True, fraction=1.0, profile=False, freeze=None, multi_scale=False, overlap_mask=True, mask_ratio=4, dropout=0.0, val=True, split=val, save_json=False, save_hybrid=False, conf=None, iou=0.7, max_det=300, half=False, dnn=False, plots=True, source=None, vid_stride=1, stream_buffer=False, visualize=False, augment=False, agnostic_nms=False, classes=None, retina_masks=False, embed=None, show=False, save_frames=False, save_txt=False, save_conf=False, save_crop=False, show_labels=True, show_conf=True, show_boxes=True, line_width=None, format=torchscript, keras=False, optimize=False, int8=False, dynamic=False, simplify=False, opset=None, workspace=4, nms=False, lr0=0.001, lrf=0.01, momentum=0.9, weight_decay=0.0005, warmup_epochs=3.0, warmup_momentum=0.8, warmup_bias_lr=0.1, box=7.5, cls=0.5, dfl=1.5, pose=12.0, kobj=1.0, label_smoothing=0.0, nbs=64, hsv_h=0.015, hsv_s=0.7, hsv_v=0.4, degrees=0.0, translate=0.1, scale=0.5, shear=0.0, perspective=0.0, flipud=0.0, fliplr=0.5, bgr=0.0, mosaic=0.0, mixup=0.0, copy_paste=0.0, auto_augment=randaugment, erasing=0.4, crop_fraction=1.0, cfg=None, tracker=botsort.yaml, save_dir=runs\\detect\\train\n",
      "\u001B[34m\u001B[1mTensorBoard: \u001B[0mStart with 'tensorboard --logdir runs\\detect\\train', view at http://localhost:6006/\n",
      "\n",
      "                   from  n    params  module                                       arguments                     \n",
      "  0                  -1  1         0  ultralytics.nn.modules.block.Silence         []                            \n",
      "  1                  -1  1      1856  ultralytics.nn.modules.conv.Conv             [3, 64, 3, 2]                 \n",
      "  2                  -1  1     73984  ultralytics.nn.modules.conv.Conv             [64, 128, 3, 2]               \n",
      "  3                  -1  1    252160  ultralytics.nn.modules.block.RepNCSPELAN4    [128, 256, 128, 64, 2]        \n",
      "  4                  -1  1    164352  ultralytics.nn.modules.block.ADown           [256, 256]                    \n",
      "  5                  -1  1   1004032  ultralytics.nn.modules.block.RepNCSPELAN4    [256, 512, 256, 128, 2]       \n",
      "  6                  -1  1    656384  ultralytics.nn.modules.block.ADown           [512, 512]                    \n",
      "  7                  -1  1   4006912  ultralytics.nn.modules.block.RepNCSPELAN4    [512, 1024, 512, 256, 2]      \n",
      "  8                  -1  1   2623488  ultralytics.nn.modules.block.ADown           [1024, 1024]                  \n",
      "  9                  -1  1   4269056  ultralytics.nn.modules.block.RepNCSPELAN4    [1024, 1024, 512, 256, 2]     \n",
      " 10                   1  1      4160  ultralytics.nn.modules.block.CBLinear        [64, [64]]                    \n",
      " 11                   3  1     49344  ultralytics.nn.modules.block.CBLinear        [256, [64, 128]]              \n",
      " 12                   5  1    229824  ultralytics.nn.modules.block.CBLinear        [512, [64, 128, 256]]         \n",
      " 13                   7  1    984000  ultralytics.nn.modules.block.CBLinear        [1024, [64, 128, 256, 512]]   \n",
      " 14                   9  1   2033600  ultralytics.nn.modules.block.CBLinear        [1024, [64, 128, 256, 512, 1024]]\n",
      " 15                   0  1      1856  ultralytics.nn.modules.conv.Conv             [3, 64, 3, 2]                 \n",
      " 16[10, 11, 12, 13, 14, -1]  1         0  ultralytics.nn.modules.block.CBFuse          [[0, 0, 0, 0, 0]]             \n",
      " 17                  -1  1     73984  ultralytics.nn.modules.conv.Conv             [64, 128, 3, 2]               \n",
      " 18[11, 12, 13, 14, -1]  1         0  ultralytics.nn.modules.block.CBFuse          [[1, 1, 1, 1]]                \n",
      " 19                  -1  1    252160  ultralytics.nn.modules.block.RepNCSPELAN4    [128, 256, 128, 64, 2]        \n",
      " 20                  -1  1    164352  ultralytics.nn.modules.block.ADown           [256, 256]                    \n",
      " 21    [12, 13, 14, -1]  1         0  ultralytics.nn.modules.block.CBFuse          [[2, 2, 2]]                   \n",
      " 22                  -1  1   1004032  ultralytics.nn.modules.block.RepNCSPELAN4    [256, 512, 256, 128, 2]       \n",
      " 23                  -1  1    656384  ultralytics.nn.modules.block.ADown           [512, 512]                    \n",
      " 24        [13, 14, -1]  1         0  ultralytics.nn.modules.block.CBFuse          [[3, 3]]                      \n",
      " 25                  -1  1   4006912  ultralytics.nn.modules.block.RepNCSPELAN4    [512, 1024, 512, 256, 2]      \n",
      " 26                  -1  1   2623488  ultralytics.nn.modules.block.ADown           [1024, 1024]                  \n",
      " 27            [14, -1]  1         0  ultralytics.nn.modules.block.CBFuse          [[4]]                         \n",
      " 28                  -1  1   4269056  ultralytics.nn.modules.block.RepNCSPELAN4    [1024, 1024, 512, 256, 2]     \n",
      " 29                  -1  1    787968  ultralytics.nn.modules.block.SPPELAN         [1024, 512, 256]              \n",
      " 30                  -1  1         0  torch.nn.modules.upsampling.Upsample         [None, 2, 'nearest']          \n",
      " 31            [-1, 25]  1         0  ultralytics.nn.modules.conv.Concat           [1]                           \n",
      " 32                  -1  1   4005888  ultralytics.nn.modules.block.RepNCSPELAN4    [1536, 512, 512, 256, 2]      \n",
      " 33                  -1  1         0  torch.nn.modules.upsampling.Upsample         [None, 2, 'nearest']          \n",
      " 34            [-1, 22]  1         0  ultralytics.nn.modules.conv.Concat           [1]                           \n",
      " 35                  -1  1   1069056  ultralytics.nn.modules.block.RepNCSPELAN4    [1024, 256, 256, 128, 2]      \n",
      " 36                  -1  1    164352  ultralytics.nn.modules.block.ADown           [256, 256]                    \n",
      " 37            [-1, 32]  1         0  ultralytics.nn.modules.conv.Concat           [1]                           \n",
      " 38                  -1  1   3612672  ultralytics.nn.modules.block.RepNCSPELAN4    [768, 512, 512, 256, 2]       \n",
      " 39                  -1  1    656384  ultralytics.nn.modules.block.ADown           [512, 512]                    \n",
      " 40            [-1, 29]  1         0  ultralytics.nn.modules.conv.Concat           [1]                           \n",
      " 41                  -1  1  12860416  ultralytics.nn.modules.block.RepNCSPELAN4    [1024, 512, 1024, 512, 2]     \n",
      " 42        [35, 38, 41]  1   5583571  ultralytics.nn.modules.head.Detect           [1, [256, 512, 512]]          \n",
      "YOLOv9e summary: 1225 layers, 58145683 parameters, 58145667 gradients, 192.7 GFLOPs\n",
      "\n",
      "Transferred 1811/1811 items from pretrained weights\n",
      "Freezing layer 'model.42.dfl.conv.weight'\n",
      "\u001B[34m\u001B[1mAMP: \u001B[0mrunning Automatic Mixed Precision (AMP) checks with YOLOv8n...\n",
      "\u001B[34m\u001B[1mAMP: \u001B[0mchecks passed \n"
     ]
    },
    {
     "name": "stderr",
     "output_type": "stream",
     "text": [
      "\u001B[34m\u001B[1mtrain: \u001B[0mScanning C:\\Users\\alien\\Documents\\PyCharm-Projects\\TIL-2024\\data\\train\\labels.cache... 4086 images, 0 backgrounds, 0 corrupt: 100%|██████████| 4086/4086 [00:00<?, ?it/s]\n"
     ]
    },
    {
     "name": "stdout",
     "output_type": "stream",
     "text": [
      "\u001B[34m\u001B[1malbumentations: \u001B[0mGaussNoise(always_apply=True, p=1.0, var_limit=(0, 2500.0), per_channel=True, mean=0.0), Flip(p=0.5), Blur(p=0.1, blur_limit=(3, 7)), MedianBlur(p=0.1, blur_limit=(3, 7)), ToGray(p=0.1), CLAHE(p=0.1, clip_limit=(1, 4.0), tile_grid_size=(8, 8)), RandomBrightnessContrast(p=0.5, brightness_limit=(-0.2, 0.2), contrast_limit=(-0.2, 0.2), brightness_by_max=True), RandomGamma(p=0.2, gamma_limit=(80, 120)), ImageCompression(p=0.5, quality_range=(75, 100), compression_type=0)\n"
     ]
    },
    {
     "name": "stderr",
     "output_type": "stream",
     "text": [
      "\u001B[34m\u001B[1mval: \u001B[0mScanning C:\\Users\\alien\\Documents\\PyCharm-Projects\\TIL-2024\\data\\val\\labels.cache... 1021 images, 0 backgrounds, 0 corrupt: 100%|██████████| 1021/1021 [00:00<?, ?it/s]\n"
     ]
    },
    {
     "name": "stdout",
     "output_type": "stream",
     "text": [
      "Plotting labels to runs\\detect\\train\\labels.jpg... \n",
      "\u001B[34m\u001B[1moptimizer:\u001B[0m AdamW(lr=0.001, momentum=0.9) with parameter groups 298 weight(decay=0.0), 310 weight(decay=0.0005), 309 bias(decay=0.0)\n",
      "Resuming training runs\\detect\\train\\weights\\epoch54.pt from epoch 56 to 80 total epochs\n",
      "\u001B[34m\u001B[1mTensorBoard: \u001B[0mmodel graph visualization added \n",
      "Image sizes 1600 train, 1600 val\n",
      "Using 2 dataloader workers\n",
      "Logging results to \u001B[1mruns\\detect\\train\u001B[0m\n",
      "Starting training for 80 epochs...\n",
      "\n",
      "      Epoch    GPU_mem   box_loss   cls_loss   dfl_loss  Instances       Size\n"
     ]
    },
    {
     "name": "stderr",
     "output_type": "stream",
     "text": [
      "      56/80        12G     0.9695     0.4002      1.101          8       1600: 100%|██████████| 4086/4086 [28:45<00:00,  2.37it/s]\n",
      "                 Class     Images  Instances      Box(P          R      mAP50  mAP50-95): 100%|██████████| 511/511 [01:15<00:00,  6.74it/s]"
     ]
    },
    {
     "name": "stdout",
     "output_type": "stream",
     "text": [
      "                   all       1021       5694      0.991      0.987      0.995      0.814\n"
     ]
    },
    {
     "name": "stderr",
     "output_type": "stream",
     "text": [
      "\n"
     ]
    },
    {
     "name": "stdout",
     "output_type": "stream",
     "text": [
      "\n",
      "      Epoch    GPU_mem   box_loss   cls_loss   dfl_loss  Instances       Size\n"
     ]
    },
    {
     "name": "stderr",
     "output_type": "stream",
     "text": [
      "      57/80      9.52G     0.9491     0.3837      1.083          6       1600: 100%|██████████| 4086/4086 [18:07<00:00,  3.76it/s]\n",
      "                 Class     Images  Instances      Box(P          R      mAP50  mAP50-95): 100%|██████████| 511/511 [00:55<00:00,  9.16it/s]"
     ]
    },
    {
     "name": "stdout",
     "output_type": "stream",
     "text": [
      "                   all       1021       5694      0.995      0.988      0.995      0.824\n"
     ]
    },
    {
     "name": "stderr",
     "output_type": "stream",
     "text": [
      "\n"
     ]
    },
    {
     "name": "stdout",
     "output_type": "stream",
     "text": [
      "\n",
      "      Epoch    GPU_mem   box_loss   cls_loss   dfl_loss  Instances       Size\n"
     ]
    },
    {
     "name": "stderr",
     "output_type": "stream",
     "text": [
      "      58/80      9.14G     0.9454     0.3813      1.082          6       1600: 100%|██████████| 4086/4086 [18:07<00:00,  3.76it/s]\n",
      "                 Class     Images  Instances      Box(P          R      mAP50  mAP50-95): 100%|██████████| 511/511 [00:55<00:00,  9.29it/s]"
     ]
    },
    {
     "name": "stdout",
     "output_type": "stream",
     "text": [
      "                   all       1021       5694      0.994      0.987      0.995      0.821\n"
     ]
    },
    {
     "name": "stderr",
     "output_type": "stream",
     "text": [
      "\n"
     ]
    },
    {
     "name": "stdout",
     "output_type": "stream",
     "text": [
      "\n",
      "      Epoch    GPU_mem   box_loss   cls_loss   dfl_loss  Instances       Size\n"
     ]
    },
    {
     "name": "stderr",
     "output_type": "stream",
     "text": [
      "      59/80      9.01G     0.9367     0.3764      1.073          3       1600: 100%|██████████| 4086/4086 [18:14<00:00,  3.73it/s]\n",
      "                 Class     Images  Instances      Box(P          R      mAP50  mAP50-95): 100%|██████████| 511/511 [00:55<00:00,  9.28it/s]\n"
     ]
    },
    {
     "name": "stdout",
     "output_type": "stream",
     "text": [
      "                   all       1021       5694      0.993      0.986      0.995      0.818\n",
      "\n",
      "      Epoch    GPU_mem   box_loss   cls_loss   dfl_loss  Instances       Size\n"
     ]
    },
    {
     "name": "stderr",
     "output_type": "stream",
     "text": [
      "      60/80      9.02G     0.9347     0.3745      1.074          8       1600: 100%|██████████| 4086/4086 [18:24<00:00,  3.70it/s]\n",
      "                 Class     Images  Instances      Box(P          R      mAP50  mAP50-95): 100%|██████████| 511/511 [00:56<00:00,  9.12it/s]"
     ]
    },
    {
     "name": "stdout",
     "output_type": "stream",
     "text": [
      "                   all       1021       5694      0.992      0.987      0.994       0.82\n"
     ]
    },
    {
     "name": "stderr",
     "output_type": "stream",
     "text": [
      "\n"
     ]
    },
    {
     "name": "stdout",
     "output_type": "stream",
     "text": [
      "\n",
      "      Epoch    GPU_mem   box_loss   cls_loss   dfl_loss  Instances       Size\n"
     ]
    },
    {
     "name": "stderr",
     "output_type": "stream",
     "text": [
      "      61/80      9.02G     0.9257     0.3673       1.07          6       1600: 100%|██████████| 4086/4086 [18:12<00:00,  3.74it/s]\n",
      "                 Class     Images  Instances      Box(P          R      mAP50  mAP50-95): 100%|██████████| 511/511 [00:56<00:00,  8.97it/s]"
     ]
    },
    {
     "name": "stdout",
     "output_type": "stream",
     "text": [
      "                   all       1021       5694      0.994      0.987      0.995      0.819\n"
     ]
    },
    {
     "name": "stderr",
     "output_type": "stream",
     "text": [
      "\n"
     ]
    },
    {
     "name": "stdout",
     "output_type": "stream",
     "text": [
      "\n",
      "      Epoch    GPU_mem   box_loss   cls_loss   dfl_loss  Instances       Size\n"
     ]
    },
    {
     "name": "stderr",
     "output_type": "stream",
     "text": [
      "      62/80      9.02G     0.9248     0.3622      1.063          8       1600: 100%|██████████| 4086/4086 [18:04<00:00,  3.77it/s]\n",
      "                 Class     Images  Instances      Box(P          R      mAP50  mAP50-95): 100%|██████████| 511/511 [00:53<00:00,  9.52it/s]"
     ]
    },
    {
     "name": "stdout",
     "output_type": "stream",
     "text": [
      "                   all       1021       5694      0.995      0.988      0.995      0.825\n"
     ]
    },
    {
     "name": "stderr",
     "output_type": "stream",
     "text": [
      "\n"
     ]
    },
    {
     "name": "stdout",
     "output_type": "stream",
     "text": [
      "\n",
      "      Epoch    GPU_mem   box_loss   cls_loss   dfl_loss  Instances       Size\n"
     ]
    },
    {
     "name": "stderr",
     "output_type": "stream",
     "text": [
      "      63/80      9.01G     0.9223     0.3594      1.064          5       1600: 100%|██████████| 4086/4086 [18:03<00:00,  3.77it/s]\n",
      "                 Class     Images  Instances      Box(P          R      mAP50  mAP50-95): 100%|██████████| 511/511 [00:57<00:00,  8.94it/s]"
     ]
    },
    {
     "name": "stdout",
     "output_type": "stream",
     "text": [
      "                   all       1021       5694      0.993       0.99      0.995      0.823\n"
     ]
    },
    {
     "name": "stderr",
     "output_type": "stream",
     "text": [
      "\n"
     ]
    },
    {
     "name": "stdout",
     "output_type": "stream",
     "text": [
      "\n",
      "      Epoch    GPU_mem   box_loss   cls_loss   dfl_loss  Instances       Size\n"
     ]
    },
    {
     "name": "stderr",
     "output_type": "stream",
     "text": [
      "      64/80      9.01G     0.9183     0.3576      1.061          5       1600: 100%|██████████| 4086/4086 [18:24<00:00,  3.70it/s]\n",
      "                 Class     Images  Instances      Box(P          R      mAP50  mAP50-95): 100%|██████████| 511/511 [00:57<00:00,  8.94it/s]"
     ]
    },
    {
     "name": "stdout",
     "output_type": "stream",
     "text": [
      "                   all       1021       5694      0.992      0.989      0.995      0.823\n"
     ]
    },
    {
     "name": "stderr",
     "output_type": "stream",
     "text": [
      "\n"
     ]
    },
    {
     "name": "stdout",
     "output_type": "stream",
     "text": [
      "\n",
      "      Epoch    GPU_mem   box_loss   cls_loss   dfl_loss  Instances       Size\n"
     ]
    },
    {
     "name": "stderr",
     "output_type": "stream",
     "text": [
      "      65/80      9.02G     0.9095     0.3537      1.056          5       1600: 100%|██████████| 4086/4086 [18:02<00:00,  3.77it/s]\n",
      "                 Class     Images  Instances      Box(P          R      mAP50  mAP50-95): 100%|██████████| 511/511 [00:56<00:00,  8.99it/s]"
     ]
    },
    {
     "name": "stdout",
     "output_type": "stream",
     "text": [
      "                   all       1021       5694      0.994       0.99      0.995      0.823\n"
     ]
    },
    {
     "name": "stderr",
     "output_type": "stream",
     "text": [
      "\n"
     ]
    },
    {
     "name": "stdout",
     "output_type": "stream",
     "text": [
      "\n",
      "      Epoch    GPU_mem   box_loss   cls_loss   dfl_loss  Instances       Size\n"
     ]
    },
    {
     "name": "stderr",
     "output_type": "stream",
     "text": [
      "      66/80      9.02G     0.9086     0.3551      1.057          3       1600: 100%|██████████| 4086/4086 [18:09<00:00,  3.75it/s]\n",
      "                 Class     Images  Instances      Box(P          R      mAP50  mAP50-95): 100%|██████████| 511/511 [00:54<00:00,  9.36it/s]\n"
     ]
    },
    {
     "name": "stdout",
     "output_type": "stream",
     "text": [
      "                   all       1021       5694      0.993      0.988      0.995      0.823\n",
      "\n",
      "      Epoch    GPU_mem   box_loss   cls_loss   dfl_loss  Instances       Size\n"
     ]
    },
    {
     "name": "stderr",
     "output_type": "stream",
     "text": [
      "      67/80      9.02G     0.9064     0.3492      1.054          3       1600: 100%|██████████| 4086/4086 [18:12<00:00,  3.74it/s]\n",
      "                 Class     Images  Instances      Box(P          R      mAP50  mAP50-95): 100%|██████████| 511/511 [00:55<00:00,  9.16it/s]"
     ]
    },
    {
     "name": "stdout",
     "output_type": "stream",
     "text": [
      "                   all       1021       5694      0.995      0.985      0.995      0.825\n",
      "\u001B[34m\u001B[1mEarlyStopping: \u001B[0mTraining stopped early as no improvement observed in last 5 epochs. Best results observed at epoch 62, best model saved as best.pt.\n",
      "To update EarlyStopping(patience=5) pass a new patience value, i.e. `patience=300` or use `patience=0` to disable EarlyStopping.\n"
     ]
    },
    {
     "name": "stderr",
     "output_type": "stream",
     "text": [
      "\n"
     ]
    },
    {
     "name": "stdout",
     "output_type": "stream",
     "text": [
      "\n",
      "12 epochs completed in 4.021 hours.\n",
      "Optimizer stripped from runs\\detect\\train\\weights\\last.pt, 117.4MB\n",
      "Optimizer stripped from runs\\detect\\train\\weights\\best.pt, 117.4MB\n",
      "\n",
      "Validating runs\\detect\\train\\weights\\best.pt...\n",
      "Ultralytics YOLOv8.2.18  Python-3.9.13 torch-2.3.0+cu121 CUDA:0 (NVIDIA GeForce RTX 3080 Ti, 12288MiB)\n",
      "YOLOv9e summary (fused): 687 layers, 57377171 parameters, 0 gradients, 189.1 GFLOPs\n"
     ]
    },
    {
     "name": "stderr",
     "output_type": "stream",
     "text": [
      "                 Class     Images  Instances      Box(P          R      mAP50  mAP50-95): 100%|██████████| 511/511 [00:41<00:00, 12.23it/s]\n"
     ]
    },
    {
     "name": "stdout",
     "output_type": "stream",
     "text": [
      "                   all       1021       5694      0.995      0.988      0.995      0.825\n",
      "Speed: 0.4ms preprocess, 34.8ms inference, 0.0ms loss, 1.3ms postprocess per image\n",
      "Results saved to \u001B[1mruns\\detect\\train\u001B[0m\n"
     ]
    }
   ],
   "execution_count": 2
  },
  {
   "metadata": {
    "ExecuteTime": {
     "end_time": "2024-05-21T14:00:39.289594Z",
     "start_time": "2024-05-21T14:00:39.288593Z"
    }
   },
   "cell_type": "code",
   "source": [
    "metrics = model.val()\n",
    "metrics"
   ],
   "id": "3afbfef0479b2a6e",
   "outputs": [],
   "execution_count": null
  },
  {
   "metadata": {},
   "cell_type": "code",
   "outputs": [],
   "execution_count": null,
   "source": "onnx_model = YOLO(\"yolov8n.onnx\")",
   "id": "5e559dd52b572eaf"
  },
  {
   "metadata": {
    "ExecuteTime": {
     "end_time": "2024-05-25T02:54:40.964571Z",
     "start_time": "2024-05-25T02:54:40.952572Z"
    }
   },
   "cell_type": "code",
   "source": [
    "from PIL import Image\n",
    "im = Image.open('../../../data/images/image_5106.jpg')"
   ],
   "id": "5c57258ec26d3acd",
   "outputs": [],
   "execution_count": 4
  },
  {
   "metadata": {
    "ExecuteTime": {
     "end_time": "2024-05-25T02:54:43.752573Z",
     "start_time": "2024-05-25T02:54:42.679572Z"
    }
   },
   "cell_type": "code",
   "source": "model.predict(im)",
   "id": "9d314d7a6ee50052",
   "outputs": [
    {
     "name": "stdout",
     "output_type": "stream",
     "text": [
      "\n",
      "0: 736x1280 4 targets, 188.0ms\n",
      "Speed: 5.0ms preprocess, 188.0ms inference, 2.0ms postprocess per image at shape (1, 3, 736, 1280)\n"
     ]
    },
    {
     "data": {
      "text/plain": [
       "[ultralytics.engine.results.Results object with attributes:\n",
       " \n",
       " boxes: ultralytics.engine.results.Boxes object\n",
       " keypoints: None\n",
       " masks: None\n",
       " names: {0: 'target'}\n",
       " obb: None\n",
       " orig_img: array([[[124, 111, 103],\n",
       "         [124, 111, 103],\n",
       "         [124, 111, 103],\n",
       "         ...,\n",
       "         [174, 158, 146],\n",
       "         [175, 159, 147],\n",
       "         [176, 160, 148]],\n",
       " \n",
       "        [[124, 111, 103],\n",
       "         [124, 111, 103],\n",
       "         [124, 111, 103],\n",
       "         ...,\n",
       "         [174, 158, 146],\n",
       "         [174, 158, 146],\n",
       "         [175, 159, 147]],\n",
       " \n",
       "        [[125, 110, 101],\n",
       "         [125, 110, 101],\n",
       "         [126, 110, 103],\n",
       "         ...,\n",
       "         [174, 158, 146],\n",
       "         [174, 158, 146],\n",
       "         [174, 158, 146]],\n",
       " \n",
       "        ...,\n",
       " \n",
       "        [[  2,  11,   8],\n",
       "         [  2,  11,   8],\n",
       "         [  2,  11,   8],\n",
       "         ...,\n",
       "         [  1,   8,   3],\n",
       "         [  2,   9,   4],\n",
       "         [  2,   9,   4]],\n",
       " \n",
       "        [[  1,  10,   7],\n",
       "         [  2,  11,   8],\n",
       "         [  2,  11,   8],\n",
       "         ...,\n",
       "         [  1,   7,   2],\n",
       "         [  2,   8,   3],\n",
       "         [  3,   9,   4]],\n",
       " \n",
       "        [[  1,  10,   7],\n",
       "         [  1,  10,   7],\n",
       "         [  1,  10,   7],\n",
       "         ...,\n",
       "         [  1,   7,   2],\n",
       "         [  2,   8,   3],\n",
       "         [  2,   8,   3]]], dtype=uint8)\n",
       " orig_shape: (870, 1520)\n",
       " path: 'C:\\\\Users\\\\alien\\\\Documents\\\\PyCharm-Projects\\\\TIL-2024\\\\data\\\\images\\\\image_5106.jpg'\n",
       " probs: None\n",
       " save_dir: 'runs\\\\detect\\\\train2'\n",
       " speed: {'preprocess': 5.003929138183594, 'inference': 187.99853324890137, 'postprocess': 1.997232437133789}]"
      ]
     },
     "execution_count": 5,
     "metadata": {},
     "output_type": "execute_result"
    }
   ],
   "execution_count": 5
  }
 ],
 "metadata": {
  "kernelspec": {
   "display_name": "Python 3",
   "language": "python",
   "name": "python3"
  },
  "language_info": {
   "codemirror_mode": {
    "name": "ipython",
    "version": 2
   },
   "file_extension": ".py",
   "mimetype": "text/x-python",
   "name": "python",
   "nbconvert_exporter": "python",
   "pygments_lexer": "ipython2",
   "version": "2.7.6"
  }
 },
 "nbformat": 4,
 "nbformat_minor": 5
}
