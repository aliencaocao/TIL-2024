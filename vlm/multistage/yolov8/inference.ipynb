{
 "cells": [
  {
   "cell_type": "code",
   "id": "initial_id",
   "metadata": {
    "collapsed": true,
    "ExecuteTime": {
     "end_time": "2024-06-04T05:22:43.135743Z",
     "start_time": "2024-06-04T05:22:40.983461Z"
    }
   },
   "source": [
    "from ultralytics import YOLO\n",
    "from ensemble_boxes import weighted_boxes_fusion"
   ],
   "outputs": [],
   "execution_count": 2
  },
  {
   "metadata": {
    "ExecuteTime": {
     "end_time": "2024-06-04T05:22:43.306042Z",
     "start_time": "2024-06-04T05:22:43.136746Z"
    }
   },
   "cell_type": "code",
   "source": [
    "# pt_model1 = YOLO(\"runs/detect/yolov9e 0.995 0.825/weights/epoch62.pt\")  # load a pretrained model (recommended for training)\n",
    "# pt_model2 = YOLO(\"../yolov9c_0.99_0.769.pt\")  # load a pretrained model (recommended for training)\n",
    "# pt_model2 = YOLO(\"runs/detect/yolov9e 0.995 0.825/weights/epoch65.engine\")  # load a pretrained model (recommended for training)"
   ],
   "id": "3ee1c22ed716d8",
   "outputs": [],
   "execution_count": 3
  },
  {
   "metadata": {
    "ExecuteTime": {
     "end_time": "2024-06-04T05:14:49.911055Z",
     "start_time": "2024-06-04T05:14:09.313333Z"
    }
   },
   "cell_type": "code",
   "source": "pt_model2.export(format=\"engine\", imgsz=1600, simplify=True, workspace=8, batch=1)",
   "id": "77c27058598f38c1",
   "outputs": [
    {
     "name": "stdout",
     "output_type": "stream",
     "text": [
      "WARNING  TensorRT requires GPU export, automatically assigning device=0\n",
      "Ultralytics YOLOv8.2.28  Python-3.9.13 torch-2.3.0+cu121 CUDA:0 (NVIDIA GeForce GTX 1650, 4096MiB)\n",
      "YOLOv9c summary (fused): 384 layers, 25320019 parameters, 0 gradients, 102.3 GFLOPs\n",
      "\n",
      "\u001B[34m\u001B[1mPyTorch:\u001B[0m starting from '..\\yolov9c_0.99_0.769.pt' with input shape (1, 3, 1600, 1600) BCHW and output shape(s) (1, 5, 52500) (49.2 MB)\n",
      "\u001B[31m\u001B[1mrequirements:\u001B[0m Ultralytics requirements ['onnx>=1.12.0', 'onnxslim==0.1.28'] not found, attempting AutoUpdate...\n",
      "\n",
      "\n",
      "\u001B[34m\u001B[1mONNX:\u001B[0m starting export with onnx 1.16.1 opset 17...\n",
      "\u001B[34m\u001B[1mONNX:\u001B[0m slimming with onnxslim 0.1.28...\n",
      "\u001B[34m\u001B[1mONNX:\u001B[0m export success  36.3s, saved as '..\\yolov9c_0.99_0.769.onnx' (97.7 MB)\n",
      "\u001B[34m\u001B[1mTensorRT:\u001B[0m export failure  36.3s: No module named 'tensorrt'\n"
     ]
    },
    {
     "ename": "ModuleNotFoundError",
     "evalue": "No module named 'tensorrt'",
     "output_type": "error",
     "traceback": [
      "\u001B[1;31m---------------------------------------------------------------------------\u001B[0m",
      "\u001B[1;31mModuleNotFoundError\u001B[0m                       Traceback (most recent call last)",
      "File \u001B[1;32mD:\\Program Files\\Python39\\lib\\site-packages\\ultralytics\\engine\\exporter.py:682\u001B[0m, in \u001B[0;36mExporter.export_engine\u001B[1;34m(self, prefix)\u001B[0m\n\u001B[0;32m    681\u001B[0m \u001B[38;5;28;01mtry\u001B[39;00m:\n\u001B[1;32m--> 682\u001B[0m     \u001B[38;5;28;01mimport\u001B[39;00m \u001B[38;5;21;01mtensorrt\u001B[39;00m \u001B[38;5;28;01mas\u001B[39;00m \u001B[38;5;21;01mtrt\u001B[39;00m  \u001B[38;5;66;03m# noqa\u001B[39;00m\n\u001B[0;32m    683\u001B[0m \u001B[38;5;28;01mexcept\u001B[39;00m \u001B[38;5;167;01mImportError\u001B[39;00m:\n",
      "\u001B[1;31mModuleNotFoundError\u001B[0m: No module named 'tensorrt'",
      "\nDuring handling of the above exception, another exception occurred:\n",
      "\u001B[1;31mModuleNotFoundError\u001B[0m                       Traceback (most recent call last)",
      "Input \u001B[1;32mIn [4]\u001B[0m, in \u001B[0;36m<cell line: 1>\u001B[1;34m()\u001B[0m\n\u001B[1;32m----> 1\u001B[0m \u001B[43mpt_model2\u001B[49m\u001B[38;5;241;43m.\u001B[39;49m\u001B[43mexport\u001B[49m\u001B[43m(\u001B[49m\u001B[38;5;28;43mformat\u001B[39;49m\u001B[38;5;241;43m=\u001B[39;49m\u001B[38;5;124;43m\"\u001B[39;49m\u001B[38;5;124;43mengine\u001B[39;49m\u001B[38;5;124;43m\"\u001B[39;49m\u001B[43m,\u001B[49m\u001B[43m \u001B[49m\u001B[43mimgsz\u001B[49m\u001B[38;5;241;43m=\u001B[39;49m\u001B[38;5;241;43m1600\u001B[39;49m\u001B[43m,\u001B[49m\u001B[43m \u001B[49m\u001B[43msimplify\u001B[49m\u001B[38;5;241;43m=\u001B[39;49m\u001B[38;5;28;43;01mTrue\u001B[39;49;00m\u001B[43m,\u001B[49m\u001B[43m \u001B[49m\u001B[43mworkspace\u001B[49m\u001B[38;5;241;43m=\u001B[39;49m\u001B[38;5;241;43m8\u001B[39;49m\u001B[43m,\u001B[49m\u001B[43m \u001B[49m\u001B[43mbatch\u001B[49m\u001B[38;5;241;43m=\u001B[39;49m\u001B[38;5;241;43m1\u001B[39;49m\u001B[43m)\u001B[49m\n",
      "File \u001B[1;32mD:\\Program Files\\Python39\\lib\\site-packages\\ultralytics\\engine\\model.py:602\u001B[0m, in \u001B[0;36mModel.export\u001B[1;34m(self, **kwargs)\u001B[0m\n\u001B[0;32m    600\u001B[0m custom \u001B[38;5;241m=\u001B[39m {\u001B[38;5;124m\"\u001B[39m\u001B[38;5;124mimgsz\u001B[39m\u001B[38;5;124m\"\u001B[39m: \u001B[38;5;28mself\u001B[39m\u001B[38;5;241m.\u001B[39mmodel\u001B[38;5;241m.\u001B[39margs[\u001B[38;5;124m\"\u001B[39m\u001B[38;5;124mimgsz\u001B[39m\u001B[38;5;124m\"\u001B[39m], \u001B[38;5;124m\"\u001B[39m\u001B[38;5;124mbatch\u001B[39m\u001B[38;5;124m\"\u001B[39m: \u001B[38;5;241m1\u001B[39m, \u001B[38;5;124m\"\u001B[39m\u001B[38;5;124mdata\u001B[39m\u001B[38;5;124m\"\u001B[39m: \u001B[38;5;28;01mNone\u001B[39;00m, \u001B[38;5;124m\"\u001B[39m\u001B[38;5;124mverbose\u001B[39m\u001B[38;5;124m\"\u001B[39m: \u001B[38;5;28;01mFalse\u001B[39;00m}  \u001B[38;5;66;03m# method defaults\u001B[39;00m\n\u001B[0;32m    601\u001B[0m args \u001B[38;5;241m=\u001B[39m {\u001B[38;5;241m*\u001B[39m\u001B[38;5;241m*\u001B[39m\u001B[38;5;28mself\u001B[39m\u001B[38;5;241m.\u001B[39moverrides, \u001B[38;5;241m*\u001B[39m\u001B[38;5;241m*\u001B[39mcustom, \u001B[38;5;241m*\u001B[39m\u001B[38;5;241m*\u001B[39mkwargs, \u001B[38;5;124m\"\u001B[39m\u001B[38;5;124mmode\u001B[39m\u001B[38;5;124m\"\u001B[39m: \u001B[38;5;124m\"\u001B[39m\u001B[38;5;124mexport\u001B[39m\u001B[38;5;124m\"\u001B[39m}  \u001B[38;5;66;03m# highest priority args on the right\u001B[39;00m\n\u001B[1;32m--> 602\u001B[0m \u001B[38;5;28;01mreturn\u001B[39;00m \u001B[43mExporter\u001B[49m\u001B[43m(\u001B[49m\u001B[43moverrides\u001B[49m\u001B[38;5;241;43m=\u001B[39;49m\u001B[43margs\u001B[49m\u001B[43m,\u001B[49m\u001B[43m \u001B[49m\u001B[43m_callbacks\u001B[49m\u001B[38;5;241;43m=\u001B[39;49m\u001B[38;5;28;43mself\u001B[39;49m\u001B[38;5;241;43m.\u001B[39;49m\u001B[43mcallbacks\u001B[49m\u001B[43m)\u001B[49m\u001B[43m(\u001B[49m\u001B[43mmodel\u001B[49m\u001B[38;5;241;43m=\u001B[39;49m\u001B[38;5;28;43mself\u001B[39;49m\u001B[38;5;241;43m.\u001B[39;49m\u001B[43mmodel\u001B[49m\u001B[43m)\u001B[49m\n",
      "File \u001B[1;32mD:\\Program Files\\Python39\\lib\\site-packages\\torch\\utils\\_contextlib.py:115\u001B[0m, in \u001B[0;36mcontext_decorator.<locals>.decorate_context\u001B[1;34m(*args, **kwargs)\u001B[0m\n\u001B[0;32m    112\u001B[0m \u001B[38;5;129m@functools\u001B[39m\u001B[38;5;241m.\u001B[39mwraps(func)\n\u001B[0;32m    113\u001B[0m \u001B[38;5;28;01mdef\u001B[39;00m \u001B[38;5;21mdecorate_context\u001B[39m(\u001B[38;5;241m*\u001B[39margs, \u001B[38;5;241m*\u001B[39m\u001B[38;5;241m*\u001B[39mkwargs):\n\u001B[0;32m    114\u001B[0m     \u001B[38;5;28;01mwith\u001B[39;00m ctx_factory():\n\u001B[1;32m--> 115\u001B[0m         \u001B[38;5;28;01mreturn\u001B[39;00m func(\u001B[38;5;241m*\u001B[39margs, \u001B[38;5;241m*\u001B[39m\u001B[38;5;241m*\u001B[39mkwargs)\n",
      "File \u001B[1;32mD:\\Program Files\\Python39\\lib\\site-packages\\ultralytics\\engine\\exporter.py:300\u001B[0m, in \u001B[0;36mExporter.__call__\u001B[1;34m(self, model)\u001B[0m\n\u001B[0;32m    298\u001B[0m     f[\u001B[38;5;241m0\u001B[39m], _ \u001B[38;5;241m=\u001B[39m \u001B[38;5;28mself\u001B[39m\u001B[38;5;241m.\u001B[39mexport_torchscript()\n\u001B[0;32m    299\u001B[0m \u001B[38;5;28;01mif\u001B[39;00m engine:  \u001B[38;5;66;03m# TensorRT required before ONNX\u001B[39;00m\n\u001B[1;32m--> 300\u001B[0m     f[\u001B[38;5;241m1\u001B[39m], _ \u001B[38;5;241m=\u001B[39m \u001B[38;5;28;43mself\u001B[39;49m\u001B[38;5;241;43m.\u001B[39;49m\u001B[43mexport_engine\u001B[49m\u001B[43m(\u001B[49m\u001B[43m)\u001B[49m\n\u001B[0;32m    301\u001B[0m \u001B[38;5;28;01mif\u001B[39;00m onnx:  \u001B[38;5;66;03m# ONNX\u001B[39;00m\n\u001B[0;32m    302\u001B[0m     f[\u001B[38;5;241m2\u001B[39m], _ \u001B[38;5;241m=\u001B[39m \u001B[38;5;28mself\u001B[39m\u001B[38;5;241m.\u001B[39mexport_onnx()\n",
      "File \u001B[1;32mD:\\Program Files\\Python39\\lib\\site-packages\\ultralytics\\engine\\exporter.py:142\u001B[0m, in \u001B[0;36mtry_export.<locals>.outer_func\u001B[1;34m(*args, **kwargs)\u001B[0m\n\u001B[0;32m    140\u001B[0m \u001B[38;5;28;01mexcept\u001B[39;00m \u001B[38;5;167;01mException\u001B[39;00m \u001B[38;5;28;01mas\u001B[39;00m e:\n\u001B[0;32m    141\u001B[0m     LOGGER\u001B[38;5;241m.\u001B[39minfo(\u001B[38;5;124mf\u001B[39m\u001B[38;5;124m\"\u001B[39m\u001B[38;5;132;01m{\u001B[39;00mprefix\u001B[38;5;132;01m}\u001B[39;00m\u001B[38;5;124m export failure ❌ \u001B[39m\u001B[38;5;132;01m{\u001B[39;00mdt\u001B[38;5;241m.\u001B[39mt\u001B[38;5;132;01m:\u001B[39;00m\u001B[38;5;124m.1f\u001B[39m\u001B[38;5;132;01m}\u001B[39;00m\u001B[38;5;124ms: \u001B[39m\u001B[38;5;132;01m{\u001B[39;00me\u001B[38;5;132;01m}\u001B[39;00m\u001B[38;5;124m\"\u001B[39m)\n\u001B[1;32m--> 142\u001B[0m     \u001B[38;5;28;01mraise\u001B[39;00m e\n",
      "File \u001B[1;32mD:\\Program Files\\Python39\\lib\\site-packages\\ultralytics\\engine\\exporter.py:137\u001B[0m, in \u001B[0;36mtry_export.<locals>.outer_func\u001B[1;34m(*args, **kwargs)\u001B[0m\n\u001B[0;32m    135\u001B[0m \u001B[38;5;28;01mtry\u001B[39;00m:\n\u001B[0;32m    136\u001B[0m     \u001B[38;5;28;01mwith\u001B[39;00m Profile() \u001B[38;5;28;01mas\u001B[39;00m dt:\n\u001B[1;32m--> 137\u001B[0m         f, model \u001B[38;5;241m=\u001B[39m inner_func(\u001B[38;5;241m*\u001B[39margs, \u001B[38;5;241m*\u001B[39m\u001B[38;5;241m*\u001B[39mkwargs)\n\u001B[0;32m    138\u001B[0m     LOGGER\u001B[38;5;241m.\u001B[39minfo(\u001B[38;5;124mf\u001B[39m\u001B[38;5;124m\"\u001B[39m\u001B[38;5;132;01m{\u001B[39;00mprefix\u001B[38;5;132;01m}\u001B[39;00m\u001B[38;5;124m export success ✅ \u001B[39m\u001B[38;5;132;01m{\u001B[39;00mdt\u001B[38;5;241m.\u001B[39mt\u001B[38;5;132;01m:\u001B[39;00m\u001B[38;5;124m.1f\u001B[39m\u001B[38;5;132;01m}\u001B[39;00m\u001B[38;5;124ms, saved as \u001B[39m\u001B[38;5;124m'\u001B[39m\u001B[38;5;132;01m{\u001B[39;00mf\u001B[38;5;132;01m}\u001B[39;00m\u001B[38;5;124m'\u001B[39m\u001B[38;5;124m (\u001B[39m\u001B[38;5;132;01m{\u001B[39;00mfile_size(f)\u001B[38;5;132;01m:\u001B[39;00m\u001B[38;5;124m.1f\u001B[39m\u001B[38;5;132;01m}\u001B[39;00m\u001B[38;5;124m MB)\u001B[39m\u001B[38;5;124m\"\u001B[39m)\n\u001B[0;32m    139\u001B[0m     \u001B[38;5;28;01mreturn\u001B[39;00m f, model\n",
      "File \u001B[1;32mD:\\Program Files\\Python39\\lib\\site-packages\\ultralytics\\engine\\exporter.py:686\u001B[0m, in \u001B[0;36mExporter.export_engine\u001B[1;34m(self, prefix)\u001B[0m\n\u001B[0;32m    684\u001B[0m     \u001B[38;5;28;01mif\u001B[39;00m LINUX:\n\u001B[0;32m    685\u001B[0m         check_requirements(\u001B[38;5;124m\"\u001B[39m\u001B[38;5;124mnvidia-tensorrt\u001B[39m\u001B[38;5;124m\"\u001B[39m, cmds\u001B[38;5;241m=\u001B[39m\u001B[38;5;124m\"\u001B[39m\u001B[38;5;124m-U --index-url https://pypi.ngc.nvidia.com\u001B[39m\u001B[38;5;124m\"\u001B[39m)\n\u001B[1;32m--> 686\u001B[0m     \u001B[38;5;28;01mimport\u001B[39;00m \u001B[38;5;21;01mtensorrt\u001B[39;00m \u001B[38;5;28;01mas\u001B[39;00m \u001B[38;5;21;01mtrt\u001B[39;00m  \u001B[38;5;66;03m# noqa\u001B[39;00m\n\u001B[0;32m    687\u001B[0m check_version(trt\u001B[38;5;241m.\u001B[39m__version__, \u001B[38;5;124m\"\u001B[39m\u001B[38;5;124m7.0.0\u001B[39m\u001B[38;5;124m\"\u001B[39m, hard\u001B[38;5;241m=\u001B[39m\u001B[38;5;28;01mTrue\u001B[39;00m)  \u001B[38;5;66;03m# require tensorrt>=7.0.0\u001B[39;00m\n\u001B[0;32m    689\u001B[0m \u001B[38;5;66;03m# Setup and checks\u001B[39;00m\n",
      "\u001B[1;31mModuleNotFoundError\u001B[0m: No module named 'tensorrt'"
     ]
    }
   ],
   "execution_count": 4
  },
  {
   "metadata": {
    "ExecuteTime": {
     "end_time": "2024-06-04T05:23:02.519510Z",
     "start_time": "2024-06-04T05:23:02.300693Z"
    }
   },
   "cell_type": "code",
   "source": [
    "from PIL import Image, ImageDraw\n",
    "import numpy as np\n",
    "im1 = Image.open('../../../data/images/image_5095.jpg')\n",
    "im2 = Image.open('../../../data/images/image_5100.jpg')"
   ],
   "id": "519edd47a61897b0",
   "outputs": [],
   "execution_count": 1
  },
  {
   "metadata": {
    "ExecuteTime": {
     "end_time": "2024-06-02T17:02:41.001191Z",
     "start_time": "2024-06-02T17:02:40.982194Z"
    }
   },
   "cell_type": "code",
   "source": [
    "from PIL import Image, ImageDraw\n",
    "import numpy as np\n",
    "im1 = Image.open('2.jpg')\n",
    "im2 = Image.open('3.jpg')"
   ],
   "id": "2157516c014ee0a2",
   "outputs": [],
   "execution_count": 10
  },
  {
   "metadata": {
    "ExecuteTime": {
     "end_time": "2024-06-02T11:55:00.332528Z",
     "start_time": "2024-06-02T11:54:56.681139Z"
    }
   },
   "cell_type": "code",
   "source": [
    "result1 = pt_model1.predict([im1, im2], imgsz=1600, conf=0.3, iou=0.1, max_det=10)  # max F1, try augment=True and iou\n",
    "result1_n = [(r.boxes.xyxyn.tolist(), r.boxes.conf.tolist()) for r in result1]\n",
    "result1_n = [tuple(zip(*r)) for r in result1_n]\n",
    "result1 = [(r.boxes.xyxy.tolist(), r.boxes.conf.tolist()) for r in result1]\n",
    "result1 = [tuple(zip(*r)) for r in result1]  # list of tuple[box, conf] in each image in xyxy format"
   ],
   "id": "9f96f9e359db4a92",
   "outputs": [
    {
     "name": "stdout",
     "output_type": "stream",
     "text": [
      "\n"
     ]
    },
    {
     "name": "stderr",
     "output_type": "stream",
     "text": [
      "C:\\Program Files\\Python39\\lib\\site-packages\\torch\\nn\\modules\\conv.py:456: UserWarning: Plan failed with a cudnnException: CUDNN_BACKEND_EXECUTION_PLAN_DESCRIPTOR: cudnnFinalize Descriptor Failed cudnn_status: CUDNN_STATUS_NOT_SUPPORTED (Triggered internally at C:\\actions-runner\\_work\\pytorch\\pytorch\\builder\\windows\\pytorch\\aten\\src\\ATen\\native\\cudnn\\Conv_v8.cpp:919.)\n",
      "  return F.conv2d(input, weight, bias, self.stride,\n"
     ]
    },
    {
     "name": "stdout",
     "output_type": "stream",
     "text": [
      "0: 928x1600 7 targets, 124.4ms\n",
      "1: 928x1600 7 targets, 124.4ms\n",
      "Speed: 7.6ms preprocess, 124.4ms inference, 932.8ms postprocess per image at shape (1, 3, 928, 1600)\n"
     ]
    }
   ],
   "execution_count": 4
  },
  {
   "metadata": {
    "ExecuteTime": {
     "end_time": "2024-06-04T05:23:06.921195Z",
     "start_time": "2024-06-04T05:23:02.755018Z"
    }
   },
   "cell_type": "code",
   "source": [
    "from sahi import AutoDetectionModel\n",
    "from sahi.predict import get_sliced_prediction"
   ],
   "id": "4ead7f691487e3b8",
   "outputs": [],
   "execution_count": 2
  },
  {
   "metadata": {
    "ExecuteTime": {
     "end_time": "2024-06-04T05:23:28.188731Z",
     "start_time": "2024-06-04T05:23:26.058026Z"
    }
   },
   "cell_type": "code",
   "source": [
    "model = AutoDetectionModel.from_pretrained(\n",
    "    model_type=\"yolov8\",\n",
    "    model_path='../yolov9c_0.99_0.769.pt',\n",
    "    confidence_threshold=0.5,\n",
    "    device=\"cuda\",\n",
    ")"
   ],
   "id": "c82a138171e44afe",
   "outputs": [],
   "execution_count": 3
  },
  {
   "metadata": {
    "ExecuteTime": {
     "end_time": "2024-06-04T05:23:46.449230Z",
     "start_time": "2024-06-04T05:23:45.861629Z"
    }
   },
   "cell_type": "code",
   "source": [
    "result = get_sliced_prediction(im1, model, perform_standard_pred=True, postprocess_class_agnostic=True).object_prediction_list\n",
    "result_n = [([r.bbox.minx / 1520, r.bbox.miny / 870, r.bbox.maxx / 1520, r.bbox.maxy / 870], r.score.value) for r in result]\n",
    "result = [([r.bbox.minx, r.bbox.miny, r.bbox.maxx, r.bbox.maxy], r.score.value) for r in result]"
   ],
   "id": "af92c26be481e516",
   "outputs": [
    {
     "name": "stdout",
     "output_type": "stream",
     "text": [
      "Performing prediction on 6 slices.\n"
     ]
    }
   ],
   "execution_count": 6
  },
  {
   "metadata": {
    "ExecuteTime": {
     "end_time": "2024-06-02T17:02:43.787754Z",
     "start_time": "2024-06-02T17:02:43.613756Z"
    }
   },
   "cell_type": "code",
   "source": [
    "result2 = pt_model2.predict([im1, im2], imgsz=1600, conf=0.3, iou=0.1, max_det=10)  # max F1, try augment=True and iou\n",
    "result2_n = [(r.boxes.xyxyn.tolist(), r.boxes.conf.tolist()) for r in result2]\n",
    "result2_n = [tuple(zip(*r)) for r in result2_n]\n",
    "result2 = [(r.boxes.xyxy.tolist(), r.boxes.conf.tolist()) for r in result2]\n",
    "result2 = [tuple(zip(*r)) for r in result2]  # list of tuple[box, conf] in each image in xyxy format"
   ],
   "id": "5a79892ee9769534",
   "outputs": [
    {
     "name": "stdout",
     "output_type": "stream",
     "text": [
      "\n",
      "0: 928x1600 4 targets, 58.5ms\n",
      "1: 928x1600 3 targets, 58.5ms\n",
      "Speed: 8.0ms preprocess, 58.5ms inference, 2.0ms postprocess per image at shape (1, 3, 928, 1600)\n"
     ]
    }
   ],
   "execution_count": 11
  },
  {
   "metadata": {
    "ExecuteTime": {
     "end_time": "2024-06-02T10:51:14.364867Z",
     "start_time": "2024-06-02T10:51:14.279868Z"
    }
   },
   "cell_type": "code",
   "source": [
    "result2 = pt_model2.predict([im1], imgsz=(1536, 896), conf=0.3, iou=0.1, max_det=10)  # max F1, try augment=True and iou\n",
    "result2_n = [(r.boxes.xyxyn.tolist(), r.boxes.conf.tolist()) for r in result2]\n",
    "result2_n = [tuple(zip(*r)) for r in result2_n]\n",
    "result2 = [(r.boxes.xyxy.tolist(), r.boxes.conf.tolist()) for r in result2]\n",
    "result2 = [tuple(zip(*r)) for r in result2]  # list of tuple[box, conf] in each image in xyxy format"
   ],
   "id": "6a8a9c9b28875228",
   "outputs": [
    {
     "name": "stdout",
     "output_type": "stream",
     "text": [
      "\n",
      "0: 1536x896 7 targets, 45.0ms\n",
      "Speed: 8.0ms preprocess, 45.0ms inference, 2.0ms postprocess per image at shape (1, 3, 1536, 896)\n"
     ]
    }
   ],
   "execution_count": 27
  },
  {
   "metadata": {
    "ExecuteTime": {
     "end_time": "2024-06-02T11:55:14.134310Z",
     "start_time": "2024-06-02T11:55:14.114311Z"
    }
   },
   "cell_type": "code",
   "source": [
    "boxes_list = [[r[0] for r in result1_n[0]], [r[0] for r in result2_n[0]]]\n",
    "scores_list = [[r[1] for r in result1_n[0]], [r[1] for r in result2_n[0]]]\n",
    "labels_list = [[0] * len(result1_n[0]), [0] * len(result2_n[0])]\n",
    "weights = [0.1, 1]\n",
    "boxes, scores, labels = weighted_boxes_fusion(boxes_list, scores_list, labels_list, weights=weights, iou_thr=0.5, skip_box_thr=1e-4)\n",
    "boxes = boxes.tolist()\n",
    "# normalize\n",
    "boxes = [[x1*1520, y1*870, x2*1520, y2*870] for x1, y1, x2, y2 in boxes]\n",
    "scores = scores.tolist()\n",
    "wbf_result = [list(zip(boxes, scores))]"
   ],
   "id": "b3e26981a4a7c078",
   "outputs": [],
   "execution_count": 7
  },
  {
   "metadata": {
    "ExecuteTime": {
     "end_time": "2024-06-02T17:03:39.721315Z",
     "start_time": "2024-06-02T17:03:39.187716Z"
    }
   },
   "cell_type": "code",
   "source": [
    "# plot\n",
    "for im, boxes in zip([im1, im2], result2):\n",
    "    im = im.copy()\n",
    "    draw = ImageDraw.Draw(im)\n",
    "    for (x1, y1, x2, y2), conf in boxes:\n",
    "        # print(x1, y1, x2, y2, conf)\n",
    "        print([x1, y1, x2 - x1, y2 - y1], conf)\n",
    "        draw.rectangle(xy=((x1, y1), (x2, y2)), outline='red')\n",
    "        draw.text((x1, y1), text=f'{conf:.2f}', fill='red')\n",
    "    im.show()"
   ],
   "id": "7597d8bcbd40d45a",
   "outputs": [
    {
     "name": "stdout",
     "output_type": "stream",
     "text": [
      "[805.4537963867188, 266.6635437011719, 65.88726806640625, 51.044525146484375] 0.8840249180793762\n",
      "[780.4070434570312, 344.8293762207031, 60.640869140625, 30.552337646484375] 0.8493534326553345\n",
      "[247.44850158691406, 504.761474609375, 110.45524597167969, 38.27239990234375] 0.8326224684715271\n",
      "[1415.942138671875, 158.29652404785156, 104.057861328125, 83.5587158203125] 0.797531008720398\n",
      "[926.0911865234375, 295.0468444824219, 114.6827392578125, 57.679962158203125] 0.8768801093101501\n",
      "[1131.968994140625, 235.7434844970703, 57.12158203125, 48.26167297363281] 0.8663981556892395\n",
      "[859.451904296875, 518.83251953125, 67.2882080078125, 43.86517333984375] 0.8398226499557495\n"
     ]
    }
   ],
   "execution_count": 13
  }
 ],
 "metadata": {
  "kernelspec": {
   "display_name": "Python 3",
   "language": "python",
   "name": "python3"
  },
  "language_info": {
   "codemirror_mode": {
    "name": "ipython",
    "version": 2
   },
   "file_extension": ".py",
   "mimetype": "text/x-python",
   "name": "python",
   "nbconvert_exporter": "python",
   "pygments_lexer": "ipython2",
   "version": "2.7.6"
  }
 },
 "nbformat": 4,
 "nbformat_minor": 5
}
