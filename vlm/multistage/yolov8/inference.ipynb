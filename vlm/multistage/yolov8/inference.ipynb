{
 "cells": [
  {
   "cell_type": "code",
   "id": "initial_id",
   "metadata": {
    "collapsed": true,
    "ExecuteTime": {
     "end_time": "2024-06-02T16:49:18.669782Z",
     "start_time": "2024-06-02T16:49:15.010072Z"
    }
   },
   "source": [
    "from ultralytics import YOLO\n",
    "# pip install ensemble-boxes\n",
    "from ensemble_boxes import weighted_boxes_fusion"
   ],
   "outputs": [],
   "execution_count": 1
  },
  {
   "metadata": {
    "ExecuteTime": {
     "end_time": "2024-06-02T16:49:48.486895Z",
     "start_time": "2024-06-02T16:49:47.622325Z"
    }
   },
   "cell_type": "code",
   "source": [
    "pt_model1 = YOLO(\"runs/detect/yolov9e 0.995 0.825/weights/epoch62.pt\")  # load a pretrained model (recommended for training)\n",
    "pt_model2 = YOLO(\"runs/detect/yolov9e 0.995 0.825/weights/epoch65.pt\")  # load a pretrained model (recommended for training)\n",
    "# pt_model2 = YOLO(\"runs/detect/yolov9e 0.995 0.825/weights/epoch65.engine\")  # load a pretrained model (recommended for training)"
   ],
   "id": "3ee1c22ed716d8",
   "outputs": [],
   "execution_count": 2
  },
  {
   "metadata": {
    "ExecuteTime": {
     "end_time": "2024-06-02T11:54:43.618181Z",
     "start_time": "2024-06-02T11:54:41.467729Z"
    }
   },
   "cell_type": "code",
   "source": "pt_model2.export(format=\"engine\", imgsz=1600, simplify=True, workspace=8, batch=1)",
   "id": "77c27058598f38c1",
   "outputs": [
    {
     "name": "stdout",
     "output_type": "stream",
     "text": [
      "WARNING  TensorRT requires GPU export, automatically assigning device=0\n",
      "Ultralytics YOLOv8.2.18  Python-3.9.13 torch-2.3.0+cu121 CUDA:0 (NVIDIA GeForce RTX 3080 Ti, 12288MiB)\n",
      "YOLOv9e summary (fused): 687 layers, 57377171 parameters, 0 gradients, 189.1 GFLOPs\n"
     ]
    },
    {
     "name": "stderr",
     "output_type": "stream",
     "text": [
      "\n",
      "KeyboardInterrupt\n",
      "\n"
     ]
    }
   ],
   "execution_count": 3
  },
  {
   "metadata": {
    "ExecuteTime": {
     "end_time": "2024-06-02T13:16:33.046395Z",
     "start_time": "2024-06-02T13:16:33.028074Z"
    }
   },
   "cell_type": "code",
   "source": [
    "from PIL import Image, ImageDraw\n",
    "import numpy as np\n",
    "im1 = Image.open('../../../data/images/image_5095.jpg')\n",
    "im2 = Image.open('../../../data/images/image_5100.jpg')"
   ],
   "id": "519edd47a61897b0",
   "outputs": [],
   "execution_count": 8
  },
  {
   "metadata": {
    "ExecuteTime": {
     "end_time": "2024-06-02T17:02:41.001191Z",
     "start_time": "2024-06-02T17:02:40.982194Z"
    }
   },
   "cell_type": "code",
   "source": [
    "from PIL import Image, ImageDraw\n",
    "import numpy as np\n",
    "im1 = Image.open('2.jpg')\n",
    "im2 = Image.open('3.jpg')"
   ],
   "id": "2157516c014ee0a2",
   "outputs": [],
   "execution_count": 10
  },
  {
   "metadata": {
    "ExecuteTime": {
     "end_time": "2024-06-02T11:55:00.332528Z",
     "start_time": "2024-06-02T11:54:56.681139Z"
    }
   },
   "cell_type": "code",
   "source": [
    "result1 = pt_model1.predict([im1, im2], imgsz=1600, conf=0.3, iou=0.1, max_det=10)  # max F1, try augment=True and iou\n",
    "result1_n = [(r.boxes.xyxyn.tolist(), r.boxes.conf.tolist()) for r in result1]\n",
    "result1_n = [tuple(zip(*r)) for r in result1_n]\n",
    "result1 = [(r.boxes.xyxy.tolist(), r.boxes.conf.tolist()) for r in result1]\n",
    "result1 = [tuple(zip(*r)) for r in result1]  # list of tuple[box, conf] in each image in xyxy format"
   ],
   "id": "9f96f9e359db4a92",
   "outputs": [
    {
     "name": "stdout",
     "output_type": "stream",
     "text": [
      "\n"
     ]
    },
    {
     "name": "stderr",
     "output_type": "stream",
     "text": [
      "C:\\Program Files\\Python39\\lib\\site-packages\\torch\\nn\\modules\\conv.py:456: UserWarning: Plan failed with a cudnnException: CUDNN_BACKEND_EXECUTION_PLAN_DESCRIPTOR: cudnnFinalize Descriptor Failed cudnn_status: CUDNN_STATUS_NOT_SUPPORTED (Triggered internally at C:\\actions-runner\\_work\\pytorch\\pytorch\\builder\\windows\\pytorch\\aten\\src\\ATen\\native\\cudnn\\Conv_v8.cpp:919.)\n",
      "  return F.conv2d(input, weight, bias, self.stride,\n"
     ]
    },
    {
     "name": "stdout",
     "output_type": "stream",
     "text": [
      "0: 928x1600 7 targets, 124.4ms\n",
      "1: 928x1600 7 targets, 124.4ms\n",
      "Speed: 7.6ms preprocess, 124.4ms inference, 932.8ms postprocess per image at shape (1, 3, 928, 1600)\n"
     ]
    }
   ],
   "execution_count": 4
  },
  {
   "metadata": {
    "ExecuteTime": {
     "end_time": "2024-06-02T13:10:10.784139Z",
     "start_time": "2024-06-02T13:10:10.771140Z"
    }
   },
   "cell_type": "code",
   "source": [
    "from sahi import AutoDetectionModel\n",
    "from sahi.predict import get_sliced_prediction"
   ],
   "id": "4ead7f691487e3b8",
   "outputs": [],
   "execution_count": 5
  },
  {
   "metadata": {
    "ExecuteTime": {
     "end_time": "2024-06-02T13:14:35.028476Z",
     "start_time": "2024-06-02T13:14:29.090153Z"
    }
   },
   "cell_type": "code",
   "source": [
    "model = AutoDetectionModel.from_pretrained(\n",
    "    model_type=\"yolov8\",\n",
    "    model_path='../yolov9e_0.995_0.823_epoch65.pt',\n",
    "    confidence_threshold=0.1,\n",
    "    device=\"cuda\",  # or 'cuda:0'\n",
    ")"
   ],
   "id": "c82a138171e44afe",
   "outputs": [
    {
     "name": "stderr",
     "output_type": "stream",
     "text": [
      "06/02/2024 21:14:34 - INFO - albumentations.check_version -   A new version of Albumentations is available: 1.4.8 (you have 1.4.7). Upgrade using: pip install --upgrade albumentations\n"
     ]
    }
   ],
   "execution_count": 6
  },
  {
   "metadata": {
    "ExecuteTime": {
     "end_time": "2024-06-02T13:46:43.340180Z",
     "start_time": "2024-06-02T13:46:42.434997Z"
    }
   },
   "cell_type": "code",
   "source": [
    "result = get_sliced_prediction(im1, model, perform_standard_pred=True, postprocess_class_agnostic=True).object_prediction_list\n",
    "result_n = [([r.bbox.minx / 1520, r.bbox.miny / 870, r.bbox.maxx / 1520, r.bbox.maxy / 870], r.score.value) for r in result]\n",
    "result = [([r.bbox.minx, r.bbox.miny, r.bbox.maxx, r.bbox.maxy], r.score.value) for r in result]"
   ],
   "id": "af92c26be481e516",
   "outputs": [
    {
     "name": "stdout",
     "output_type": "stream",
     "text": [
      "Performing prediction on 6 slices.\n"
     ]
    }
   ],
   "execution_count": 26
  },
  {
   "metadata": {
    "ExecuteTime": {
     "end_time": "2024-06-02T17:02:43.787754Z",
     "start_time": "2024-06-02T17:02:43.613756Z"
    }
   },
   "cell_type": "code",
   "source": [
    "result2 = pt_model2.predict([im1, im2], imgsz=1600, conf=0.3, iou=0.1, max_det=10)  # max F1, try augment=True and iou\n",
    "result2_n = [(r.boxes.xyxyn.tolist(), r.boxes.conf.tolist()) for r in result2]\n",
    "result2_n = [tuple(zip(*r)) for r in result2_n]\n",
    "result2 = [(r.boxes.xyxy.tolist(), r.boxes.conf.tolist()) for r in result2]\n",
    "result2 = [tuple(zip(*r)) for r in result2]  # list of tuple[box, conf] in each image in xyxy format"
   ],
   "id": "5a79892ee9769534",
   "outputs": [
    {
     "name": "stdout",
     "output_type": "stream",
     "text": [
      "\n",
      "0: 928x1600 4 targets, 58.5ms\n",
      "1: 928x1600 3 targets, 58.5ms\n",
      "Speed: 8.0ms preprocess, 58.5ms inference, 2.0ms postprocess per image at shape (1, 3, 928, 1600)\n"
     ]
    }
   ],
   "execution_count": 11
  },
  {
   "metadata": {
    "ExecuteTime": {
     "end_time": "2024-06-02T10:51:14.364867Z",
     "start_time": "2024-06-02T10:51:14.279868Z"
    }
   },
   "cell_type": "code",
   "source": [
    "result2 = pt_model2.predict([im1], imgsz=(1536, 896), conf=0.3, iou=0.1, max_det=10)  # max F1, try augment=True and iou\n",
    "result2_n = [(r.boxes.xyxyn.tolist(), r.boxes.conf.tolist()) for r in result2]\n",
    "result2_n = [tuple(zip(*r)) for r in result2_n]\n",
    "result2 = [(r.boxes.xyxy.tolist(), r.boxes.conf.tolist()) for r in result2]\n",
    "result2 = [tuple(zip(*r)) for r in result2]  # list of tuple[box, conf] in each image in xyxy format"
   ],
   "id": "6a8a9c9b28875228",
   "outputs": [
    {
     "name": "stdout",
     "output_type": "stream",
     "text": [
      "\n",
      "0: 1536x896 7 targets, 45.0ms\n",
      "Speed: 8.0ms preprocess, 45.0ms inference, 2.0ms postprocess per image at shape (1, 3, 1536, 896)\n"
     ]
    }
   ],
   "execution_count": 27
  },
  {
   "metadata": {
    "ExecuteTime": {
     "end_time": "2024-06-02T11:55:14.134310Z",
     "start_time": "2024-06-02T11:55:14.114311Z"
    }
   },
   "cell_type": "code",
   "source": [
    "boxes_list = [[r[0] for r in result1_n[0]], [r[0] for r in result2_n[0]]]\n",
    "scores_list = [[r[1] for r in result1_n[0]], [r[1] for r in result2_n[0]]]\n",
    "labels_list = [[0] * len(result1_n[0]), [0] * len(result2_n[0])]\n",
    "weights = [0.1, 1]\n",
    "boxes, scores, labels = weighted_boxes_fusion(boxes_list, scores_list, labels_list, weights=weights, iou_thr=0.5, skip_box_thr=1e-4)\n",
    "boxes = boxes.tolist()\n",
    "# normalize\n",
    "boxes = [[x1*1520, y1*870, x2*1520, y2*870] for x1, y1, x2, y2 in boxes]\n",
    "scores = scores.tolist()\n",
    "wbf_result = [list(zip(boxes, scores))]"
   ],
   "id": "b3e26981a4a7c078",
   "outputs": [],
   "execution_count": 7
  },
  {
   "metadata": {
    "ExecuteTime": {
     "end_time": "2024-06-02T17:03:39.721315Z",
     "start_time": "2024-06-02T17:03:39.187716Z"
    }
   },
   "cell_type": "code",
   "source": [
    "# plot\n",
    "for im, boxes in zip([im1, im2], result2):\n",
    "    im = im.copy()\n",
    "    draw = ImageDraw.Draw(im)\n",
    "    for (x1, y1, x2, y2), conf in boxes:\n",
    "        # print(x1, y1, x2, y2, conf)\n",
    "        print([x1, y1, x2 - x1, y2 - y1], conf)\n",
    "        draw.rectangle(xy=((x1, y1), (x2, y2)), outline='red')\n",
    "        draw.text((x1, y1), text=f'{conf:.2f}', fill='red')\n",
    "    im.show()"
   ],
   "id": "7597d8bcbd40d45a",
   "outputs": [
    {
     "name": "stdout",
     "output_type": "stream",
     "text": [
      "[805.4537963867188, 266.6635437011719, 65.88726806640625, 51.044525146484375] 0.8840249180793762\n",
      "[780.4070434570312, 344.8293762207031, 60.640869140625, 30.552337646484375] 0.8493534326553345\n",
      "[247.44850158691406, 504.761474609375, 110.45524597167969, 38.27239990234375] 0.8326224684715271\n",
      "[1415.942138671875, 158.29652404785156, 104.057861328125, 83.5587158203125] 0.797531008720398\n",
      "[926.0911865234375, 295.0468444824219, 114.6827392578125, 57.679962158203125] 0.8768801093101501\n",
      "[1131.968994140625, 235.7434844970703, 57.12158203125, 48.26167297363281] 0.8663981556892395\n",
      "[859.451904296875, 518.83251953125, 67.2882080078125, 43.86517333984375] 0.8398226499557495\n"
     ]
    }
   ],
   "execution_count": 13
  }
 ],
 "metadata": {
  "kernelspec": {
   "display_name": "Python 3",
   "language": "python",
   "name": "python3"
  },
  "language_info": {
   "codemirror_mode": {
    "name": "ipython",
    "version": 2
   },
   "file_extension": ".py",
   "mimetype": "text/x-python",
   "name": "python",
   "nbconvert_exporter": "python",
   "pygments_lexer": "ipython2",
   "version": "2.7.6"
  }
 },
 "nbformat": 4,
 "nbformat_minor": 5
}
