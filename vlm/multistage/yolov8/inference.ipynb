{
 "cells": [
  {
   "cell_type": "code",
   "id": "initial_id",
   "metadata": {
    "collapsed": true,
    "ExecuteTime": {
     "end_time": "2024-05-25T04:10:30.086867Z",
     "start_time": "2024-05-25T04:10:27.349868Z"
    }
   },
   "source": "from ultralytics import YOLO",
   "outputs": [],
   "execution_count": 1
  },
  {
   "metadata": {
    "ExecuteTime": {
     "end_time": "2024-05-25T04:17:00.994954Z",
     "start_time": "2024-05-25T04:17:00.784955Z"
    }
   },
   "cell_type": "code",
   "source": "pt_model = YOLO(\"runs/detect/yolov9e 0.995 0.801/weights/last.pt\")  # load a pretrained model (recommended for training)",
   "id": "3ee1c22ed716d8",
   "outputs": [],
   "execution_count": 14
  },
  {
   "metadata": {
    "ExecuteTime": {
     "end_time": "2024-05-25T04:13:42.839037Z",
     "start_time": "2024-05-25T04:13:42.829038Z"
    }
   },
   "cell_type": "code",
   "source": [
    "from PIL import Image, ImageDraw\n",
    "import numpy as np\n",
    "im1 = Image.open('../../../data/images/image_5095.jpg')\n",
    "im2 = Image.open('../../../data/images/image_5100.jpg')"
   ],
   "id": "519edd47a61897b0",
   "outputs": [],
   "execution_count": 10
  },
  {
   "metadata": {
    "ExecuteTime": {
     "end_time": "2024-05-25T04:17:03.187955Z",
     "start_time": "2024-05-25T04:17:02.445954Z"
    }
   },
   "cell_type": "code",
   "source": [
    "result = pt_model.predict([im1, im2], imgsz=1600, conf=0.3, iou=0.1, max_det=10)  # max F1, try augment=True and iou\n",
    "result = [(r.boxes.xyxy.tolist(), r.boxes.conf.tolist()) for r in result]\n",
    "result = [tuple(zip(*r)) for r in result]  # list of tuple[box, conf] in each image in xyxy format"
   ],
   "id": "9f96f9e359db4a92",
   "outputs": [
    {
     "name": "stdout",
     "output_type": "stream",
     "text": [
      "\n",
      "0: 928x1600 7 targets, 59.5ms\n",
      "1: 928x1600 7 targets, 59.5ms\n",
      "Speed: 7.5ms preprocess, 59.5ms inference, 2.0ms postprocess per image at shape (1, 3, 928, 1600)\n"
     ]
    }
   ],
   "execution_count": 15
  },
  {
   "metadata": {
    "ExecuteTime": {
     "end_time": "2024-05-25T04:17:04.464954Z",
     "start_time": "2024-05-25T04:17:03.766956Z"
    }
   },
   "cell_type": "code",
   "source": [
    "# plot\n",
    "for im, boxes in zip([im1, im2], result):\n",
    "    im = im.copy()\n",
    "    draw = ImageDraw.Draw(im)\n",
    "    for (x1, y1, x2, y2), conf in boxes:\n",
    "        draw.rectangle(xy=((x1, y1), (x2, y2)), outline='red')\n",
    "        draw.text((x1, y1), text=f'{conf:.2f}', fill='red')\n",
    "    im.show()"
   ],
   "id": "7597d8bcbd40d45a",
   "outputs": [],
   "execution_count": 16
  }
 ],
 "metadata": {
  "kernelspec": {
   "display_name": "Python 3",
   "language": "python",
   "name": "python3"
  },
  "language_info": {
   "codemirror_mode": {
    "name": "ipython",
    "version": 2
   },
   "file_extension": ".py",
   "mimetype": "text/x-python",
   "name": "python",
   "nbconvert_exporter": "python",
   "pygments_lexer": "ipython2",
   "version": "2.7.6"
  }
 },
 "nbformat": 4,
 "nbformat_minor": 5
}
