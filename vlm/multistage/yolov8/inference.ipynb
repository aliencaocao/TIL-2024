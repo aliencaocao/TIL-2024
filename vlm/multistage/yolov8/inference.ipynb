{
 "cells": [
  {
   "cell_type": "code",
   "id": "initial_id",
   "metadata": {
    "collapsed": true,
    "ExecuteTime": {
     "end_time": "2024-06-02T09:42:03.231958Z",
     "start_time": "2024-06-02T09:41:59.831034Z"
    }
   },
   "source": [
    "from ultralytics import YOLO\n",
    "# pip install ensemble-boxes\n",
    "from ensemble_boxes import weighted_boxes_fusion"
   ],
   "outputs": [],
   "execution_count": 2
  },
  {
   "metadata": {
    "ExecuteTime": {
     "end_time": "2024-06-02T09:42:04.100959Z",
     "start_time": "2024-06-02T09:42:03.232961Z"
    }
   },
   "cell_type": "code",
   "source": [
    "pt_model1 = YOLO(\"runs/detect/yolov9e 0.995 0.825/weights/epoch62.pt\")  # load a pretrained model (recommended for training)\n",
    "pt_model2 = YOLO(\"runs/detect/yolov9e 0.995 0.825/weights/epoch65.pt\")  # load a pretrained model (recommended for training)"
   ],
   "id": "3ee1c22ed716d8",
   "outputs": [],
   "execution_count": 3
  },
  {
   "metadata": {
    "ExecuteTime": {
     "end_time": "2024-06-02T09:42:04.116960Z",
     "start_time": "2024-06-02T09:42:04.101961Z"
    }
   },
   "cell_type": "code",
   "source": [
    "from PIL import Image, ImageDraw\n",
    "import numpy as np\n",
    "im1 = Image.open('../../../data/images/image_5095.jpg')\n",
    "im2 = Image.open('../../../data/images/image_5100.jpg')"
   ],
   "id": "519edd47a61897b0",
   "outputs": [],
   "execution_count": 4
  },
  {
   "metadata": {
    "ExecuteTime": {
     "end_time": "2024-06-02T09:42:07.707741Z",
     "start_time": "2024-06-02T09:42:04.117959Z"
    }
   },
   "cell_type": "code",
   "source": [
    "result1 = pt_model1.predict([im1, im2], imgsz=1600, conf=0.3, iou=0.1, max_det=10)  # max F1, try augment=True and iou\n",
    "result1_n = [(r.boxes.xyxyn.tolist(), r.boxes.conf.tolist()) for r in result1]\n",
    "result1_n = [tuple(zip(*r)) for r in result1_n]\n",
    "result1 = [(r.boxes.xyxy.tolist(), r.boxes.conf.tolist()) for r in result1]\n",
    "result1 = [tuple(zip(*r)) for r in result1]  # list of tuple[box, conf] in each image in xyxy format"
   ],
   "id": "9f96f9e359db4a92",
   "outputs": [
    {
     "name": "stdout",
     "output_type": "stream",
     "text": [
      "\n"
     ]
    },
    {
     "name": "stderr",
     "output_type": "stream",
     "text": [
      "C:\\Program Files\\Python39\\lib\\site-packages\\torch\\nn\\modules\\conv.py:456: UserWarning: Plan failed with a cudnnException: CUDNN_BACKEND_EXECUTION_PLAN_DESCRIPTOR: cudnnFinalize Descriptor Failed cudnn_status: CUDNN_STATUS_NOT_SUPPORTED (Triggered internally at C:\\actions-runner\\_work\\pytorch\\pytorch\\builder\\windows\\pytorch\\aten\\src\\ATen\\native\\cudnn\\Conv_v8.cpp:919.)\n",
      "  return F.conv2d(input, weight, bias, self.stride,\n"
     ]
    },
    {
     "name": "stdout",
     "output_type": "stream",
     "text": [
      "0: 928x1600 7 targets, 137.5ms\n",
      "1: 928x1600 7 targets, 137.5ms\n",
      "Speed: 8.5ms preprocess, 137.5ms inference, 809.1ms postprocess per image at shape (1, 3, 928, 1600)\n"
     ]
    }
   ],
   "execution_count": 5
  },
  {
   "metadata": {
    "ExecuteTime": {
     "end_time": "2024-06-02T09:42:08.563895Z",
     "start_time": "2024-06-02T09:42:07.708742Z"
    }
   },
   "cell_type": "code",
   "source": [
    "result2 = pt_model2.predict([im1, im2], imgsz=1600, conf=0.3, iou=0.1, max_det=10)  # max F1, try augment=True and iou\n",
    "result2_n = [(r.boxes.xyxyn.tolist(), r.boxes.conf.tolist()) for r in result2]\n",
    "result2_n = [tuple(zip(*r)) for r in result2_n]\n",
    "result2 = [(r.boxes.xyxy.tolist(), r.boxes.conf.tolist()) for r in result2]\n",
    "result2 = [tuple(zip(*r)) for r in result2]  # list of tuple[box, conf] in each image in xyxy format"
   ],
   "id": "5a79892ee9769534",
   "outputs": [
    {
     "name": "stdout",
     "output_type": "stream",
     "text": [
      "\n",
      "0: 928x1600 7 targets, 60.0ms\n",
      "1: 928x1600 7 targets, 60.0ms\n",
      "Speed: 10.0ms preprocess, 60.0ms inference, 1.5ms postprocess per image at shape (1, 3, 928, 1600)\n"
     ]
    }
   ],
   "execution_count": 6
  },
  {
   "metadata": {
    "ExecuteTime": {
     "end_time": "2024-06-02T09:21:35.460686Z",
     "start_time": "2024-06-02T09:21:35.446688Z"
    }
   },
   "cell_type": "code",
   "source": [
    "boxes_list = [[r[0] for r in result1_n[0]], [r[0] for r in result2_n[0]]]\n",
    "scores_list = [[r[1] for r in result1_n[0]], [r[1] for r in result2_n[0]]]\n",
    "labels_list = [[0] * len(result1_n[0]), [0] * len(result2_n[0])]\n",
    "weights = [1, 1]\n",
    "boxes, scores, labels = weighted_boxes_fusion(boxes_list, scores_list, labels_list, weights=weights, iou_thr=0.5, skip_box_thr=1e-4)\n",
    "boxes = boxes.tolist()\n",
    "# normalize\n",
    "boxes = [[x1*1520, y1*870, x2*1520, y2*870] for x1, y1, x2, y2 in boxes]\n",
    "scores = scores.tolist()\n",
    "wbf_result = [list(zip(boxes, scores))]"
   ],
   "id": "b3e26981a4a7c078",
   "outputs": [],
   "execution_count": 30
  },
  {
   "metadata": {
    "ExecuteTime": {
     "end_time": "2024-06-02T09:21:36.098619Z",
     "start_time": "2024-06-02T09:21:35.779923Z"
    }
   },
   "cell_type": "code",
   "source": [
    "# plot\n",
    "for im, boxes in zip([im1, im2], wbf_result):\n",
    "    im = im.copy()\n",
    "    draw = ImageDraw.Draw(im)\n",
    "    for (x1, y1, x2, y2), conf in boxes:\n",
    "        draw.rectangle(xy=((x1, y1), (x2, y2)), outline='red')\n",
    "        draw.text((x1, y1), text=f'{conf:.2f}', fill='red')\n",
    "    im.show()"
   ],
   "id": "7597d8bcbd40d45a",
   "outputs": [],
   "execution_count": 31
  }
 ],
 "metadata": {
  "kernelspec": {
   "display_name": "Python 3",
   "language": "python",
   "name": "python3"
  },
  "language_info": {
   "codemirror_mode": {
    "name": "ipython",
    "version": 2
   },
   "file_extension": ".py",
   "mimetype": "text/x-python",
   "name": "python",
   "nbconvert_exporter": "python",
   "pygments_lexer": "ipython2",
   "version": "2.7.6"
  }
 },
 "nbformat": 4,
 "nbformat_minor": 5
}
