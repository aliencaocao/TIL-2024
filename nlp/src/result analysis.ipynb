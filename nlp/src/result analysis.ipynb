{
 "cells": [
  {
   "cell_type": "code",
   "id": "initial_id",
   "metadata": {
    "collapsed": true,
    "ExecuteTime": {
     "end_time": "2024-05-17T16:28:11.839271Z",
     "start_time": "2024-05-17T16:28:11.814162Z"
    }
   },
   "source": "import orjson",
   "outputs": [],
   "execution_count": 1
  },
  {
   "metadata": {
    "ExecuteTime": {
     "end_time": "2024-05-17T16:28:20.433013Z",
     "start_time": "2024-05-17T16:28:20.414012Z"
    }
   },
   "cell_type": "code",
   "source": [
    "with open('eval_results/gorilla-openfunctions-v2-TIL24-r16-a16-ctx768-v2-5bit-hb6-3500samples_score.json', 'rb') as f:\n",
    "    results = orjson.loads(f.read())\n",
    "with open('eval_outputs/gorilla-openfunctions-v2-TIL24-r16-a16-ctx768-v2-5bit-hb6-3500samples.json', 'rb') as f:\n",
    "    infer_output = orjson.loads(f.read())\n",
    "with open('../../data/nlp.jsonl', 'rb') as f:\n",
    "    label = [orjson.loads(line.strip()) for line in f if line.strip() != \"\"]"
   ],
   "id": "fbbebb80f4a29089",
   "outputs": [],
   "execution_count": 2
  },
  {
   "metadata": {
    "ExecuteTime": {
     "end_time": "2024-05-17T16:28:22.069917Z",
     "start_time": "2024-05-17T16:28:22.058919Z"
    }
   },
   "cell_type": "code",
   "source": [
    "failed = {k: v for k, v in results.items() if v['target'] < 1 or v['tool'] < 1}\n",
    "failed_heading = {k: v for k, v in results.items() if v['heading'] < 1}"
   ],
   "id": "1d94a92ec66e4191",
   "outputs": [],
   "execution_count": 3
  },
  {
   "metadata": {
    "ExecuteTime": {
     "end_time": "2024-05-15T16:03:16.910051Z",
     "start_time": "2024-05-15T16:03:16.896055Z"
    }
   },
   "cell_type": "code",
   "source": "# 230 Turret Foxtrot, engage the target at heading two seven five, red and yellow missile, deploy surface-to-air missiles. Turret Foxtrot, prepare for strike. It give [{'heading': '275', 'tool': 'red and yellow missile', 'target': 'deploy surface-to-air missiles'}]",
   "id": "47b5238cd759ad25",
   "outputs": [],
   "execution_count": 8
  },
  {
   "metadata": {
    "ExecuteTime": {
     "end_time": "2024-05-17T16:28:24.270179Z",
     "start_time": "2024-05-17T16:28:24.254182Z"
    }
   },
   "cell_type": "code",
   "source": "failed_heading",
   "id": "1fe3180243fcbea7",
   "outputs": [
    {
     "data": {
      "text/plain": [
       "{'511': {'heading': 0.0, 'target': 1.0, 'tool': 0.0},\n",
       " '608': {'heading': 0.0, 'target': 0.4, 'tool': 1.0},\n",
       " '1237': {'heading': 0.0, 'target': 0.1818181818181818, 'tool': 1.0},\n",
       " '1936': {'heading': 0.0, 'target': 0.1818181818181818, 'tool': 0.0},\n",
       " '2235': {'heading': 0.0, 'target': 1.0, 'tool': 0.0},\n",
       " '2356': {'heading': 0.0, 'target': 1.0, 'tool': 0.0}}"
      ]
     },
     "execution_count": 4,
     "metadata": {},
     "output_type": "execute_result"
    }
   ],
   "execution_count": 4
  }
 ],
 "metadata": {
  "kernelspec": {
   "display_name": "Python 3",
   "language": "python",
   "name": "python3"
  },
  "language_info": {
   "codemirror_mode": {
    "name": "ipython",
    "version": 2
   },
   "file_extension": ".py",
   "mimetype": "text/x-python",
   "name": "python",
   "nbconvert_exporter": "python",
   "pygments_lexer": "ipython2",
   "version": "2.7.6"
  }
 },
 "nbformat": 4,
 "nbformat_minor": 5
}
