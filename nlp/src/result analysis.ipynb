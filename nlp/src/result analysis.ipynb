{
 "cells": [
  {
   "cell_type": "code",
   "id": "initial_id",
   "metadata": {
    "collapsed": true,
    "ExecuteTime": {
     "end_time": "2024-05-12T10:41:32.996512Z",
     "start_time": "2024-05-12T10:41:32.982513Z"
    }
   },
   "source": "import orjson",
   "outputs": [],
   "execution_count": 1
  },
  {
   "metadata": {
    "ExecuteTime": {
     "end_time": "2024-05-12T15:52:18.205958Z",
     "start_time": "2024-05-12T15:52:18.187958Z"
    }
   },
   "cell_type": "code",
   "source": [
    "with open('eval_results/gorilla-openfunctions-v2-5.0bpw-h6-exl2-pretrained_score.json', 'rb') as f:\n",
    "    results = orjson.loads(f.read())\n",
    "with open('eval_outputs/gorilla-openfunctions-v2-5.0bpw-h6-exl2-pretrained.json', 'rb') as f:\n",
    "    infer_output = orjson.loads(f.read())\n",
    "with open('../../data/nlp.jsonl', 'rb') as f:\n",
    "    label = [orjson.loads(line.strip()) for line in f if line.strip() != \"\"]"
   ],
   "id": "fbbebb80f4a29089",
   "outputs": [],
   "execution_count": 33
  },
  {
   "metadata": {
    "ExecuteTime": {
     "end_time": "2024-05-12T15:52:21.631002Z",
     "start_time": "2024-05-12T15:52:21.626058Z"
    }
   },
   "cell_type": "code",
   "source": [
    "failed = {k: v for k, v in results.items() if v['target'] < 1 or v['tool'] < 1}\n",
    "failed_heading = {k: v for k, v in results.items() if v['heading'] < 1}"
   ],
   "id": "1d94a92ec66e4191",
   "outputs": [],
   "execution_count": 34
  },
  {
   "metadata": {},
   "cell_type": "code",
   "outputs": [],
   "execution_count": null,
   "source": "# 230 Turret Foxtrot, engage the target at heading two seven five, red and yellow missile, deploy surface-to-air missiles. Turret Foxtrot, prepare for strike. It give [{'heading': '275', 'tool': 'red and yellow missile', 'target': 'deploy surface-to-air missiles'}]",
   "id": "47b5238cd759ad25"
  },
  {
   "metadata": {
    "ExecuteTime": {
     "end_time": "2024-05-12T15:52:27.188221Z",
     "start_time": "2024-05-12T15:52:27.183217Z"
    }
   },
   "cell_type": "code",
   "source": "failed_heading",
   "id": "1fe3180243fcbea7",
   "outputs": [
    {
     "data": {
      "text/plain": [
       "{'180': {'heading': 0.0, 'target': 1.0, 'tool': 1.0},\n",
       " '417': {'heading': 0.0, 'target': 1.0, 'tool': 1.0},\n",
       " '689': {'heading': 0.0, 'target': 1.0, 'tool': 1.0},\n",
       " '800': {'heading': 0.0, 'target': 0.888888888888889, 'tool': 1.0},\n",
       " '813': {'heading': 0.0, 'target': 1.0, 'tool': 1.0},\n",
       " '897': {'heading': 0.0, 'target': 1.0, 'tool': 1.0},\n",
       " '986': {'heading': 0.0, 'target': 1.0, 'tool': 1.0},\n",
       " '1106': {'heading': 0.0, 'target': 1.0, 'tool': 1.0},\n",
       " '1111': {'heading': 0.0, 'target': 1.0, 'tool': 1.0},\n",
       " '1362': {'heading': 0.0, 'target': 1.0, 'tool': 1.0},\n",
       " '1587': {'heading': 0.0, 'target': 1.0, 'tool': 1.0},\n",
       " '1948': {'heading': 0.0, 'target': 0.0, 'tool': 1.0},\n",
       " '2048': {'heading': 0.0, 'target': 1.0, 'tool': 1.0},\n",
       " '2411': {'heading': 0.0, 'target': 1.0, 'tool': 1.0},\n",
       " '2413': {'heading': 0.0, 'target': 1.0, 'tool': 1.0},\n",
       " '2460': {'heading': 0.0, 'target': 1.0, 'tool': 1.0},\n",
       " '2572': {'heading': 0.0, 'target': 1.0, 'tool': 1.0},\n",
       " '2643': {'heading': 0.0, 'target': 1.0, 'tool': 1.0},\n",
       " '3114': {'heading': 0.0, 'target': 1.0, 'tool': 1.0},\n",
       " '3368': {'heading': 0.0, 'target': 1.0, 'tool': 1.0}}"
      ]
     },
     "execution_count": 36,
     "metadata": {},
     "output_type": "execute_result"
    }
   ],
   "execution_count": 36
  }
 ],
 "metadata": {
  "kernelspec": {
   "display_name": "Python 3",
   "language": "python",
   "name": "python3"
  },
  "language_info": {
   "codemirror_mode": {
    "name": "ipython",
    "version": 2
   },
   "file_extension": ".py",
   "mimetype": "text/x-python",
   "name": "python",
   "nbconvert_exporter": "python",
   "pygments_lexer": "ipython2",
   "version": "2.7.6"
  }
 },
 "nbformat": 4,
 "nbformat_minor": 5
}
