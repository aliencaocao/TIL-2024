{
 "cells": [
  {
   "cell_type": "code",
   "id": "initial_id",
   "metadata": {
    "collapsed": true,
    "ExecuteTime": {
     "end_time": "2024-05-15T16:03:13.600427Z",
     "start_time": "2024-05-15T16:03:13.589893Z"
    }
   },
   "source": "import orjson",
   "outputs": [],
   "execution_count": 5
  },
  {
   "metadata": {
    "ExecuteTime": {
     "end_time": "2024-05-15T17:16:10.608934Z",
     "start_time": "2024-05-15T17:16:10.537778Z"
    }
   },
   "cell_type": "code",
   "source": [
    "with open('eval_results/gorilla-openfunctions-v2-5.0bpw-h6-exl2-pretrained_score.json', 'rb') as f:\n",
    "    results = orjson.loads(f.read())\n",
    "with open('eval_outputs/gorilla-openfunctions-v2-5.0bpw-h6-exl2-pretrained.json', 'rb') as f:\n",
    "    infer_output = orjson.loads(f.read())\n",
    "with open('../../data/nlp.jsonl', 'rb') as f:\n",
    "    label = [orjson.loads(line.strip()) for line in f if line.strip() != \"\"]"
   ],
   "id": "fbbebb80f4a29089",
   "outputs": [],
   "execution_count": 14
  },
  {
   "metadata": {
    "ExecuteTime": {
     "end_time": "2024-05-15T17:16:11.248129Z",
     "start_time": "2024-05-15T17:16:11.242840Z"
    }
   },
   "cell_type": "code",
   "source": [
    "failed = {k: v for k, v in results.items() if v['target'] < 1 or v['tool'] < 1}\n",
    "failed_heading = {k: v for k, v in results.items() if v['heading'] < 1}"
   ],
   "id": "1d94a92ec66e4191",
   "outputs": [],
   "execution_count": 15
  },
  {
   "metadata": {
    "ExecuteTime": {
     "end_time": "2024-05-15T16:03:16.910051Z",
     "start_time": "2024-05-15T16:03:16.896055Z"
    }
   },
   "cell_type": "code",
   "source": "# 230 Turret Foxtrot, engage the target at heading two seven five, red and yellow missile, deploy surface-to-air missiles. Turret Foxtrot, prepare for strike. It give [{'heading': '275', 'tool': 'red and yellow missile', 'target': 'deploy surface-to-air missiles'}]",
   "id": "47b5238cd759ad25",
   "outputs": [],
   "execution_count": 8
  },
  {
   "metadata": {
    "ExecuteTime": {
     "end_time": "2024-05-15T17:16:20.718860Z",
     "start_time": "2024-05-15T17:16:20.709901Z"
    }
   },
   "cell_type": "code",
   "source": "failed_heading",
   "id": "1fe3180243fcbea7",
   "outputs": [
    {
     "data": {
      "text/plain": [
       "{'54': {'heading': 0.0, 'target': 0, 'tool': 0},\n",
       " '68': {'heading': 0.0, 'target': 0, 'tool': 0},\n",
       " '133': {'heading': 0.0, 'target': 0, 'tool': 0},\n",
       " '247': {'heading': 0.0, 'target': 0, 'tool': 0},\n",
       " '330': {'heading': 0.0, 'target': 0, 'tool': 0},\n",
       " '359': {'heading': 0.0, 'target': 0, 'tool': 0},\n",
       " '511': {'heading': 0.0, 'target': 0, 'tool': 0},\n",
       " '773': {'heading': 0.0, 'target': 0, 'tool': 0},\n",
       " '788': {'heading': 0.0, 'target': 0, 'tool': 0},\n",
       " '949': {'heading': 0.0, 'target': 0, 'tool': 0},\n",
       " '1117': {'heading': 0.0, 'target': 0, 'tool': 0},\n",
       " '1174': {'heading': 0.0, 'target': 0, 'tool': 0},\n",
       " '1254': {'heading': 0.0, 'target': 0, 'tool': 0},\n",
       " '1257': {'heading': 0.0, 'target': 0, 'tool': 0},\n",
       " '1266': {'heading': 0.0, 'target': 0, 'tool': 0},\n",
       " '1268': {'heading': 0.0, 'target': 0, 'tool': 0},\n",
       " '1282': {'heading': 0.0, 'target': 0, 'tool': 0},\n",
       " '1337': {'heading': 0.0, 'target': 0, 'tool': 0},\n",
       " '1361': {'heading': 0.0, 'target': 0, 'tool': 0},\n",
       " '1376': {'heading': 0.0, 'target': 0, 'tool': 0},\n",
       " '1443': {'heading': 0.0, 'target': 0, 'tool': 0},\n",
       " '1479': {'heading': 0.0, 'target': 0, 'tool': 0},\n",
       " '1608': {'heading': 0.0, 'target': 0, 'tool': 0},\n",
       " '1694': {'heading': 0.0, 'target': 0, 'tool': 0},\n",
       " '1708': {'heading': 0.0, 'target': 0, 'tool': 0},\n",
       " '1776': {'heading': 0.0, 'target': 0, 'tool': 0},\n",
       " '1864': {'heading': 0.0, 'target': 0, 'tool': 0},\n",
       " '1877': {'heading': 0.0, 'target': 0, 'tool': 0},\n",
       " '1953': {'heading': 0.0, 'target': 0, 'tool': 0},\n",
       " '1988': {'heading': 0.0, 'target': 0, 'tool': 0},\n",
       " '2046': {'heading': 0.0, 'target': 0, 'tool': 0},\n",
       " '2118': {'heading': 0.0, 'target': 0, 'tool': 0},\n",
       " '2154': {'heading': 0.0, 'target': 0, 'tool': 0},\n",
       " '2188': {'heading': 0.0, 'target': 0, 'tool': 0},\n",
       " '2207': {'heading': 0.0, 'target': 0, 'tool': 0},\n",
       " '2211': {'heading': 0.0, 'target': 0, 'tool': 0},\n",
       " '2264': {'heading': 0.0, 'target': 0, 'tool': 0},\n",
       " '2324': {'heading': 0.0, 'target': 0, 'tool': 0},\n",
       " '2598': {'heading': 0.0, 'target': 0, 'tool': 0},\n",
       " '2880': {'heading': 0.0, 'target': 0, 'tool': 0},\n",
       " '2887': {'heading': 0.0, 'target': 0, 'tool': 0},\n",
       " '3003': {'heading': 0.0, 'target': 0, 'tool': 0},\n",
       " '3045': {'heading': 0.0, 'target': 0, 'tool': 0},\n",
       " '3117': {'heading': 0.0, 'target': 0, 'tool': 0},\n",
       " '3213': {'heading': 0.0, 'target': 0, 'tool': 0},\n",
       " '3236': {'heading': 0.0, 'target': 0, 'tool': 0},\n",
       " '3302': {'heading': 0.0, 'target': 0, 'tool': 0},\n",
       " '3330': {'heading': 0.0, 'target': 0, 'tool': 0},\n",
       " '3432': {'heading': 0.0, 'target': 0, 'tool': 0}}"
      ]
     },
     "execution_count": 17,
     "metadata": {},
     "output_type": "execute_result"
    }
   ],
   "execution_count": 17
  }
 ],
 "metadata": {
  "kernelspec": {
   "display_name": "Python 3",
   "language": "python",
   "name": "python3"
  },
  "language_info": {
   "codemirror_mode": {
    "name": "ipython",
    "version": 2
   },
   "file_extension": ".py",
   "mimetype": "text/x-python",
   "name": "python",
   "nbconvert_exporter": "python",
   "pygments_lexer": "ipython2",
   "version": "2.7.6"
  }
 },
 "nbformat": 4,
 "nbformat_minor": 5
}
