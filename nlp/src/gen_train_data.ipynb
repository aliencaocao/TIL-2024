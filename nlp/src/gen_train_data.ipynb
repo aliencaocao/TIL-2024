{
 "cells": [
  {
   "cell_type": "code",
   "id": "initial_id",
   "metadata": {
    "collapsed": true,
    "ExecuteTime": {
     "end_time": "2024-05-16T06:40:13.653281Z",
     "start_time": "2024-05-16T06:40:13.619255Z"
    }
   },
   "source": "import orjson",
   "outputs": [],
   "execution_count": 1
  },
  {
   "metadata": {
    "ExecuteTime": {
     "end_time": "2024-05-16T06:56:37.124575Z",
     "start_time": "2024-05-16T06:56:37.103502Z"
    }
   },
   "cell_type": "code",
   "source": [
    "with open('../../data/nlp.jsonl', 'rb') as f:\n",
    "    label = [orjson.loads(line.strip()) for line in f if line.strip() != \"\"]"
   ],
   "id": "b18edc5b68e8ab60",
   "outputs": [],
   "execution_count": 3
  },
  {
   "metadata": {
    "ExecuteTime": {
     "end_time": "2024-05-16T06:57:54.118711Z",
     "start_time": "2024-05-16T06:57:54.098509Z"
    }
   },
   "cell_type": "code",
   "source": [
    "give_none_if_not_specified_string = ' Give None if not specified.'\n",
    "functions = [\n",
    "{\n",
    "    \"name\": \"control_turret\",\n",
    "    \"description\": \"Control the turret by giving it heading, tool to use and target description (some of them may be known already)\",\n",
    "    \"parameters\": {\n",
    "        \"type\": \"object\",\n",
    "        \"properties\": {\n",
    "            \"heading\": {\"type\": \"string\", \"description\": f\"Heading of target in three arabic numbers and multiples of five (005 to 360).{give_none_if_not_specified_string}\"},\n",
    "            \"tool\": {\"type\": \"string\", \"description\": f\"Tool to use or deploy.{give_none_if_not_specified_string}\"},\n",
    "            \"target\": {\"type\": \"string\", \"description\": f\"Description of the target or enemy, exclude any quantifiers like 'the' or 'a'. It is a phrase that describe the appearance of the target like its color and type. Include ONLY the appearance and NOTHING else like its heading.{give_none_if_not_specified_string}\"}\n",
    "        },\n",
    "        \"required\": [\"heading\", \"tool\", \"target\"],\n",
    "    },\n",
    "}\n",
    "]\n",
    "functions_string = orjson.dumps(functions).decode('utf-8')\n",
    "system_prompt = 'Convert the given instruction to turret into a function call to the control_turret function. Strictly ONLY one call is needed. If there are multiple instructions, use the FIRST one only.\\n'\n",
    "\n",
    "def format_data(example):\n",
    "    user_query = example['transcript']\n",
    "    heading, tool, target = example['heading'], example['tool'], example['target']\n",
    "    return f'{system_prompt}### Instruction: <<function>>{functions_string}\\n<<question>>{user_query}\\n### Response: <<function>>control_turret(heading=\"{heading}\",tool=\"{tool}\",target=\"{target}\")'"
   ],
   "id": "7a3a6ae563c47c7d",
   "outputs": [],
   "execution_count": 10
  },
  {
   "metadata": {
    "ExecuteTime": {
     "end_time": "2024-05-16T06:57:56.174482Z",
     "start_time": "2024-05-16T06:57:56.162462Z"
    }
   },
   "cell_type": "code",
   "source": "formatted_data = [format_data(example) for example in label]",
   "id": "38609d63fbcb24fa",
   "outputs": [],
   "execution_count": 11
  },
  {
   "metadata": {
    "ExecuteTime": {
     "end_time": "2024-05-16T06:57:57.685515Z",
     "start_time": "2024-05-16T06:57:57.677784Z"
    }
   },
   "cell_type": "code",
   "source": "formatted_data[0]",
   "id": "af502be8ac978739",
   "outputs": [
    {
     "data": {
      "text/plain": [
       "'Convert the given instruction to turret into a function call to the control_turret function. Strictly ONLY one call is needed. If there are multiple instructions, use the FIRST one only.\\n### Instruction: <<function>>[{\"name\":\"control_turret\",\"description\":\"Control the turret by giving it heading, tool to use and target description (some of them may be known already)\",\"parameters\":{\"type\":\"object\",\"properties\":{\"heading\":{\"type\":\"string\",\"description\":\"Heading of target in three arabic numbers and multiples of five (005 to 360). Give None if not specified.\"},\"tool\":{\"type\":\"string\",\"description\":\"Tool to use or deploy. Give None if not specified.\"},\"target\":{\"type\":\"string\",\"description\":\"Description of the target or enemy, exclude any quantifiers like \\'the\\' or \\'a\\'. It is a phrase that describe the appearance of the target like its color and type. Include ONLY the appearance and NOTHING else like its heading. Give None if not specified.\"}},\"required\":[\"heading\",\"tool\",\"target\"]}}]\\n<<question>>Turret, prepare to deploy electromagnetic pulse. Heading zero six five, target is grey and white fighter jet. Engage when ready.\\n### Response: <<function>>control_turret(heading=\"065\",tool=\"electromagnetic pulse\",target=\"grey and white fighter jet\")'"
      ]
     },
     "execution_count": 12,
     "metadata": {},
     "output_type": "execute_result"
    }
   ],
   "execution_count": 12
  }
 ],
 "metadata": {
  "kernelspec": {
   "display_name": "Python 3",
   "language": "python",
   "name": "python3"
  },
  "language_info": {
   "codemirror_mode": {
    "name": "ipython",
    "version": 2
   },
   "file_extension": ".py",
   "mimetype": "text/x-python",
   "name": "python",
   "nbconvert_exporter": "python",
   "pygments_lexer": "ipython2",
   "version": "2.7.6"
  }
 },
 "nbformat": 4,
 "nbformat_minor": 5
}
